{
 "cells": [
  {
   "cell_type": "markdown",
   "metadata": {
    "id": "mRs770o5H1tN"
   },
   "source": [
    "# 1 - Simple Question Classification\n",
    "\n",
    "In this series, we'll develop a deep learning model capable of classifying questions into predefined categories using PyTorch and TorchText. This task will be performed on the [TREC question dataset](https://cogcomp.seas.upenn.edu/Data/QA/QC/), a collection of questions designed to be classified into a small set of categories.\n",
    "\n",
    "In this initial notebook, we aim to grasp the fundamental concepts without a primary focus on achieving high accuracy. Subsequent notebooks will expand upon this foundation to improve the model's performance.\n",
    "\n",
    "### Introduction\n",
    "\n",
    "For analyzing sequences such as sentences in questions, we'll utilize a **recurrent neural network** (RNN). RNNs are particularly suited for sequence analysis, as they process sequences of words, $X=\\{x_1, ..., x_T\\}$, one at a time. Each word in the sequence is associated with a _hidden state_, $h$, which is updated sequentially. The RNN operates _recurrently_ by taking in the current word $x_t$ and the hidden state from the preceding word, $h_{t-1}$, to generate the next hidden state, $h_t$.\n",
    "\n",
    "$$h_t = \\text{RNN}(x_t, h_{t-1})$$\n",
    "\n",
    "Upon processing the last word in the question, $x_T$, and obtaining the final hidden state, $h_T$, this state is passed through a linear layer, $f$, to predict the question's category, $\\hat{y} = f(h_T)$."
   ]
  },
  {
   "cell_type": "markdown",
   "metadata": {
    "id": "q7PlOzNmH1tP"
   },
   "source": [
    "## Preparing Data\n",
    "\n",
    "For processing textual data in PyTorch, TorchText provides a powerful abstraction through the concept of `Field`. These define how to process your data, which, in the context of the TREC question classification task, includes the raw text of the question and its category label.\n",
    "\n",
    "### Fields Definition\n",
    "\n",
    "To process the questions and their labels, we define two fields: `TEXT` for the questions and `LABEL` for the categories.\n",
    "\n",
    "- The `TEXT` field specifies how the questions should be processed. We employ `tokenize='spacy'` as an argument to use the [spaCy](https://spacy.io) tokenizer, which is more sophisticated than simple space-based tokenization. This requires specifying `tokenizer_language` to indicate the spaCy model to use, typically `en_core_web_sm` for English text. This model must be downloaded prior to running your notebook using the command: `python -m spacy download en_core_web_sm`.\n",
    "\n",
    "- The `LABEL` field is managed by a `LabelField`, a variant of the `Field` designed for handling categorical data. The `dtype` argument will be clarified subsequently, ensuring the labels are processed appropriately for classification.\n",
    "\n",
    "For a deeper dive into `Fields` and their configuration, refer to [this Documentation](https://torchtext.readthedocs.io/en/latest/data.html#field).\n",
    "\n",
    "### Random Seed for Reproducibility\n",
    "\n",
    "To ensure that our experiments can be replicated, we set the random seed at the beginning of our preprocessing script. This controls the randomness involved in splitting the dataset and initializing the model weights, making our results reproducible.\n"
   ]
  },
  {
   "cell_type": "code",
   "execution_count": 1,
   "metadata": {
    "id": "hVuNibrCUAdf",
    "ExecuteTime": {
     "end_time": "2024-03-22T11:33:50.084633Z",
     "start_time": "2024-03-22T11:33:49.406596Z"
    }
   },
   "outputs": [],
   "source": [
    "import torch\n",
    "import numpy as np\n",
    "import random\n",
    "\n",
    "SEED = 1234\n",
    "\n",
    "random.seed(SEED)\n",
    "np.random.seed(SEED)\n",
    "torch.manual_seed(SEED)\n",
    "torch.backends.cudnn.deterministic = True"
   ]
  },
  {
   "cell_type": "code",
   "execution_count": 2,
   "metadata": {
    "scrolled": true,
    "ExecuteTime": {
     "end_time": "2024-03-22T11:33:51.141296Z",
     "start_time": "2024-03-22T11:33:50.085693Z"
    }
   },
   "outputs": [
    {
     "name": "stdout",
     "output_type": "stream",
     "text": [
      "Requirement already satisfied: spacy in /Library/Frameworks/Python.framework/Versions/3.10/lib/python3.10/site-packages (3.7.4)\r\n",
      "Requirement already satisfied: spacy-legacy<3.1.0,>=3.0.11 in /Library/Frameworks/Python.framework/Versions/3.10/lib/python3.10/site-packages (from spacy) (3.0.12)\r\n",
      "Requirement already satisfied: spacy-loggers<2.0.0,>=1.0.0 in /Library/Frameworks/Python.framework/Versions/3.10/lib/python3.10/site-packages (from spacy) (1.0.5)\r\n",
      "Requirement already satisfied: murmurhash<1.1.0,>=0.28.0 in /Library/Frameworks/Python.framework/Versions/3.10/lib/python3.10/site-packages (from spacy) (1.0.10)\r\n",
      "Requirement already satisfied: cymem<2.1.0,>=2.0.2 in /Library/Frameworks/Python.framework/Versions/3.10/lib/python3.10/site-packages (from spacy) (2.0.8)\r\n",
      "Requirement already satisfied: preshed<3.1.0,>=3.0.2 in /Library/Frameworks/Python.framework/Versions/3.10/lib/python3.10/site-packages (from spacy) (3.0.9)\r\n",
      "Requirement already satisfied: thinc<8.3.0,>=8.2.2 in /Library/Frameworks/Python.framework/Versions/3.10/lib/python3.10/site-packages (from spacy) (8.2.3)\r\n",
      "Requirement already satisfied: wasabi<1.2.0,>=0.9.1 in /Library/Frameworks/Python.framework/Versions/3.10/lib/python3.10/site-packages (from spacy) (1.1.2)\r\n",
      "Requirement already satisfied: srsly<3.0.0,>=2.4.3 in /Library/Frameworks/Python.framework/Versions/3.10/lib/python3.10/site-packages (from spacy) (2.4.8)\r\n",
      "Requirement already satisfied: catalogue<2.1.0,>=2.0.6 in /Library/Frameworks/Python.framework/Versions/3.10/lib/python3.10/site-packages (from spacy) (2.0.10)\r\n",
      "Requirement already satisfied: weasel<0.4.0,>=0.1.0 in /Library/Frameworks/Python.framework/Versions/3.10/lib/python3.10/site-packages (from spacy) (0.3.4)\r\n",
      "Requirement already satisfied: typer<0.10.0,>=0.3.0 in /Library/Frameworks/Python.framework/Versions/3.10/lib/python3.10/site-packages (from spacy) (0.9.0)\r\n",
      "Requirement already satisfied: smart-open<7.0.0,>=5.2.1 in /Library/Frameworks/Python.framework/Versions/3.10/lib/python3.10/site-packages (from spacy) (6.4.0)\r\n",
      "Requirement already satisfied: tqdm<5.0.0,>=4.38.0 in /Library/Frameworks/Python.framework/Versions/3.10/lib/python3.10/site-packages (from spacy) (4.66.1)\r\n",
      "Requirement already satisfied: requests<3.0.0,>=2.13.0 in /Library/Frameworks/Python.framework/Versions/3.10/lib/python3.10/site-packages (from spacy) (2.31.0)\r\n",
      "Requirement already satisfied: pydantic!=1.8,!=1.8.1,<3.0.0,>=1.7.4 in /Library/Frameworks/Python.framework/Versions/3.10/lib/python3.10/site-packages (from spacy) (2.6.4)\r\n",
      "Requirement already satisfied: jinja2 in /Library/Frameworks/Python.framework/Versions/3.10/lib/python3.10/site-packages (from spacy) (3.1.3)\r\n",
      "Requirement already satisfied: setuptools in /Library/Frameworks/Python.framework/Versions/3.10/lib/python3.10/site-packages (from spacy) (65.5.0)\r\n",
      "Requirement already satisfied: packaging>=20.0 in /Library/Frameworks/Python.framework/Versions/3.10/lib/python3.10/site-packages (from spacy) (24.0)\r\n",
      "Requirement already satisfied: langcodes<4.0.0,>=3.2.0 in /Library/Frameworks/Python.framework/Versions/3.10/lib/python3.10/site-packages (from spacy) (3.3.0)\r\n",
      "Requirement already satisfied: numpy>=1.19.0 in /Library/Frameworks/Python.framework/Versions/3.10/lib/python3.10/site-packages (from spacy) (1.26.2)\r\n",
      "Requirement already satisfied: annotated-types>=0.4.0 in /Library/Frameworks/Python.framework/Versions/3.10/lib/python3.10/site-packages (from pydantic!=1.8,!=1.8.1,<3.0.0,>=1.7.4->spacy) (0.6.0)\r\n",
      "Requirement already satisfied: pydantic-core==2.16.3 in /Library/Frameworks/Python.framework/Versions/3.10/lib/python3.10/site-packages (from pydantic!=1.8,!=1.8.1,<3.0.0,>=1.7.4->spacy) (2.16.3)\r\n",
      "Requirement already satisfied: typing-extensions>=4.6.1 in /Library/Frameworks/Python.framework/Versions/3.10/lib/python3.10/site-packages (from pydantic!=1.8,!=1.8.1,<3.0.0,>=1.7.4->spacy) (4.10.0)\r\n",
      "Requirement already satisfied: charset-normalizer<4,>=2 in /Library/Frameworks/Python.framework/Versions/3.10/lib/python3.10/site-packages (from requests<3.0.0,>=2.13.0->spacy) (3.3.2)\r\n",
      "Requirement already satisfied: idna<4,>=2.5 in /Library/Frameworks/Python.framework/Versions/3.10/lib/python3.10/site-packages (from requests<3.0.0,>=2.13.0->spacy) (3.6)\r\n",
      "Requirement already satisfied: urllib3<3,>=1.21.1 in /Library/Frameworks/Python.framework/Versions/3.10/lib/python3.10/site-packages (from requests<3.0.0,>=2.13.0->spacy) (2.2.1)\r\n",
      "Requirement already satisfied: certifi>=2017.4.17 in /Library/Frameworks/Python.framework/Versions/3.10/lib/python3.10/site-packages (from requests<3.0.0,>=2.13.0->spacy) (2024.2.2)\r\n",
      "Requirement already satisfied: blis<0.8.0,>=0.7.8 in /Library/Frameworks/Python.framework/Versions/3.10/lib/python3.10/site-packages (from thinc<8.3.0,>=8.2.2->spacy) (0.7.11)\r\n",
      "Requirement already satisfied: confection<1.0.0,>=0.0.1 in /Library/Frameworks/Python.framework/Versions/3.10/lib/python3.10/site-packages (from thinc<8.3.0,>=8.2.2->spacy) (0.1.4)\r\n",
      "Requirement already satisfied: click<9.0.0,>=7.1.1 in /Library/Frameworks/Python.framework/Versions/3.10/lib/python3.10/site-packages (from typer<0.10.0,>=0.3.0->spacy) (8.1.7)\r\n",
      "Requirement already satisfied: cloudpathlib<0.17.0,>=0.7.0 in /Library/Frameworks/Python.framework/Versions/3.10/lib/python3.10/site-packages (from weasel<0.4.0,>=0.1.0->spacy) (0.16.0)\r\n",
      "Requirement already satisfied: MarkupSafe>=2.0 in /Library/Frameworks/Python.framework/Versions/3.10/lib/python3.10/site-packages (from jinja2->spacy) (2.1.5)\r\n"
     ]
    }
   ],
   "source": [
    "!pip install spacy"
   ]
  },
  {
   "cell_type": "code",
   "execution_count": 3,
   "metadata": {
    "scrolled": true,
    "ExecuteTime": {
     "end_time": "2024-03-22T11:34:00.203258Z",
     "start_time": "2024-03-22T11:33:51.142599Z"
    }
   },
   "outputs": [
    {
     "name": "stdout",
     "output_type": "stream",
     "text": [
      "Collecting en-core-web-sm==3.7.1\r\n",
      "  Downloading https://github.com/explosion/spacy-models/releases/download/en_core_web_sm-3.7.1/en_core_web_sm-3.7.1-py3-none-any.whl (12.8 MB)\r\n",
      "\u001B[2K     \u001B[90m━━━━━━━━━━━━━━━━━━━━━━━━━━━━━━━━━━━━━━━━\u001B[0m \u001B[32m12.8/12.8 MB\u001B[0m \u001B[31m3.6 MB/s\u001B[0m eta \u001B[36m0:00:00\u001B[0m00:01\u001B[0m00:01\u001B[0m\r\n",
      "\u001B[?25hRequirement already satisfied: spacy<3.8.0,>=3.7.2 in /Library/Frameworks/Python.framework/Versions/3.10/lib/python3.10/site-packages (from en-core-web-sm==3.7.1) (3.7.4)\r\n",
      "Requirement already satisfied: spacy-legacy<3.1.0,>=3.0.11 in /Library/Frameworks/Python.framework/Versions/3.10/lib/python3.10/site-packages (from spacy<3.8.0,>=3.7.2->en-core-web-sm==3.7.1) (3.0.12)\r\n",
      "Requirement already satisfied: spacy-loggers<2.0.0,>=1.0.0 in /Library/Frameworks/Python.framework/Versions/3.10/lib/python3.10/site-packages (from spacy<3.8.0,>=3.7.2->en-core-web-sm==3.7.1) (1.0.5)\r\n",
      "Requirement already satisfied: murmurhash<1.1.0,>=0.28.0 in /Library/Frameworks/Python.framework/Versions/3.10/lib/python3.10/site-packages (from spacy<3.8.0,>=3.7.2->en-core-web-sm==3.7.1) (1.0.10)\r\n",
      "Requirement already satisfied: cymem<2.1.0,>=2.0.2 in /Library/Frameworks/Python.framework/Versions/3.10/lib/python3.10/site-packages (from spacy<3.8.0,>=3.7.2->en-core-web-sm==3.7.1) (2.0.8)\r\n",
      "Requirement already satisfied: preshed<3.1.0,>=3.0.2 in /Library/Frameworks/Python.framework/Versions/3.10/lib/python3.10/site-packages (from spacy<3.8.0,>=3.7.2->en-core-web-sm==3.7.1) (3.0.9)\r\n",
      "Requirement already satisfied: thinc<8.3.0,>=8.2.2 in /Library/Frameworks/Python.framework/Versions/3.10/lib/python3.10/site-packages (from spacy<3.8.0,>=3.7.2->en-core-web-sm==3.7.1) (8.2.3)\r\n",
      "Requirement already satisfied: wasabi<1.2.0,>=0.9.1 in /Library/Frameworks/Python.framework/Versions/3.10/lib/python3.10/site-packages (from spacy<3.8.0,>=3.7.2->en-core-web-sm==3.7.1) (1.1.2)\r\n",
      "Requirement already satisfied: srsly<3.0.0,>=2.4.3 in /Library/Frameworks/Python.framework/Versions/3.10/lib/python3.10/site-packages (from spacy<3.8.0,>=3.7.2->en-core-web-sm==3.7.1) (2.4.8)\r\n",
      "Requirement already satisfied: catalogue<2.1.0,>=2.0.6 in /Library/Frameworks/Python.framework/Versions/3.10/lib/python3.10/site-packages (from spacy<3.8.0,>=3.7.2->en-core-web-sm==3.7.1) (2.0.10)\r\n",
      "Requirement already satisfied: weasel<0.4.0,>=0.1.0 in /Library/Frameworks/Python.framework/Versions/3.10/lib/python3.10/site-packages (from spacy<3.8.0,>=3.7.2->en-core-web-sm==3.7.1) (0.3.4)\r\n",
      "Requirement already satisfied: typer<0.10.0,>=0.3.0 in /Library/Frameworks/Python.framework/Versions/3.10/lib/python3.10/site-packages (from spacy<3.8.0,>=3.7.2->en-core-web-sm==3.7.1) (0.9.0)\r\n",
      "Requirement already satisfied: smart-open<7.0.0,>=5.2.1 in /Library/Frameworks/Python.framework/Versions/3.10/lib/python3.10/site-packages (from spacy<3.8.0,>=3.7.2->en-core-web-sm==3.7.1) (6.4.0)\r\n",
      "Requirement already satisfied: tqdm<5.0.0,>=4.38.0 in /Library/Frameworks/Python.framework/Versions/3.10/lib/python3.10/site-packages (from spacy<3.8.0,>=3.7.2->en-core-web-sm==3.7.1) (4.66.1)\r\n",
      "Requirement already satisfied: requests<3.0.0,>=2.13.0 in /Library/Frameworks/Python.framework/Versions/3.10/lib/python3.10/site-packages (from spacy<3.8.0,>=3.7.2->en-core-web-sm==3.7.1) (2.31.0)\r\n",
      "Requirement already satisfied: pydantic!=1.8,!=1.8.1,<3.0.0,>=1.7.4 in /Library/Frameworks/Python.framework/Versions/3.10/lib/python3.10/site-packages (from spacy<3.8.0,>=3.7.2->en-core-web-sm==3.7.1) (2.6.4)\r\n",
      "Requirement already satisfied: jinja2 in /Library/Frameworks/Python.framework/Versions/3.10/lib/python3.10/site-packages (from spacy<3.8.0,>=3.7.2->en-core-web-sm==3.7.1) (3.1.3)\r\n",
      "Requirement already satisfied: setuptools in /Library/Frameworks/Python.framework/Versions/3.10/lib/python3.10/site-packages (from spacy<3.8.0,>=3.7.2->en-core-web-sm==3.7.1) (65.5.0)\r\n",
      "Requirement already satisfied: packaging>=20.0 in /Library/Frameworks/Python.framework/Versions/3.10/lib/python3.10/site-packages (from spacy<3.8.0,>=3.7.2->en-core-web-sm==3.7.1) (24.0)\r\n",
      "Requirement already satisfied: langcodes<4.0.0,>=3.2.0 in /Library/Frameworks/Python.framework/Versions/3.10/lib/python3.10/site-packages (from spacy<3.8.0,>=3.7.2->en-core-web-sm==3.7.1) (3.3.0)\r\n",
      "Requirement already satisfied: numpy>=1.19.0 in /Library/Frameworks/Python.framework/Versions/3.10/lib/python3.10/site-packages (from spacy<3.8.0,>=3.7.2->en-core-web-sm==3.7.1) (1.26.2)\r\n",
      "Requirement already satisfied: annotated-types>=0.4.0 in /Library/Frameworks/Python.framework/Versions/3.10/lib/python3.10/site-packages (from pydantic!=1.8,!=1.8.1,<3.0.0,>=1.7.4->spacy<3.8.0,>=3.7.2->en-core-web-sm==3.7.1) (0.6.0)\r\n",
      "Requirement already satisfied: pydantic-core==2.16.3 in /Library/Frameworks/Python.framework/Versions/3.10/lib/python3.10/site-packages (from pydantic!=1.8,!=1.8.1,<3.0.0,>=1.7.4->spacy<3.8.0,>=3.7.2->en-core-web-sm==3.7.1) (2.16.3)\r\n",
      "Requirement already satisfied: typing-extensions>=4.6.1 in /Library/Frameworks/Python.framework/Versions/3.10/lib/python3.10/site-packages (from pydantic!=1.8,!=1.8.1,<3.0.0,>=1.7.4->spacy<3.8.0,>=3.7.2->en-core-web-sm==3.7.1) (4.10.0)\r\n",
      "Requirement already satisfied: charset-normalizer<4,>=2 in /Library/Frameworks/Python.framework/Versions/3.10/lib/python3.10/site-packages (from requests<3.0.0,>=2.13.0->spacy<3.8.0,>=3.7.2->en-core-web-sm==3.7.1) (3.3.2)\r\n",
      "Requirement already satisfied: idna<4,>=2.5 in /Library/Frameworks/Python.framework/Versions/3.10/lib/python3.10/site-packages (from requests<3.0.0,>=2.13.0->spacy<3.8.0,>=3.7.2->en-core-web-sm==3.7.1) (3.6)\r\n",
      "Requirement already satisfied: urllib3<3,>=1.21.1 in /Library/Frameworks/Python.framework/Versions/3.10/lib/python3.10/site-packages (from requests<3.0.0,>=2.13.0->spacy<3.8.0,>=3.7.2->en-core-web-sm==3.7.1) (2.2.1)\r\n",
      "Requirement already satisfied: certifi>=2017.4.17 in /Library/Frameworks/Python.framework/Versions/3.10/lib/python3.10/site-packages (from requests<3.0.0,>=2.13.0->spacy<3.8.0,>=3.7.2->en-core-web-sm==3.7.1) (2024.2.2)\r\n",
      "Requirement already satisfied: blis<0.8.0,>=0.7.8 in /Library/Frameworks/Python.framework/Versions/3.10/lib/python3.10/site-packages (from thinc<8.3.0,>=8.2.2->spacy<3.8.0,>=3.7.2->en-core-web-sm==3.7.1) (0.7.11)\r\n",
      "Requirement already satisfied: confection<1.0.0,>=0.0.1 in /Library/Frameworks/Python.framework/Versions/3.10/lib/python3.10/site-packages (from thinc<8.3.0,>=8.2.2->spacy<3.8.0,>=3.7.2->en-core-web-sm==3.7.1) (0.1.4)\r\n",
      "Requirement already satisfied: click<9.0.0,>=7.1.1 in /Library/Frameworks/Python.framework/Versions/3.10/lib/python3.10/site-packages (from typer<0.10.0,>=0.3.0->spacy<3.8.0,>=3.7.2->en-core-web-sm==3.7.1) (8.1.7)\r\n",
      "Requirement already satisfied: cloudpathlib<0.17.0,>=0.7.0 in /Library/Frameworks/Python.framework/Versions/3.10/lib/python3.10/site-packages (from weasel<0.4.0,>=0.1.0->spacy<3.8.0,>=3.7.2->en-core-web-sm==3.7.1) (0.16.0)\r\n",
      "Requirement already satisfied: MarkupSafe>=2.0 in /Library/Frameworks/Python.framework/Versions/3.10/lib/python3.10/site-packages (from jinja2->spacy<3.8.0,>=3.7.2->en-core-web-sm==3.7.1) (2.1.5)\r\n",
      "\u001B[38;5;2m✔ Download and installation successful\u001B[0m\r\n",
      "You can now load the package via spacy.load('en_core_web_sm')\r\n"
     ]
    }
   ],
   "source": [
    "import sys\n",
    "!{sys.executable} -m spacy download en_core_web_sm"
   ]
  },
  {
   "cell_type": "code",
   "execution_count": 4,
   "metadata": {
    "ExecuteTime": {
     "end_time": "2024-03-22T11:34:00.766211Z",
     "start_time": "2024-03-22T11:34:00.204253Z"
    }
   },
   "outputs": [],
   "source": [
    "import spacy\n",
    "\n",
    "nlp = spacy.load(\"en_core_web_sm\")"
   ]
  },
  {
   "cell_type": "code",
   "execution_count": 5,
   "metadata": {
    "colab": {
     "base_uri": "https://localhost:8080/"
    },
    "executionInfo": {
     "elapsed": 6309,
     "status": "ok",
     "timestamp": 1708247161452,
     "user": {
      "displayName": "Wenya Wang",
      "userId": "11693014802286625875"
     },
     "user_tz": -480
    },
    "id": "cD11k9FQIxzW",
    "outputId": "0d472058-3e02-4066-9e6d-4623c5b4dfc0",
    "scrolled": true,
    "ExecuteTime": {
     "end_time": "2024-03-22T11:34:01.664033Z",
     "start_time": "2024-03-22T11:34:00.767862Z"
    }
   },
   "outputs": [
    {
     "name": "stdout",
     "output_type": "stream",
     "text": [
      "Requirement already satisfied: torchtext==0.4.0 in /Library/Frameworks/Python.framework/Versions/3.10/lib/python3.10/site-packages (0.4.0)\r\n",
      "Requirement already satisfied: tqdm in /Library/Frameworks/Python.framework/Versions/3.10/lib/python3.10/site-packages (from torchtext==0.4.0) (4.66.1)\r\n",
      "Requirement already satisfied: requests in /Library/Frameworks/Python.framework/Versions/3.10/lib/python3.10/site-packages (from torchtext==0.4.0) (2.31.0)\r\n",
      "Requirement already satisfied: torch in /Library/Frameworks/Python.framework/Versions/3.10/lib/python3.10/site-packages (from torchtext==0.4.0) (2.2.1)\r\n",
      "Requirement already satisfied: numpy in /Library/Frameworks/Python.framework/Versions/3.10/lib/python3.10/site-packages (from torchtext==0.4.0) (1.26.2)\r\n",
      "Requirement already satisfied: six in /Library/Frameworks/Python.framework/Versions/3.10/lib/python3.10/site-packages (from torchtext==0.4.0) (1.16.0)\r\n",
      "Requirement already satisfied: charset-normalizer<4,>=2 in /Library/Frameworks/Python.framework/Versions/3.10/lib/python3.10/site-packages (from requests->torchtext==0.4.0) (3.3.2)\r\n",
      "Requirement already satisfied: idna<4,>=2.5 in /Library/Frameworks/Python.framework/Versions/3.10/lib/python3.10/site-packages (from requests->torchtext==0.4.0) (3.6)\r\n",
      "Requirement already satisfied: urllib3<3,>=1.21.1 in /Library/Frameworks/Python.framework/Versions/3.10/lib/python3.10/site-packages (from requests->torchtext==0.4.0) (2.2.1)\r\n",
      "Requirement already satisfied: certifi>=2017.4.17 in /Library/Frameworks/Python.framework/Versions/3.10/lib/python3.10/site-packages (from requests->torchtext==0.4.0) (2024.2.2)\r\n",
      "Requirement already satisfied: filelock in /Library/Frameworks/Python.framework/Versions/3.10/lib/python3.10/site-packages (from torch->torchtext==0.4.0) (3.13.1)\r\n",
      "Requirement already satisfied: typing-extensions>=4.8.0 in /Library/Frameworks/Python.framework/Versions/3.10/lib/python3.10/site-packages (from torch->torchtext==0.4.0) (4.10.0)\r\n",
      "Requirement already satisfied: sympy in /Library/Frameworks/Python.framework/Versions/3.10/lib/python3.10/site-packages (from torch->torchtext==0.4.0) (1.12)\r\n",
      "Requirement already satisfied: networkx in /Library/Frameworks/Python.framework/Versions/3.10/lib/python3.10/site-packages (from torch->torchtext==0.4.0) (3.2.1)\r\n",
      "Requirement already satisfied: jinja2 in /Library/Frameworks/Python.framework/Versions/3.10/lib/python3.10/site-packages (from torch->torchtext==0.4.0) (3.1.3)\r\n",
      "Requirement already satisfied: fsspec in /Library/Frameworks/Python.framework/Versions/3.10/lib/python3.10/site-packages (from torch->torchtext==0.4.0) (2024.3.1)\r\n",
      "Requirement already satisfied: MarkupSafe>=2.0 in /Library/Frameworks/Python.framework/Versions/3.10/lib/python3.10/site-packages (from jinja2->torch->torchtext==0.4.0) (2.1.5)\r\n",
      "Requirement already satisfied: mpmath>=0.19 in /Library/Frameworks/Python.framework/Versions/3.10/lib/python3.10/site-packages (from sympy->torch->torchtext==0.4.0) (1.3.0)\r\n"
     ]
    }
   ],
   "source": [
    "!{sys.executable} -m pip install  torchtext==0.4.0\n"
   ]
  },
  {
   "cell_type": "code",
   "execution_count": 6,
   "metadata": {
    "id": "diXAJf2jH1tQ",
    "ExecuteTime": {
     "end_time": "2024-03-22T11:34:01.913436Z",
     "start_time": "2024-03-22T11:34:01.665274Z"
    }
   },
   "outputs": [],
   "source": [
    "from torchtext import data\n",
    "import torch\n",
    "\n",
    "# For tokenization\n",
    "TEXT = data.Field(tokenize='spacy',\n",
    "                  tokenizer_language='en_core_web_sm',\n",
    "                  include_lengths=True)\n",
    "\n",
    "# For multi-class classification labels\n",
    "LABEL = data.LabelField()"
   ]
  },
  {
   "cell_type": "markdown",
   "metadata": {
    "id": "nX88mkuKH1tQ"
   },
   "source": [
    "Another convenient aspect of TorchText is its built-in support for widely recognized datasets in natural language processing (NLP).\n",
    "\n",
    "The code snippet below will automatically download the TREC question classification dataset and split it into standard train/test divisions as `torchtext.datasets` objects. It processes the data using the `Fields` we previously defined. The TREC dataset consists of thousands of questions that are categorized into both coarse-grained and fine-grained labels indicating the type of question (e.g., location, person, numeric information).\n",
    "\n",
    "\n",
    "\n",
    "**Note:** In this example, `fine_grained=False` specifies that we want to use the coarse label set. If you're interested in a more detailed classification, you can set `fine_grained=True` to use the fine-grained label set instead."
   ]
  },
  {
   "cell_type": "code",
   "execution_count": 7,
   "metadata": {
    "id": "nOTiebiKH1tR",
    "ExecuteTime": {
     "end_time": "2024-03-22T11:34:02.157256Z",
     "start_time": "2024-03-22T11:34:01.914254Z"
    }
   },
   "outputs": [],
   "source": [
    "from torchtext import datasets\n",
    "\n",
    "# Load the TREC dataset\n",
    "train_data, test_data = datasets.TREC.splits(TEXT, LABEL, fine_grained=False)"
   ]
  },
  {
   "cell_type": "markdown",
   "metadata": {
    "id": "afgL6u_GH1tR"
   },
   "source": [
    "We can see how many examples are in each split by checking their length."
   ]
  },
  {
   "cell_type": "code",
   "execution_count": 8,
   "metadata": {
    "colab": {
     "base_uri": "https://localhost:8080/"
    },
    "executionInfo": {
     "elapsed": 379,
     "status": "ok",
     "timestamp": 1708247177163,
     "user": {
      "displayName": "Wenya Wang",
      "userId": "11693014802286625875"
     },
     "user_tz": -480
    },
    "id": "ZRJ49dUVH1tR",
    "outputId": "a76b9361-f4d5-4c76-a221-e009deba7700",
    "ExecuteTime": {
     "end_time": "2024-03-22T11:34:02.159672Z",
     "start_time": "2024-03-22T11:34:02.157940Z"
    }
   },
   "outputs": [
    {
     "name": "stdout",
     "output_type": "stream",
     "text": [
      "Number of training examples: 5452\n",
      "Number of testing examples: 500\n"
     ]
    }
   ],
   "source": [
    "print(f'Number of training examples: {len(train_data)}')\n",
    "print(f'Number of testing examples: {len(test_data)}')"
   ]
  },
  {
   "cell_type": "markdown",
   "metadata": {
    "id": "WOZlrCq0H1tR"
   },
   "source": [
    "We can also check an example."
   ]
  },
  {
   "cell_type": "code",
   "execution_count": 9,
   "metadata": {
    "colab": {
     "base_uri": "https://localhost:8080/"
    },
    "executionInfo": {
     "elapsed": 409,
     "status": "ok",
     "timestamp": 1708247180234,
     "user": {
      "displayName": "Wenya Wang",
      "userId": "11693014802286625875"
     },
     "user_tz": -480
    },
    "id": "a_GxVB6iH1tR",
    "outputId": "5290acdc-57f7-4cef-d41b-79135b263e72",
    "ExecuteTime": {
     "end_time": "2024-03-22T11:34:02.162150Z",
     "start_time": "2024-03-22T11:34:02.160483Z"
    }
   },
   "outputs": [
    {
     "name": "stdout",
     "output_type": "stream",
     "text": [
      "{'text': ['How', 'did', 'serfdom', 'develop', 'in', 'and', 'then', 'leave', 'Russia', '?'], 'label': 'DESC'}\n"
     ]
    }
   ],
   "source": [
    "print(vars(train_data.examples[0]))"
   ]
  },
  {
   "cell_type": "markdown",
   "metadata": {
    "id": "Cn0-tCRqH1tS"
   },
   "source": [
    "The TREC dataset, like the IMDb dataset, comes primarily with train and test splits, necessitating the creation of a validation set for a comprehensive evaluation process. We can achieve this through the use of the `.split()` method on the training data.\n",
    "\n",
    "While the default behavior of `.split()` divides the data into a 70/30 split, this can be customized with the `split_ratio` parameter. For example, setting `split_ratio` to 0.8 indicates that 80% of the data will be used for training, while the remaining 20% forms the validation set.\n",
    "\n",
    "To ensure consistency in our splits across different runs, we'll use the `random_state` parameter, passing in our predefined random seed. This guarantees that we receive the same train/validation split each time we execute our code.\n",
    "\n",
    "Here is how you can apply this to the TREC dataset:\n",
    "\n",
    "\n",
    "\n",
    "This approach allows us to maintain a structured and effective training regime, ensuring that our model is not only trained but also validated on a distinct subset of the dataset before being evaluated on the test set."
   ]
  },
  {
   "cell_type": "code",
   "execution_count": 10,
   "metadata": {
    "id": "eCXoOIyVH1tS",
    "ExecuteTime": {
     "end_time": "2024-03-22T11:34:02.166362Z",
     "start_time": "2024-03-22T11:34:02.162904Z"
    }
   },
   "outputs": [],
   "source": [
    "from torchtext.data import Dataset\n",
    "\n",
    "# Assuming train_data is already defined\n",
    "train_data, valid_data = train_data.split(split_ratio=0.8, random_state=random.seed(SEED))"
   ]
  },
  {
   "cell_type": "markdown",
   "metadata": {
    "id": "l7GIAq-lH1tS"
   },
   "source": [
    "Again, we'll view how many examples are in each split."
   ]
  },
  {
   "cell_type": "code",
   "execution_count": 11,
   "metadata": {
    "colab": {
     "base_uri": "https://localhost:8080/"
    },
    "executionInfo": {
     "elapsed": 307,
     "status": "ok",
     "timestamp": 1708247186370,
     "user": {
      "displayName": "Wenya Wang",
      "userId": "11693014802286625875"
     },
     "user_tz": -480
    },
    "id": "aO3xIgKBH1tS",
    "outputId": "4adc259d-cbe3-4f55-fa51-2c2346ef2949",
    "ExecuteTime": {
     "end_time": "2024-03-22T11:34:02.168916Z",
     "start_time": "2024-03-22T11:34:02.167081Z"
    }
   },
   "outputs": [
    {
     "name": "stdout",
     "output_type": "stream",
     "text": [
      "Number of training examples: 4362\n",
      "Number of validation examples: 1090\n",
      "Number of testing examples: 500\n"
     ]
    }
   ],
   "source": [
    "print(f'Number of training examples: {len(train_data)}')\n",
    "print(f'Number of validation examples: {len(valid_data)}')\n",
    "print(f'Number of testing examples: {len(test_data)}')"
   ]
  },
  {
   "cell_type": "markdown",
   "metadata": {
    "id": "wjmk1g3YH1tS"
   },
   "source": [
    "Next, we proceed to construct a _vocabulary_ for our dataset. This step is critical as machine learning models don't process raw text but numbers. The vocabulary serves as a lookup table where every unique word across the dataset is associated with a unique _index_ (an integer).\n",
    "\n",
    "In practice, each word's _index_ is utilized to generate a _one-hot_ vector, which is a sparse vector where all elements are 0, except for the position corresponding to the word's index, which is set to 1. The total number of unique words in the dataset defines the dimensionality of these one-hot vectors, often represented by $V$.\n",
    "\n",
    "Given the potentially vast size of our dataset's vocabulary, direct utilization of one-hot vectors can lead to inefficiencies in training and model size, especially considering some words might be very rare or unique to specific examples.\n",
    "\n",
    "To mitigate this, we can limit our vocabulary in two ways: either by retaining only the top $n$ most frequent words or by excluding words that appear fewer than $m$ times within the dataset. For the TREC task, we'll adopt the former strategy, focusing on the most common words to ensure our model's manageability and performance.\n",
    "\n",
    "Words not included in our reduced vocabulary are replaced with a special _unknown_ (`<unk>`) token. This approach ensures that our model can handle any word, even those not explicitly learned during training. For instance, if we encounter a sentence like \"What is the capital of France?\" and \"capital\" was not among the retained vocabulary words, it would be represented as \"What is the `<unk>` of France?\" in our processed data.\n",
    "\n",
    "Here's how we can build the vocabulary for the TREC dataset, specifying a `max_size` to limit its scope:"
   ]
  },
  {
   "cell_type": "code",
   "execution_count": 12,
   "metadata": {
    "id": "Kzq6r-FtH1tS",
    "ExecuteTime": {
     "end_time": "2024-03-22T11:34:02.233636Z",
     "start_time": "2024-03-22T11:34:02.169582Z"
    }
   },
   "outputs": [],
   "source": [
    "TEXT.build_vocab(train_data, max_size=10000)\n",
    "LABEL.build_vocab(train_data)"
   ]
  },
  {
   "cell_type": "markdown",
   "metadata": {
    "id": "afFTzzi7H1tS"
   },
   "source": [
    "Why do we only build the vocabulary on the training set? When testing any machine learning system you do not want to look at the test set in any way. We do not include the validation set as we want it to reflect the test set as much as possible."
   ]
  },
  {
   "cell_type": "code",
   "execution_count": 13,
   "metadata": {
    "colab": {
     "base_uri": "https://localhost:8080/"
    },
    "executionInfo": {
     "elapsed": 311,
     "status": "ok",
     "timestamp": 1708247192524,
     "user": {
      "displayName": "Wenya Wang",
      "userId": "11693014802286625875"
     },
     "user_tz": -480
    },
    "id": "j8GmgGjAH1tS",
    "outputId": "19f11e5b-4476-49dd-88ef-fb1880834639",
    "ExecuteTime": {
     "end_time": "2024-03-22T11:34:02.236476Z",
     "start_time": "2024-03-22T11:34:02.234414Z"
    }
   },
   "outputs": [
    {
     "name": "stdout",
     "output_type": "stream",
     "text": [
      "Unique tokens in TEXT vocabulary: 8106\n",
      "Unique tokens in LABEL vocabulary: 6\n"
     ]
    }
   ],
   "source": [
    "print(f\"Unique tokens in TEXT vocabulary: {len(TEXT.vocab)}\")\n",
    "print(f\"Unique tokens in LABEL vocabulary: {len(LABEL.vocab)}\")"
   ]
  },
  {
   "cell_type": "markdown",
   "metadata": {
    "id": "fIKDMaiSXxTp"
   },
   "source": [
    "We can also see the vocabulary directly using either the `stoi` (**s**tring **to** **i**nt) or `itos` (**i**nt **to**  **s**tring) method."
   ]
  },
  {
   "cell_type": "code",
   "execution_count": 14,
   "metadata": {
    "colab": {
     "base_uri": "https://localhost:8080/"
    },
    "executionInfo": {
     "elapsed": 324,
     "status": "ok",
     "timestamp": 1708247195493,
     "user": {
      "displayName": "Wenya Wang",
      "userId": "11693014802286625875"
     },
     "user_tz": -480
    },
    "id": "3U8jb9WWXyq-",
    "outputId": "863036e5-2ba6-4b6f-d8ce-b64531b45e02",
    "ExecuteTime": {
     "end_time": "2024-03-22T11:34:02.241109Z",
     "start_time": "2024-03-22T11:34:02.239200Z"
    }
   },
   "outputs": [
    {
     "name": "stdout",
     "output_type": "stream",
     "text": [
      "<unk>\n",
      "<pad>\n",
      "?\n",
      "the\n",
      "What\n",
      "is\n",
      "of\n",
      "in\n",
      "a\n",
      "`\n"
     ]
    }
   ],
   "source": [
    "# Assuming TEXT.vocab has been built\n",
    "for i in range(10):\n",
    "    print(TEXT.vocab.itos[i])"
   ]
  },
  {
   "cell_type": "markdown",
   "metadata": {
    "id": "B-8Giye0H1tS"
   },
   "source": [
    "\n",
    "Note there are two additional tokens: the `<unk>` token and the `<pad>` token.\n",
    "\n",
    "When we feed sentences into our model, we feed a _batch_ of them at a time, i.e. more than one at a time, and all sentences in the batch need to be the same size. Thus, to ensure each sentence in the batch is the same size, any shorter than the longest within the batch are padded.\n",
    "\n",
    "We can also view the most common words in the vocabulary and their frequencies."
   ]
  },
  {
   "cell_type": "code",
   "execution_count": 15,
   "metadata": {
    "colab": {
     "base_uri": "https://localhost:8080/"
    },
    "executionInfo": {
     "elapsed": 433,
     "status": "ok",
     "timestamp": 1708247199108,
     "user": {
      "displayName": "Wenya Wang",
      "userId": "11693014802286625875"
     },
     "user_tz": -480
    },
    "id": "Cy0-pS3oH1tT",
    "outputId": "81acf730-f702-43eb-a81a-40d85d6a82b5",
    "ExecuteTime": {
     "end_time": "2024-03-22T11:34:02.244410Z",
     "start_time": "2024-03-22T11:34:02.241975Z"
    }
   },
   "outputs": [
    {
     "name": "stdout",
     "output_type": "stream",
     "text": [
      "[('?', 4281), ('the', 2875), ('What', 2594), ('is', 1347), ('of', 1221), ('in', 894), ('a', 797), ('`', 663), ('How', 598), (\"'s\", 571), ('was', 510), ('to', 493), (',', 454), ('Who', 452), ('for', 370), ('are', 349), ('and', 348), (\"''\", 319), ('does', 318), ('did', 304)]\n"
     ]
    }
   ],
   "source": [
    "print(TEXT.vocab.freqs.most_common(20))"
   ]
  },
  {
   "cell_type": "markdown",
   "metadata": {
    "id": "V3n_Iv61H1tT"
   },
   "source": [
    "We can also check the labels."
   ]
  },
  {
   "cell_type": "code",
   "execution_count": 16,
   "metadata": {
    "colab": {
     "base_uri": "https://localhost:8080/"
    },
    "executionInfo": {
     "elapsed": 346,
     "status": "ok",
     "timestamp": 1708247202352,
     "user": {
      "displayName": "Wenya Wang",
      "userId": "11693014802286625875"
     },
     "user_tz": -480
    },
    "id": "JYFR21-NH1tT",
    "outputId": "42dd5671-2a5e-445e-b137-c71ef5573d52",
    "ExecuteTime": {
     "end_time": "2024-03-22T11:34:02.246640Z",
     "start_time": "2024-03-22T11:34:02.245112Z"
    }
   },
   "outputs": [
    {
     "name": "stdout",
     "output_type": "stream",
     "text": [
      "defaultdict(None, {'HUM': 0, 'ENTY': 1, 'DESC': 2, 'NUM': 3, 'LOC': 4, 'ABBR': 5})\n"
     ]
    }
   ],
   "source": [
    "print(LABEL.vocab.stoi)"
   ]
  },
  {
   "cell_type": "code",
   "execution_count": 17,
   "metadata": {
    "colab": {
     "base_uri": "https://localhost:8080/"
    },
    "executionInfo": {
     "elapsed": 318,
     "status": "ok",
     "timestamp": 1708247205062,
     "user": {
      "displayName": "Wenya Wang",
      "userId": "11693014802286625875"
     },
     "user_tz": -480
    },
    "id": "-AC55M4-TkT-",
    "outputId": "f01f0aa2-cc85-4206-accf-37b6ee8f6a6d",
    "ExecuteTime": {
     "end_time": "2024-03-22T11:34:02.250542Z",
     "start_time": "2024-03-22T11:34:02.247237Z"
    }
   },
   "outputs": [
    {
     "data": {
      "text/plain": "{'sequential': True,\n 'use_vocab': True,\n 'init_token': None,\n 'eos_token': None,\n 'unk_token': '<unk>',\n 'fix_length': None,\n 'dtype': torch.int64,\n 'preprocessing': None,\n 'postprocessing': None,\n 'lower': False,\n 'tokenizer_args': ('spacy', 'en_core_web_sm'),\n 'tokenize': functools.partial(<function _spacy_tokenize at 0x169d179a0>, spacy=<spacy.lang.en.English object at 0x17f120490>),\n 'include_lengths': True,\n 'batch_first': False,\n 'pad_token': '<pad>',\n 'pad_first': False,\n 'truncate_first': False,\n 'stop_words': None,\n 'is_target': False,\n 'vocab': <torchtext.vocab.Vocab at 0x28ae3d7e0>}"
     },
     "execution_count": 17,
     "metadata": {},
     "output_type": "execute_result"
    }
   ],
   "source": [
    "TEXT.__dict__"
   ]
  },
  {
   "cell_type": "markdown",
   "metadata": {
    "id": "zG_SfWp3H1tT"
   },
   "source": [
    "The final step of preparing the data is creating the iterators. We iterate over these in the training/evaluation loop, and they return a batch of examples (indexed and converted into tensors) at each iteration.\n",
    "\n",
    "We'll use a `BucketIterator` which is a special type of iterator that will return a batch of examples where each example is of a similar length, minimizing the amount of padding per example.\n",
    "\n",
    "We also want to place the tensors returned by the iterator on the GPU (if you're using one). PyTorch handles this using `torch.device`, we then pass this device to the iterator."
   ]
  },
  {
   "cell_type": "code",
   "execution_count": 18,
   "metadata": {
    "ExecuteTime": {
     "end_time": "2024-03-22T11:34:02.252852Z",
     "start_time": "2024-03-22T11:34:02.251184Z"
    }
   },
   "outputs": [],
   "source": [
    "# Check that MPS is available\n",
    "if not torch.backends.mps.is_available():\n",
    "    if not torch.backends.mps.is_built():\n",
    "        print(\"MPS not available because the current PyTorch install was not \"\n",
    "              \"built with MPS enabled.\")\n",
    "    else:\n",
    "        print(\"MPS not available because the current MacOS version is not 12.3+ \"\n",
    "              \"and/or you do not have an MPS-enabled device on this machine.\")"
   ]
  },
  {
   "cell_type": "code",
   "execution_count": 19,
   "metadata": {
    "id": "5QYGHCMfH1tT",
    "ExecuteTime": {
     "end_time": "2024-03-22T11:34:02.255723Z",
     "start_time": "2024-03-22T11:34:02.253715Z"
    }
   },
   "outputs": [],
   "source": [
    "BATCH_SIZE = 64\n",
    "\n",
    "# device = torch.device('cuda' if torch.cuda.is_available() else 'mps' if torch.backends.mps.is_available() else 'cpu')\n",
    "device = torch.device('cpu')\n",
    "\n",
    "train_iterator, valid_iterator, test_iterator = data.BucketIterator.splits(\n",
    "    (train_data, valid_data, test_data),\n",
    "    batch_size=BATCH_SIZE,\n",
    "    sort_within_batch=True,\n",
    "    device=device)\n"
   ]
  },
  {
   "cell_type": "markdown",
   "metadata": {
    "id": "XqygCp2RH1tT"
   },
   "source": [
    "## Build the Model\n",
    "\n",
    "As we progress, our next objective is to construct the model that will be trained and evaluated on the TREC question classification task.\n",
    "\n",
    "Creating models in PyTorch involves a bit of standardized code. Observe how our `RNN` class extends `nn.Module`, leveraging `super` to initialize it properly.\n",
    "\n",
    "Within the `__init__` method, we establish the model's _layers_. For our task, these include an _embedding_ layer, the RNN itself, and a _linear_ layer to output predictions. By default, these layers have randomly initialized parameters.\n",
    "\n",
    "The _embedding_ layer transforms sparse one-hot vectors (mostly zeros) into dense embedding vectors. This layer acts as a fully connected network that not only reduces input dimensionality but also groups semantically similar words closer in the embedding space. Embeddings are crucial for capturing the nuances of language in a computationally efficient manner.\n",
    "\n",
    "Following is the RNN layer, which processes the dense vector alongside the previous hidden state, $h_{t-1}$, to compute the subsequent hidden state, $h_t$. This recurrent processing allows the model to maintain a memory of past words as it moves through a sentence, essential for understanding the context and classifying questions accurately.\n",
    "\n",
    "The final step in our model involves the linear layer, which takes the RNN's last hidden state and projects it onto the space of our label categories, effectively determining the question's classification.\n",
    "\n",
    "During the `forward` method execution, we feed batches into our model. Each batch, `text`, is a tensor of dimensions _**[sentence length, batch size]**_, representing a batch of sentences where words are indicated by their indices.\n",
    "\n",
    "Though one might expect an additional dimension for one-hot vectors, PyTorch efficiently uses the index values directly, a process known as *numericalizing*.\n",
    "\n",
    "After passing through the embedding layer to obtain `embedded` (dimension _**[sentence length, batch size, embedding dim]**_), this tensor is input into the RNN. PyTorch's RNN can automatically start with an all-zero initial hidden state if none is provided.\n",
    "\n",
    "The RNN outputs two tensors: `output`, with size _**[sentence length, batch size, hidden dim]**_, representing the hidden state across all steps, and `hidden`, size _**[1, batch size, hidden dim]**_, the final hidden state. We use `hidden` to confirm our understanding, applying `squeeze` to remove any singleton dimensions.\n",
    "\n",
    "The prediction is generated by passing `hidden` through the linear layer, `fc`, aligning it with our classification goals."
   ]
  },
  {
   "cell_type": "code",
   "execution_count": 20,
   "metadata": {
    "id": "Q5IWVRASH1tT",
    "ExecuteTime": {
     "end_time": "2024-03-22T11:34:02.259252Z",
     "start_time": "2024-03-22T11:34:02.256820Z"
    }
   },
   "outputs": [],
   "source": [
    "import torch.nn as nn\n",
    "\n",
    "\n",
    "class RNN(nn.Module):\n",
    "    def __init__(self, vocab_size, embedding_dim, hidden_dim, output_dim):\n",
    "        super().__init__()\n",
    "\n",
    "        self.embedding = nn.Embedding(vocab_size, embedding_dim)\n",
    "\n",
    "        self.rnn = nn.RNN(embedding_dim, hidden_dim)\n",
    "\n",
    "        self.fc = nn.Linear(hidden_dim, output_dim)\n",
    "\n",
    "    def forward(self, text, text_lengths):\n",
    "        #text = [sent len, batch size]\n",
    "        embedded = self.embedding(text)\n",
    "        #embedded = [sent len, batch size, emb dim]\n",
    "\n",
    "        output, hidden = self.rnn(embedded)\n",
    "        #output = [sent len, batch size, hid dim]\n",
    "        #hidden = [1, batch size, hid dim]\n",
    "\n",
    "        assert torch.equal(output[-1, :, :], hidden.squeeze(0))\n",
    "\n",
    "        return self.fc(hidden.squeeze(0))"
   ]
  },
  {
   "cell_type": "markdown",
   "metadata": {
    "id": "Grztahq0H1tT"
   },
   "source": [
    "We now create an instance of our RNN class.\n",
    "\n",
    "The input dimension is the dimension of the one-hot vectors, which is equal to the vocabulary size.\n",
    "\n",
    "The embedding dimension is the size of the dense word vectors. This is usually around 50-250 dimensions, but depends on the size of the vocabulary.\n",
    "\n",
    "The hidden dimension is the size of the hidden states. This is usually around 100-500 dimensions, but also depends on factors such as on the vocabulary size, the size of the dense vectors and the complexity of the task.\n",
    "\n",
    "The output dimension is usually the number of classes."
   ]
  },
  {
   "cell_type": "code",
   "execution_count": 21,
   "metadata": {
    "id": "C-NMrSMCH1tT",
    "ExecuteTime": {
     "end_time": "2024-03-22T11:34:02.270680Z",
     "start_time": "2024-03-22T11:34:02.260028Z"
    }
   },
   "outputs": [],
   "source": [
    "VOCAB_SIZE = len(TEXT.vocab)\n",
    "EMBEDDING_DIM = 100\n",
    "HIDDEN_DIM = 50\n",
    "OUTPUT_DIM = len(LABEL.vocab)\n",
    "\n",
    "model = RNN(VOCAB_SIZE, EMBEDDING_DIM, HIDDEN_DIM, OUTPUT_DIM)"
   ]
  },
  {
   "cell_type": "markdown",
   "metadata": {
    "id": "epWFTT7gH1tU"
   },
   "source": [
    "Let's also create a function that will tell us how many trainable parameters our model has so we can compare the number of parameters across different models."
   ]
  },
  {
   "cell_type": "code",
   "execution_count": 22,
   "metadata": {
    "colab": {
     "base_uri": "https://localhost:8080/"
    },
    "executionInfo": {
     "elapsed": 403,
     "status": "ok",
     "timestamp": 1708249354757,
     "user": {
      "displayName": "Wenya Wang",
      "userId": "11693014802286625875"
     },
     "user_tz": -480
    },
    "id": "wcSM1EMeH1tU",
    "outputId": "7b264e87-40c4-43e3-d953-4388a80a99a0",
    "ExecuteTime": {
     "end_time": "2024-03-22T11:34:02.273342Z",
     "start_time": "2024-03-22T11:34:02.271449Z"
    }
   },
   "outputs": [
    {
     "name": "stdout",
     "output_type": "stream",
     "text": [
      "The model has 818,506 trainable parameters\n"
     ]
    }
   ],
   "source": [
    "def count_parameters(model):\n",
    "    return sum(p.numel() for p in model.parameters() if p.requires_grad)\n",
    "\n",
    "\n",
    "print(f'The model has {count_parameters(model):,} trainable parameters')"
   ]
  },
  {
   "cell_type": "markdown",
   "metadata": {
    "id": "wrkr-KlaH1tU"
   },
   "source": [
    "## Train the Model"
   ]
  },
  {
   "cell_type": "markdown",
   "metadata": {
    "id": "8ATDO1XbH1tU"
   },
   "source": [
    "Now, we'll proceed to configure the training phase and then embark on training our model.\n",
    "\n",
    "Initially, we select an optimizer, a crucial component in the training process. The optimizer is responsible for updating the model's parameters in response to the computed gradients during training. For our purposes, we'll employ _stochastic gradient descent_ (SGD) as our optimization algorithm. SGD is a popular choice due to its simplicity and effectiveness in various tasks, including NLP. The optimizer requires two primary inputs: the parameters to update and the learning rate, which determines the magnitude of the updates during the training process.\n",
    "\n",
    "Here's how you can set up SGD for our model:"
   ]
  },
  {
   "cell_type": "code",
   "execution_count": 23,
   "metadata": {
    "id": "GvMIccglH1tU",
    "ExecuteTime": {
     "end_time": "2024-03-22T11:34:02.623822Z",
     "start_time": "2024-03-22T11:34:02.274017Z"
    }
   },
   "outputs": [],
   "source": [
    "import torch.optim as optim\n",
    "\n",
    "# Assume model is an instance of our RNN class\n",
    "optimizer = optim.SGD(model.parameters(), lr=0.01)"
   ]
  },
  {
   "cell_type": "markdown",
   "metadata": {
    "id": "w2VjOUWDH1tU"
   },
   "source": [
    "Next, we'll define our loss function, often referred to as a criterion in PyTorch terminology.\n",
    "\n",
    "For the TREC question classification task, which involves categorizing questions into multiple categories, the appropriate loss function is _cross-entropy loss_. This loss function is well-suited for multi-class classification problems.\n",
    "\n",
    "Unlike the binary case, where the model outputs a single scalar representing the probability of the positive class, in multi-class classification, the model outputs a vector of scores for each class. We aim to have the score for the correct class to be higher than those for all other classes.\n",
    "\n",
    "PyTorch provides `nn.CrossEntropyLoss` for this purpose, which combines a `softmax` layer and the cross-entropy loss in a single class. This means it first applies the softmax function to the model's outputs (to obtain probabilities across classes) and then computes the cross-entropy loss between these probabilities and the target distribution.\n",
    "\n",
    "Here's how you can define the criterion for the TREC task:"
   ]
  },
  {
   "cell_type": "code",
   "execution_count": 24,
   "metadata": {
    "id": "Y24HzSVUH1tU",
    "ExecuteTime": {
     "end_time": "2024-03-22T11:34:02.626283Z",
     "start_time": "2024-03-22T11:34:02.624547Z"
    }
   },
   "outputs": [],
   "source": [
    "criterion = nn.CrossEntropyLoss()"
   ]
  },
  {
   "cell_type": "markdown",
   "metadata": {
    "id": "Hrk3GksVeqwm"
   },
   "source": [
    "It's important to note that when using `nn.CrossEntropyLoss`, the target labels for your training data should be encoded as class indices (e.g., `0` for the first class, `1` for the second class, etc.), rather than one-hot vectors. Additionally, the input to this loss function (i.e., the model's output) should not have the softmax function applied; `nn.CrossEntropyLoss` expects raw scores because it internally applies the softmax."
   ]
  },
  {
   "cell_type": "markdown",
   "metadata": {
    "id": "QLggV-msH1tU"
   },
   "source": [
    "Using `.to`, we can place the model and the criterion on the GPU (if we have one)."
   ]
  },
  {
   "cell_type": "code",
   "execution_count": 25,
   "metadata": {
    "id": "Oxpv2NL9H1tU",
    "ExecuteTime": {
     "end_time": "2024-03-22T11:34:02.630851Z",
     "start_time": "2024-03-22T11:34:02.627019Z"
    }
   },
   "outputs": [],
   "source": [
    "model = model.to(device)\n",
    "criterion = criterion.to(device)"
   ]
  },
  {
   "cell_type": "markdown",
   "metadata": {
    "id": "DLgOX9sVH1tU"
   },
   "source": [
    "The `train` function iterates over all examples, one batch at a time.\n",
    "\n",
    "`model.train()` is used to put the model in \"training mode\", which turns on _dropout_ and _batch normalization_. Although we aren't using them in this model, it's good practice to include it.\n",
    "\n",
    "For each batch, we first zero the gradients. Each parameter in a model has a `grad` attribute which stores the gradient calculated by the `criterion`. PyTorch does not automatically remove (or \"zero\") the gradients calculated from the last gradient calculation, so they must be manually zeroed.\n",
    "\n",
    "We then feed the batch of sentences, `batch.text`, into the model. Note, you do not need to do `model.forward(batch.text)`, simply calling the model works. The `squeeze` is needed as the predictions are initially size _**[batch size, 1]**_, and we need to remove the dimension of size 1 as PyTorch expects the predictions input to our criterion function to be of size _**[batch size]**_.\n",
    "\n",
    "The loss and accuracy are then calculated using our predictions and the labels, `batch.label`, with the loss being averaged over all examples in the batch.\n",
    "\n",
    "We calculate the gradient of each parameter with `loss.backward()`, and then update the parameters using the gradients and optimizer algorithm with `optimizer.step()`.\n",
    "\n",
    "The loss and accuracy is accumulated across the epoch, the `.item()` method is used to extract a scalar from a tensor which only contains a single value.\n",
    "\n",
    "Finally, we return the loss and accuracy, averaged across the epoch. The `len` of an iterator is the number of batches in the iterator.\n",
    "\n"
   ]
  },
  {
   "cell_type": "code",
   "execution_count": 26,
   "metadata": {
    "id": "nqCbCqPuH1tU",
    "ExecuteTime": {
     "end_time": "2024-03-22T11:34:02.634387Z",
     "start_time": "2024-03-22T11:34:02.631569Z"
    }
   },
   "outputs": [],
   "source": [
    "def train(model, iterator, optimizer, criterion):\n",
    "    epoch_loss = 0\n",
    "    total_correct = 0\n",
    "    total_instances = 0\n",
    "\n",
    "    model.train()\n",
    "\n",
    "    for batch in iterator:\n",
    "        optimizer.zero_grad()\n",
    "\n",
    "        text, text_lengths = batch.text\n",
    "\n",
    "        # Assuming your model's forward method automatically handles padding, then no need to pack sequence here\n",
    "        predictions = model(text, text_lengths)\n",
    "\n",
    "        loss = criterion(predictions, batch.label)\n",
    "        loss.backward()\n",
    "        optimizer.step()\n",
    "\n",
    "        epoch_loss += loss.item()\n",
    "\n",
    "        # Compute the number of correct predictions\n",
    "        _, predicted_classes = predictions.max(dim=1)\n",
    "        correct_predictions = (predicted_classes == batch.label).float()  # Convert to float for summation\n",
    "        total_correct += correct_predictions.sum().item()\n",
    "        total_instances += batch.label.size(0)\n",
    "\n",
    "    epoch_acc = total_correct / total_instances\n",
    "\n",
    "    return epoch_loss / len(iterator), epoch_acc"
   ]
  },
  {
   "cell_type": "markdown",
   "metadata": {
    "id": "mjgL4FpwH1tU"
   },
   "source": [
    "`evaluate` is similar to `train`, with a few modifications as you don't want to update the parameters when evaluating.\n",
    "\n",
    "`model.eval()` puts the model in \"evaluation mode\", this turns off _dropout_ and _batch normalization_. Again, we are not using them in this model, but it is good practice to include them.\n",
    "\n",
    "No gradients are calculated on PyTorch operations inside the `with no_grad()` block. This causes less memory to be used and speeds up computation.\n",
    "\n",
    "The rest of the function is the same as `train`, with the removal of `optimizer.zero_grad()`, `loss.backward()` and `optimizer.step()`, as we do not update the model's parameters when evaluating."
   ]
  },
  {
   "cell_type": "code",
   "execution_count": 27,
   "metadata": {
    "id": "eS3rZWzhH1tU",
    "ExecuteTime": {
     "end_time": "2024-03-22T11:34:02.637418Z",
     "start_time": "2024-03-22T11:34:02.635093Z"
    }
   },
   "outputs": [],
   "source": [
    "def evaluate(model, iterator, criterion):\n",
    "    epoch_loss = 0\n",
    "    total_correct = 0\n",
    "    total_instances = 0\n",
    "\n",
    "    model.eval()\n",
    "\n",
    "    with torch.no_grad():\n",
    "        for batch in iterator:\n",
    "            text, text_lengths = batch.text\n",
    "\n",
    "            # Assuming your model's forward method automatically handles padding, then no need to pack sequence here\n",
    "            predictions = model(text, text_lengths)\n",
    "\n",
    "            loss = criterion(predictions, batch.label)\n",
    "            epoch_loss += loss.item()\n",
    "\n",
    "            # Compute the number of correct predictions\n",
    "            _, predicted_classes = predictions.max(dim=1)\n",
    "            correct_predictions = (predicted_classes == batch.label).float()  # Convert to float for summation\n",
    "            total_correct += correct_predictions.sum().item()\n",
    "            total_instances += batch.label.size(0)\n",
    "\n",
    "    epoch_acc = total_correct / total_instances\n",
    "    return epoch_loss / len(iterator), epoch_acc"
   ]
  },
  {
   "cell_type": "markdown",
   "metadata": {
    "id": "ihiNgpLMH1tU"
   },
   "source": [
    "We'll also create a function to tell us how long an epoch takes to compare training times between models."
   ]
  },
  {
   "cell_type": "code",
   "execution_count": 28,
   "metadata": {
    "id": "EzkEdOh_H1tU",
    "ExecuteTime": {
     "end_time": "2024-03-22T11:34:02.640255Z",
     "start_time": "2024-03-22T11:34:02.638363Z"
    }
   },
   "outputs": [],
   "source": [
    "import time\n",
    "\n",
    "\n",
    "def epoch_time(start_time, end_time):\n",
    "    elapsed_time = end_time - start_time\n",
    "    elapsed_mins = int(elapsed_time / 60)\n",
    "    elapsed_secs = int(elapsed_time - (elapsed_mins * 60))\n",
    "    return elapsed_mins, elapsed_secs"
   ]
  },
  {
   "cell_type": "markdown",
   "metadata": {
    "id": "M5qBxiXfH1tU"
   },
   "source": [
    "We then train the model through multiple epochs, an epoch being a complete pass through all examples in the training and validation sets.\n",
    "\n",
    "At each epoch, if the validation loss is the best we have seen so far, we'll save the parameters of the model and then after training has finished we'll use that model on the test set."
   ]
  },
  {
   "cell_type": "code",
   "execution_count": 29,
   "metadata": {
    "colab": {
     "base_uri": "https://localhost:8080/"
    },
    "executionInfo": {
     "elapsed": 1895,
     "status": "ok",
     "timestamp": 1708249374643,
     "user": {
      "displayName": "Wenya Wang",
      "userId": "11693014802286625875"
     },
     "user_tz": -480
    },
    "id": "eAjehc9qH1tV",
    "outputId": "fcbc9c1f-258e-4e91-85c8-f98931fd5f84",
    "scrolled": true,
    "ExecuteTime": {
     "end_time": "2024-03-22T11:34:02.644133Z",
     "start_time": "2024-03-22T11:34:02.640902Z"
    }
   },
   "outputs": [],
   "source": [
    "from tqdm import tqdm\n",
    "\n",
    "\n",
    "def experiment(model, optimizer, criterion, N_EPOCHS=100, pack=False):\n",
    "    best_valid_loss = float('inf')\n",
    "    best_valid_acc = 0\n",
    "    with tqdm(total=N_EPOCHS, desc='Training Progress') as pbar:\n",
    "        for epoch in range(N_EPOCHS):\n",
    "            train_loss, train_acc = train(model, train_iterator, optimizer, criterion)\n",
    "            valid_loss, valid_acc = evaluate(model, valid_iterator, criterion)\n",
    "\n",
    "            if valid_loss < best_valid_loss:\n",
    "                best_valid_loss = valid_loss\n",
    "                best_valid_acc = valid_acc\n",
    "                torch.save(model.state_dict(), 'tut1-model.pt')\n",
    "\n",
    "            pbar.set_description(\n",
    "                f'Train Loss: {train_loss:.3f} | Train Acc: {train_acc * 100:.2f}%'\n",
    "                f' |  Val. Loss: {valid_loss:.3f} |  Val. Acc: {valid_acc * 100:.2f}% |')\n",
    "            pbar.update(1)\n",
    "    return best_valid_loss, best_valid_acc"
   ]
  },
  {
   "cell_type": "code",
   "execution_count": 30,
   "metadata": {
    "ExecuteTime": {
     "end_time": "2024-03-22T11:34:02.646724Z",
     "start_time": "2024-03-22T11:34:02.644954Z"
    }
   },
   "outputs": [],
   "source": [
    "def test(model):\n",
    "    model.load_state_dict(torch.load('tut1-model.pt'))\n",
    "    test_loss, test_acc = evaluate(model, test_iterator, criterion)\n",
    "    return test_loss, test_acc"
   ]
  },
  {
   "cell_type": "markdown",
   "metadata": {},
   "source": [
    "You may have noticed the loss is not really decreasing and the accuracy is poor. This is due to several issues with the model which we'll improve in the next notebook.\n",
    "\n",
    "Finally, the metric we actually care about, the test loss and accuracy, which we get from our parameters that gave us the best validation loss."
   ]
  },
  {
   "cell_type": "code",
   "execution_count": 31,
   "metadata": {
    "scrolled": true,
    "ExecuteTime": {
     "end_time": "2024-03-22T11:36:40.309595Z",
     "start_time": "2024-03-22T11:34:02.647317Z"
    }
   },
   "outputs": [
    {
     "name": "stderr",
     "output_type": "stream",
     "text": [
      "Train Loss: 0.670 | Train Acc: 74.48% |  Val. Loss: 1.110 |  Val. Acc: 57.98% |: 100%|██████████| 100/100 [00:15<00:00,  6.47it/s]\n",
      "Train Loss: 0.363 | Train Acc: 88.31% |  Val. Loss: 0.940 |  Val. Acc: 72.39% |: 100%|██████████| 100/100 [00:15<00:00,  6.49it/s]\n",
      "Train Loss: 0.487 | Train Acc: 83.65% |  Val. Loss: 1.285 |  Val. Acc: 61.10% |: 100%|██████████| 100/100 [00:16<00:00,  6.12it/s]\n",
      "Train Loss: 0.686 | Train Acc: 75.40% |  Val. Loss: 0.967 |  Val. Acc: 62.11% |: 100%|██████████| 100/100 [00:15<00:00,  6.48it/s]\n",
      "Train Loss: 0.577 | Train Acc: 79.09% |  Val. Loss: 1.183 |  Val. Acc: 61.47% |: 100%|██████████| 100/100 [00:15<00:00,  6.54it/s]\n",
      "Train Loss: 0.457 | Train Acc: 85.76% |  Val. Loss: 0.902 |  Val. Acc: 71.01% |: 100%|██████████| 100/100 [00:16<00:00,  5.95it/s]\n",
      "Train Loss: 0.374 | Train Acc: 89.13% |  Val. Loss: 0.860 |  Val. Acc: 71.65% |: 100%|██████████| 100/100 [00:15<00:00,  6.37it/s]\n",
      "Train Loss: 0.503 | Train Acc: 83.29% |  Val. Loss: 1.282 |  Val. Acc: 64.68% |: 100%|██████████| 100/100 [00:15<00:00,  6.38it/s]\n",
      "Train Loss: 0.460 | Train Acc: 85.86% |  Val. Loss: 0.881 |  Val. Acc: 70.18% |: 100%|██████████| 100/100 [00:16<00:00,  6.24it/s]\n",
      "Train Loss: 1.031 | Train Acc: 59.65% |  Val. Loss: 1.336 |  Val. Acc: 46.61% |: 100%|██████████| 100/100 [00:15<00:00,  6.49it/s]\n"
     ]
    }
   ],
   "source": [
    "import time\n",
    "\n",
    "val_accs = []\n",
    "val_losses = []\n",
    "times = []\n",
    "for i in range(10):\n",
    "    model = RNN(VOCAB_SIZE, EMBEDDING_DIM, HIDDEN_DIM, OUTPUT_DIM)\n",
    "    optimizer = optim.SGD(model.parameters(), lr=0.01)\n",
    "    criterion = nn.CrossEntropyLoss()\n",
    "\n",
    "    start_time = time.time()\n",
    "    val_loss, val_acc = experiment(model, optimizer, criterion)\n",
    "    end_time = time.time()\n",
    "\n",
    "    val_losses.append(val_loss)\n",
    "    val_accs.append(val_acc)\n",
    "    times.append(end_time - start_time)\n",
    "\n",
    "# loss, acc = test(model)"
   ]
  },
  {
   "cell_type": "code",
   "execution_count": 32,
   "metadata": {
    "ExecuteTime": {
     "end_time": "2024-03-22T11:36:40.314719Z",
     "start_time": "2024-03-22T11:36:40.311106Z"
    }
   },
   "outputs": [
    {
     "name": "stdout",
     "output_type": "stream",
     "text": [
      "mean duration : 15.756703162193299\n",
      "mean test acc : 0.6453211009174312\n"
     ]
    }
   ],
   "source": [
    "print(f'mean duration : {np.array(times).mean()}')\n",
    "print(f'mean test acc : {np.array(val_accs).mean()}')"
   ]
  },
  {
   "cell_type": "markdown",
   "metadata": {
    "id": "4zxuQwH0H1tV"
   },
   "source": [
    "You may have noticed the loss is not really decreasing and the accuracy is poor. This is due to several issues with the model which we'll improve in the next notebook.\n",
    "\n",
    "Finally, the metric we actually care about, the test loss and accuracy, which we get from our parameters that gave us the best validation loss."
   ]
  },
  {
   "cell_type": "markdown",
   "metadata": {},
   "source": [
    "## Next Steps\n",
    "\n",
    "In the next notebook, you will work on improving the model to give better performances according to the Assignment instructions (including but not limited to):\n",
    "- Configuration Optimization\n",
    "  \n",
    "  - different hyperparameters, e.g., optimizer, learning rate, batch size, size of the hidden vector\n",
    "  - regularization\n",
    "  - packed padded sequences\n",
    "\n",
    "- Input Embedding\n",
    "\n",
    "  - pre-trained word embeddings\n",
    "\n",
    "- Output Embedding\n",
    "\n",
    "  - sentence embedding computation\n",
    "\n",
    "- Architecture Optimization\n",
    "\n",
    "  - bidirectional RNN\n",
    "  - multi-layer RNN\n",
    "  - LSTM or GRU"
   ]
  },
  {
   "cell_type": "code",
   "execution_count": 33,
   "metadata": {
    "ExecuteTime": {
     "end_time": "2024-03-22T11:36:40.318949Z",
     "start_time": "2024-03-22T11:36:40.315820Z"
    }
   },
   "outputs": [],
   "source": [
    "from torch.nn.utils.rnn import pack_padded_sequence, pad_packed_sequence\n",
    "\n",
    "\n",
    "def is_sorted(sequence):\n",
    "    return all(sequence[i] >= sequence[i + 1] for i in range(len(sequence) - 1))\n",
    "\n",
    "\n",
    "class packed_RNN(nn.Module):\n",
    "    def __init__(self, vocab_size, embedding_dim, hidden_dim, output_dim):\n",
    "        super().__init__()\n",
    "\n",
    "        self.embedding = nn.Embedding(vocab_size, embedding_dim)\n",
    "\n",
    "        self.rnn = nn.RNN(embedding_dim, hidden_dim)\n",
    "\n",
    "        self.fc = nn.Linear(hidden_dim, output_dim)\n",
    "\n",
    "    def forward(self, text, text_lengths):\n",
    "        assert is_sorted(text_lengths)\n",
    "\n",
    "        #text = [sent len, batch size]\n",
    "        embedded = self.embedding(text)\n",
    "        #embedded = [sent len, batch size, emb dim]\n",
    "\n",
    "        packed_input = pack_padded_sequence(embedded, text_lengths)\n",
    "\n",
    "        packed_output, ht = self.rnn(packed_input)\n",
    "\n",
    "        return self.fc(ht.squeeze(0))"
   ]
  },
  {
   "cell_type": "code",
   "execution_count": 34,
   "metadata": {
    "scrolled": true,
    "ExecuteTime": {
     "end_time": "2024-03-22T11:39:59.962890Z",
     "start_time": "2024-03-22T11:36:40.319909Z"
    }
   },
   "outputs": [
    {
     "name": "stderr",
     "output_type": "stream",
     "text": [
      "Train Loss: 0.432 | Train Acc: 86.13% |  Val. Loss: 1.175 |  Val. Acc: 61.93% |: 100%|██████████| 100/100 [00:19<00:00,  5.21it/s]\n",
      "Train Loss: 0.312 | Train Acc: 90.81% |  Val. Loss: 0.976 |  Val. Acc: 72.84% |: 100%|██████████| 100/100 [00:20<00:00,  4.94it/s]\n",
      "Train Loss: 0.387 | Train Acc: 87.44% |  Val. Loss: 0.940 |  Val. Acc: 68.44% |: 100%|██████████| 100/100 [00:19<00:00,  5.01it/s]\n",
      "Train Loss: 0.538 | Train Acc: 81.41% |  Val. Loss: 0.984 |  Val. Acc: 63.49% |: 100%|██████████| 100/100 [00:19<00:00,  5.08it/s]\n",
      "Train Loss: 0.432 | Train Acc: 86.93% |  Val. Loss: 0.903 |  Val. Acc: 70.64% |: 100%|██████████| 100/100 [00:20<00:00,  4.96it/s]\n",
      "Train Loss: 0.705 | Train Acc: 74.16% |  Val. Loss: 1.143 |  Val. Acc: 56.15% |: 100%|██████████| 100/100 [00:19<00:00,  5.05it/s]\n",
      "Train Loss: 0.445 | Train Acc: 85.67% |  Val. Loss: 1.034 |  Val. Acc: 65.23% |: 100%|██████████| 100/100 [00:19<00:00,  5.07it/s]\n",
      "Train Loss: 0.540 | Train Acc: 80.83% |  Val. Loss: 0.869 |  Val. Acc: 71.38% |: 100%|██████████| 100/100 [00:20<00:00,  4.88it/s]\n",
      "Train Loss: 0.686 | Train Acc: 75.75% |  Val. Loss: 0.934 |  Val. Acc: 64.13% |: 100%|██████████| 100/100 [00:20<00:00,  4.98it/s]\n",
      "Train Loss: 0.515 | Train Acc: 83.24% |  Val. Loss: 1.196 |  Val. Acc: 62.29% |: 100%|██████████| 100/100 [00:20<00:00,  4.94it/s]\n"
     ]
    }
   ],
   "source": [
    "val_accs = []\n",
    "val_losses = []\n",
    "times = []\n",
    "for i in range(10):\n",
    "    model = packed_RNN(VOCAB_SIZE, EMBEDDING_DIM, HIDDEN_DIM, OUTPUT_DIM)\n",
    "    optimizer = optim.SGD(model.parameters(), lr=0.01)\n",
    "    criterion = nn.CrossEntropyLoss()\n",
    "\n",
    "    start_time = time.time()\n",
    "    val_loss, vall_acc = experiment(model, optimizer, criterion)\n",
    "    end_time = time.time()\n",
    "\n",
    "    val_losses.append(val_loss)\n",
    "    val_accs.append(val_acc)\n",
    "    times.append(end_time - start_time)"
   ]
  },
  {
   "cell_type": "code",
   "execution_count": 35,
   "metadata": {
    "ExecuteTime": {
     "end_time": "2024-03-22T11:39:59.966307Z",
     "start_time": "2024-03-22T11:39:59.964114Z"
    }
   },
   "outputs": [
    {
     "name": "stdout",
     "output_type": "stream",
     "text": [
      "mean duration : 19.9548326253891\n",
      "mean test acc : 0.6009174311926604\n"
     ]
    }
   ],
   "source": [
    "print(f'mean duration : {np.array(times).mean()}')\n",
    "print(f'mean test acc : {np.array(val_accs).mean()}')"
   ]
  },
  {
   "cell_type": "markdown",
   "source": [
    "# This notebook was used only for analysis . Pleasee  refer to the whole repository and the report."
   ],
   "metadata": {
    "collapsed": false
   }
  },
  {
   "cell_type": "code",
   "outputs": [],
   "source": [
    "%load_ext autoreload\n",
    "%autoreload 2"
   ],
   "metadata": {
    "collapsed": false,
    "ExecuteTime": {
     "end_time": "2024-03-22T11:39:59.991182Z",
     "start_time": "2024-03-22T11:39:59.967299Z"
    }
   },
   "execution_count": 36
  },
  {
   "cell_type": "code",
   "outputs": [],
   "source": [
    "import wandb\n",
    "\n",
    "WANDB_PROJECT = \"Deep Learning models for Sentence Classification\"\n",
    "WANDB_ENTITY = \"crutch\"\n",
    "\n",
    "# Initialize W&B API\n",
    "api = wandb.Api()\n",
    "\n",
    "# Get all runs\n",
    "runs = api.runs(f\"{WANDB_ENTITY}/{WANDB_PROJECT}\")"
   ],
   "metadata": {
    "collapsed": false,
    "ExecuteTime": {
     "end_time": "2024-03-22T11:40:01.022947Z",
     "start_time": "2024-03-22T11:39:59.992323Z"
    }
   },
   "execution_count": 37
  },
  {
   "cell_type": "code",
   "outputs": [
    {
     "name": "stdout",
     "output_type": "stream",
     "text": [
      "✅ Found 300 runs\n"
     ]
    }
   ],
   "source": [
    "sweep_01_b_runs = [run for run in runs if 'sweep_01_b' in run.tags]\n",
    "print(f\"✅ Found {len(sweep_01_b_runs)} runs\")"
   ],
   "metadata": {
    "collapsed": false,
    "ExecuteTime": {
     "end_time": "2024-03-22T11:40:32.731753Z",
     "start_time": "2024-03-22T11:40:01.023901Z"
    }
   },
   "execution_count": 38
  },
  {
   "cell_type": "code",
   "outputs": [],
   "source": [
    "import pandas as pd\n",
    "\n",
    "\n",
    "def extract(run):\n",
    "    config = run.config\n",
    "    return {\n",
    "        \"lr\": config[\"lr\"],\n",
    "        \"hidden_dim\": config[\"model\"][\"hidden_dim\"],\n",
    "        \"batch_size\": config[\"batch_size\"],\n",
    "        \"optimizer\": config[\"optimizer\"],\n",
    "        \"valid_acc\": run.summary[\"valid_acc\"],\n",
    "    }\n",
    "\n",
    "\n",
    "def load_to_df(runs):\n",
    "    hparams = [extract(run) for run in runs]\n",
    "    df = pd.DataFrame(hparams)\n",
    "    return df"
   ],
   "metadata": {
    "collapsed": false,
    "ExecuteTime": {
     "end_time": "2024-03-22T11:40:33.643312Z",
     "start_time": "2024-03-22T11:40:32.732899Z"
    }
   },
   "execution_count": 39
  },
  {
   "cell_type": "code",
   "outputs": [],
   "source": [
    "sweep_01_b_df = load_to_df(sweep_01_b_runs)"
   ],
   "metadata": {
    "collapsed": false,
    "ExecuteTime": {
     "end_time": "2024-03-22T11:40:33.667711Z",
     "start_time": "2024-03-22T11:40:33.644147Z"
    }
   },
   "execution_count": 40
  },
  {
   "cell_type": "code",
   "outputs": [],
   "source": [
    "from utils import grid"
   ],
   "metadata": {
    "collapsed": false,
    "ExecuteTime": {
     "end_time": "2024-03-22T11:40:34.130447Z",
     "start_time": "2024-03-22T11:40:33.673056Z"
    }
   },
   "execution_count": 41
  },
  {
   "cell_type": "code",
   "outputs": [
    {
     "data": {
      "text/plain": "optimizer  adadelta   adagrad      adam   rmsprop       sgd\nlr                                                         \n0.00001    0.173904  0.204837  0.465953  0.475963  0.194801\n0.00010    0.211086  0.306651  0.727370  0.722401  0.236009\n0.00100    0.280810  0.614602  0.725076  0.729817  0.352523\n0.01000    0.538685  0.719113  0.390291  0.366590  0.704664\n0.10000    0.731927  0.452752  0.232110  0.228965  0.603539",
      "text/html": "<div>\n<style scoped>\n    .dataframe tbody tr th:only-of-type {\n        vertical-align: middle;\n    }\n\n    .dataframe tbody tr th {\n        vertical-align: top;\n    }\n\n    .dataframe thead th {\n        text-align: right;\n    }\n</style>\n<table border=\"1\" class=\"dataframe\">\n  <thead>\n    <tr style=\"text-align: right;\">\n      <th>optimizer</th>\n      <th>adadelta</th>\n      <th>adagrad</th>\n      <th>adam</th>\n      <th>rmsprop</th>\n      <th>sgd</th>\n    </tr>\n    <tr>\n      <th>lr</th>\n      <th></th>\n      <th></th>\n      <th></th>\n      <th></th>\n      <th></th>\n    </tr>\n  </thead>\n  <tbody>\n    <tr>\n      <th>0.00001</th>\n      <td>0.173904</td>\n      <td>0.204837</td>\n      <td>0.465953</td>\n      <td>0.475963</td>\n      <td>0.194801</td>\n    </tr>\n    <tr>\n      <th>0.00010</th>\n      <td>0.211086</td>\n      <td>0.306651</td>\n      <td>0.727370</td>\n      <td>0.722401</td>\n      <td>0.236009</td>\n    </tr>\n    <tr>\n      <th>0.00100</th>\n      <td>0.280810</td>\n      <td>0.614602</td>\n      <td>0.725076</td>\n      <td>0.729817</td>\n      <td>0.352523</td>\n    </tr>\n    <tr>\n      <th>0.01000</th>\n      <td>0.538685</td>\n      <td>0.719113</td>\n      <td>0.390291</td>\n      <td>0.366590</td>\n      <td>0.704664</td>\n    </tr>\n    <tr>\n      <th>0.10000</th>\n      <td>0.731927</td>\n      <td>0.452752</td>\n      <td>0.232110</td>\n      <td>0.228965</td>\n      <td>0.603539</td>\n    </tr>\n  </tbody>\n</table>\n</div>"
     },
     "execution_count": 42,
     "metadata": {},
     "output_type": "execute_result"
    }
   ],
   "source": [
    " sweep_01_b_df.groupby([\"lr\",\"optimizer\"]).agg({\"valid_acc\":[\"mean\"]})[(\"valid_acc\",\"mean\")].unstack()"
   ],
   "metadata": {
    "collapsed": false,
    "ExecuteTime": {
     "end_time": "2024-03-22T11:40:34.159806Z",
     "start_time": "2024-03-22T11:40:34.131138Z"
    }
   },
   "execution_count": 42
  },
  {
   "cell_type": "code",
   "outputs": [
    {
     "name": "stdout",
     "output_type": "stream",
     "text": [
      "✅ Saved figure to report/figures/\n"
     ]
    },
    {
     "data": {
      "text/plain": "<Figure size 1000x1000 with 10 Axes>",
      "image/png": "[encoded data removed]"
     },
     "metadata": {},
     "output_type": "display_data"
    }
   ],
   "source": [
    "import os\n",
    "\n",
    "# Choose hyperparameters to visualise\n",
    "result_column = \"valid_acc\"\n",
    "metric = \"mean\"\n",
    "param_cols = sweep_01_b_df.columns.tolist()\n",
    "param_tuples = [param for param in param_cols if param != result_column]\n",
    "subset = sweep_01_b_df[\n",
    "    # sweep_01_b_df[(\"config\", \"use_sot\")]\n",
    "    # & sweep_01_b_df[(\"config\", \"dataset\")].isin([\"tabula_muris\"]) &\n",
    "    (sweep_01_b_df[(\"valid_acc\")] >= 0)\n",
    "    ]\n",
    "\n",
    "rename = {\n",
    "    \"lr\": \"Learning\\nRate\",\n",
    "    \"hidden_dim\": \"Hidden\\nDimension\",\n",
    "    \"batch_size\": \"Batch\\nSize\",\n",
    "    \"optimizer\": \"Optimizer\",\n",
    "    \"adagrad\": \"Adagrad\",\n",
    "    \"adam\": \"Adam\",\n",
    "    \"sgd\": \"SGD\",\n",
    "    \"rmsprop\": \"RMSprop\",\n",
    "    \"adadelta\": \"Adadelta\",\n",
    "}\n",
    "\n",
    "fig = grid(\n",
    "    subset, param_tuples, result_column,metric, cmap=\"Blues\", figsize=(10, 10), rename_dict=rename \n",
    ")  # vmin, vmax automatically set\n",
    "\n",
    "FIGURE_DIR = \"report/figures/\"\n",
    "\n",
    "fig.savefig(\n",
    "    os.path.join(FIGURE_DIR, \"hparam_interaction.png\"),\n",
    "    bbox_inches=\"tight\",\n",
    "    dpi=300,\n",
    ")\n",
    "print(f\"✅ Saved figure to {FIGURE_DIR}\")"
   ],
   "metadata": {
    "collapsed": false,
    "ExecuteTime": {
     "end_time": "2024-03-22T11:40:35.763014Z",
     "start_time": "2024-03-22T11:40:34.160699Z"
    }
   },
   "execution_count": 43
  },
  {
   "cell_type": "markdown",
   "source": [
    "# 2\n",
    "\n",
    "use `word2vec-google-news-300` word embeddings from `gensim` library "
   ],
   "metadata": {
    "collapsed": false
   }
  },
  {
   "cell_type": "code",
   "outputs": [],
   "source": [
    "import gensim.downloader"
   ],
   "metadata": {
    "collapsed": false,
    "ExecuteTime": {
     "end_time": "2024-03-22T11:40:36.544809Z",
     "start_time": "2024-03-22T11:40:35.763811Z"
    }
   },
   "execution_count": 44
  },
  {
   "cell_type": "code",
   "outputs": [
    {
     "name": "stdout",
     "output_type": "stream",
     "text": [
      "['fasttext-wiki-news-subwords-300', 'conceptnet-numberbatch-17-06-300', 'word2vec-ruscorpora-300', 'word2vec-google-news-300', 'glove-wiki-gigaword-50', 'glove-wiki-gigaword-100', 'glove-wiki-gigaword-200', 'glove-wiki-gigaword-300', 'glove-twitter-25', 'glove-twitter-50', 'glove-twitter-100', 'glove-twitter-200', '__testing_word2vec-matrix-synopsis']\n"
     ]
    }
   ],
   "source": [
    "print(list(gensim.downloader.info()['models'].keys()))"
   ],
   "metadata": {
    "collapsed": false,
    "ExecuteTime": {
     "end_time": "2024-03-22T11:40:37.925714Z",
     "start_time": "2024-03-22T11:40:36.545679Z"
    }
   },
   "execution_count": 45
  },
  {
   "cell_type": "code",
   "outputs": [],
   "source": [
    "word_vectors = gensim.downloader.load('word2vec-google-news-300')"
   ],
   "metadata": {
    "collapsed": false,
    "ExecuteTime": {
     "end_time": "2024-03-22T11:40:57.063956Z",
     "start_time": "2024-03-22T11:40:37.927917Z"
    }
   },
   "execution_count": 46
  },
  {
   "cell_type": "code",
   "outputs": [
    {
     "name": "stdout",
     "output_type": "stream",
     "text": [
      "<unk> not found\n",
      "<pad> not found\n",
      "? not found\n",
      "of not found\n",
      "a not found\n",
      "'s not found\n",
      "to not found\n",
      ", not found\n",
      "and not found\n",
      "'' not found\n",
      "- not found\n",
      ". not found\n",
      "' not found\n",
      ": not found\n",
      "15 not found\n",
      "1984 not found\n",
      "! not found\n",
      "10 not found\n",
      "1899 not found\n",
      "11 not found\n",
      "1983 not found\n",
      "1991 not found\n",
      "21 not found\n",
      "000 not found\n",
      "12 not found\n",
      "1969 not found\n",
      "2000 not found\n",
      "27 not found\n",
      "16 not found\n",
      "16th not found\n",
      "18 not found\n",
      "1939 not found\n",
      "1950 not found\n",
      "1956 not found\n",
      "1960 not found\n",
      "1963 not found\n",
      "1975 not found\n",
      "1978 not found\n",
      "1980 not found\n",
      "1981 not found\n",
      "1989 not found\n",
      "1994 not found\n",
      "1998 not found\n",
      "24 not found\n",
      "Cotrubas not found\n",
      "'em not found\n",
      ".. not found\n",
      "13 not found\n",
      "14 not found\n",
      "17 not found\n",
      "19 not found\n",
      "1923 not found\n",
      "1936 not found\n",
      "1940 not found\n",
      "1942 not found\n",
      "1952 not found\n",
      "1953 not found\n",
      "1965 not found\n",
      "1972 not found\n",
      "1974 not found\n",
      "1990 not found\n",
      "1992 not found\n",
      "1999 not found\n",
      "19th not found\n",
      "22 not found\n",
      "98 not found\n",
      "; not found\n",
      "W.C. not found\n",
      "callosum not found\n",
      "... not found\n",
      "100 not found\n",
      "15th not found\n",
      "1642 not found\n",
      "1649 not found\n",
      "1779 not found\n",
      "1797 not found\n",
      "1812 not found\n",
      "1847 not found\n",
      "185 not found\n",
      "1920s not found\n",
      "1929 not found\n",
      "1935 not found\n",
      "1940s not found\n",
      "1941 not found\n",
      "1946 not found\n",
      "1951 not found\n",
      "1958 not found\n",
      "1959 not found\n",
      "196 not found\n",
      "1962 not found\n",
      "1964 not found\n",
      "1966 not found\n",
      "1967 not found\n",
      "1968 not found\n",
      "197 not found\n",
      "1971 not found\n",
      "1976 not found\n",
      "1977 not found\n",
      "1979 not found\n",
      "1985 not found\n",
      "1988 not found\n",
      "199 not found\n",
      "1993 not found\n",
      "2112 not found\n",
      "23 not found\n",
      "25 not found\n",
      "26 not found\n",
      "39 not found\n",
      "455 not found\n",
      "49 not found\n",
      "500 not found\n",
      "740 not found\n",
      "80 not found\n",
      "900 not found\n",
      "Crokinole not found\n",
      "J.R.R. not found\n",
      "R.E.M. not found\n",
      "T.S. not found\n",
      "U.S.A not found\n",
      "daminozide not found\n",
      "dextropropoxyphen not found\n",
      "e.g. not found\n",
      "idealab not found\n",
      "napsylate not found\n",
      "whisky not found\n",
      ".dbf not found\n",
      ".tbk not found\n",
      "000th not found\n",
      "007 not found\n",
      "1.76 not found\n",
      "103 not found\n",
      "111 not found\n",
      "118 not found\n",
      "11th not found\n",
      "123 not found\n",
      "126 not found\n",
      "12601 not found\n",
      "134 not found\n",
      "137 not found\n",
      "139 not found\n",
      "142 not found\n",
      "155 not found\n",
      "1562 not found\n",
      "158 not found\n",
      "165 not found\n",
      "1669 not found\n",
      "167 not found\n",
      "168 not found\n",
      "175 not found\n",
      "1767 not found\n",
      "177 not found\n",
      "1781 not found\n",
      "1789 not found\n",
      "1800s not found\n",
      "1815 not found\n",
      "1830 not found\n",
      "1832 not found\n",
      "1834 not found\n",
      "1835 not found\n",
      "1842 not found\n",
      "1853 not found\n",
      "1857 not found\n",
      "1866 not found\n",
      "1873 not found\n",
      "187s not found\n",
      "188 not found\n",
      "1886 not found\n",
      "1891 not found\n",
      "1892 not found\n",
      "1893 not found\n",
      "1896 not found\n",
      "1898 not found\n",
      "1900s not found\n",
      "191 not found\n",
      "1912 not found\n",
      "1913 not found\n",
      "1915 not found\n",
      "1916 not found\n",
      "1919 not found\n",
      "1922 not found\n",
      "1925 not found\n",
      "1926 not found\n",
      "1927 not found\n",
      "1928 not found\n",
      "193 not found\n",
      "1930s not found\n",
      "1933 not found\n",
      "1937 not found\n",
      "194 not found\n",
      "1943 not found\n",
      "1945 not found\n",
      "1948 not found\n",
      "195 not found\n",
      "1954 not found\n",
      "1955 not found\n",
      "1957 not found\n",
      "1960s not found\n",
      "1961 not found\n",
      "1970s not found\n",
      "1973 not found\n",
      "198 not found\n",
      "1980s not found\n",
      "1982 not found\n",
      "1996 not found\n",
      "1997 not found\n",
      "2.5 not found\n",
      "20 not found\n",
      "2001 not found\n",
      "20th not found\n",
      "219 not found\n",
      "227 not found\n",
      "25th not found\n",
      "28 not found\n",
      "280 not found\n",
      "287 not found\n",
      "31 not found\n",
      "313 not found\n",
      "327 not found\n",
      "33 not found\n",
      "35 not found\n",
      "36893 not found\n",
      "37803 not found\n",
      "401 not found\n",
      "43rd not found\n",
      "46 not found\n",
      "468 not found\n",
      "47 not found\n",
      "48 not found\n",
      "5.9 not found\n",
      "50s not found\n",
      "52 not found\n",
      "528 not found\n",
      "55 not found\n",
      "56 not found\n",
      "576 not found\n",
      "5943 not found\n",
      "70 not found\n",
      "737 not found\n",
      "755 not found\n",
      "7847 not found\n",
      "8/28/1941 not found\n",
      "836 not found\n",
      "84 not found\n",
      "85 not found\n",
      "86 not found\n",
      "86ed not found\n",
      "90 not found\n",
      "924 not found\n",
      "95 not found\n",
      "985 not found\n",
      "9971 not found\n",
      "999 not found\n",
      "A&W not found\n",
      "A.G. not found\n",
      "AIM-54C not found\n",
      "A_Tisket not found\n",
      "Adventours not found\n",
      "Aeul not found\n",
      "Amazonis not found\n",
      "Asiento not found\n",
      "AuH2O not found\n",
      "Auerstadt not found\n",
      "B.Y.O.B. not found\n",
      "B12 not found\n",
      "Batcycle not found\n",
      "Bebrenia not found\n",
      "Burnford not found\n",
      "C.C. not found\n",
      "Cabarnet not found\n",
      "Carmania not found\n",
      "Catch-22 not found\n",
      "Cinderslut not found\n",
      "Cisalpine not found\n",
      "D.B. not found\n",
      "Daxam not found\n",
      "DeFreeze not found\n",
      "Depreciates not found\n",
      "Doegs not found\n",
      "Doodyville not found\n",
      "Doxat not found\n",
      "Elizabethian not found\n",
      "Farri not found\n",
      "Freidreich not found\n",
      "Frickett not found\n",
      "G.M.T. not found\n",
      "Garmat not found\n",
      "Groundshog not found\n",
      "Hohenzollerns not found\n",
      "Homerian not found\n",
      "Inoco not found\n",
      "InterLata not found\n",
      "Klux not found\n",
      "KnowPost.com not found\n",
      "Kythnos not found\n",
      "L.L. not found\n",
      "Lucelly not found\n",
      "M&Ms not found\n",
      "M16 not found\n",
      "MORMONS not found\n",
      "Mauis not found\n",
      "McPugg not found\n",
      "Mcbeal not found\n",
      "Michagin not found\n",
      "N.M not found\n",
      "Nipsy not found\n",
      "Oompas not found\n",
      "P-32 not found\n",
      "Pegnitz not found\n",
      "Pencey not found\n",
      "Pesth not found\n",
      "Philebus not found\n",
      "Qintex not found\n",
      "R&B not found\n",
      "Rednitz not found\n",
      "S&P not found\n",
      "S.O.S. not found\n",
      "Seriphos not found\n",
      "Shimerda not found\n",
      "Siphnos not found\n",
      "Skrunch not found\n",
      "SysRq not found\n",
      "Tempelhol not found\n",
      "Tetrinet not found\n",
      "Tzimisce not found\n",
      "U.S.-based not found\n",
      "U.S.S.R. not found\n",
      "V-8 not found\n",
      "Vlaja not found\n",
      "Winkerbean not found\n",
      "Wolfsheim not found\n",
      "acetylsalicylic not found\n",
      "amezaiku not found\n",
      "basophobic not found\n",
      "beethoven not found\n",
      "biritch not found\n",
      "bourdon not found\n",
      "calleda not found\n",
      "carefreeness not found\n",
      "cartoondom not found\n",
      "catalogues not found\n",
      "chairbound not found\n",
      "characterstics not found\n",
      "chemiosmotic not found\n",
      "chickenpoxs not found\n",
      "chromatology not found\n",
      "circumorbital not found\n",
      "collabrative not found\n",
      "coppertop not found\n",
      "countinghouse not found\n",
      "covrefeu not found\n",
      "cuckquean not found\n",
      "cullion not found\n",
      "cullions not found\n",
      "diphallic not found\n",
      "dogtown not found\n",
      "doughnut not found\n",
      "eidologist not found\n",
      "emmigrate not found\n",
      "fivepin not found\n",
      "foot-9 not found\n",
      "fossilizes not found\n",
      "galliano not found\n",
      "gametophytic not found\n",
      "gandy not found\n",
      "gymnophobia not found\n",
      "heliologist not found\n",
      "hendecasyllabic not found\n",
      "hiemal not found\n",
      "inkhorn not found\n",
      "it- not found\n",
      "keratoma not found\n",
      "kilamanjaro not found\n",
      "lapwarmers not found\n",
      "lustrum not found\n",
      "martialled not found\n",
      "mayans not found\n",
      "mehitabel not found\n",
      "mendelevium not found\n",
      "mevacor not found\n",
      "nonchlorine not found\n",
      "osteichthyes not found\n",
      "palmiped not found\n",
      "pandoro not found\n",
      "plumbism not found\n",
      "pointsettia not found\n",
      "polyorchid not found\n",
      "pothooks not found\n",
      "protanopia not found\n",
      "psorisis not found\n",
      "recetrack not found\n",
      "respones not found\n",
      "resurrectionist not found\n",
      "rhomboideus not found\n",
      "rigati not found\n",
      "sardonyx not found\n",
      "short- not found\n",
      "slane not found\n",
      "snoogans not found\n",
      "spaceball not found\n",
      "spermologer not found\n",
      "splatterpunk not found\n",
      "spritsail not found\n",
      "stratocaster not found\n",
      "styloid not found\n",
      "terata not found\n",
      "topophobic not found\n",
      "troilism not found\n",
      "tubetti not found\n",
      "tyvek not found\n",
      "v.9 not found\n",
      "verdandi not found\n",
      "vermicilli not found\n",
      "vesuvius not found\n",
      "win- not found\n",
      "www.questions.com not found\n",
      "xoxoxox not found\n",
      "yougurt not found\n",
      "zitoni not found\n",
      "zoonose not found\n",
      "✅Words found in pre-trained vectors: 7687\n",
      "❌Words not found in pre-trained vectors: 419\n"
     ]
    }
   ],
   "source": [
    "embedding_dim = 300\n",
    "num_embeddings = len(TEXT.vocab)\n",
    "\n",
    "embedding_matrix = torch.zeros(num_embeddings, embedding_dim)\n",
    "\n",
    "words_found = 0\n",
    "words_not_found = 0\n",
    "for i, word in enumerate(TEXT.vocab.itos):\n",
    "    if word in word_vectors:\n",
    "        embedding_vector = word_vectors[word]\n",
    "        words_found += 1\n",
    "    else:\n",
    "        print(f\"{word} not found\")\n",
    "        # If the word is not in pre-trained word vectors, initialize it with zeros.\n",
    "        embedding_vector = np.zeros(embedding_dim)\n",
    "        words_not_found += 1\n",
    "\n",
    "    embedding_matrix[i] = torch.tensor(embedding_vector)\n",
    "\n",
    "print(f\"✅Words found in pre-trained vectors: {words_found}\")\n",
    "print(f\"❌Words not found in pre-trained vectors: {words_not_found}\")"
   ],
   "metadata": {
    "collapsed": false,
    "ExecuteTime": {
     "end_time": "2024-03-22T11:40:57.203947Z",
     "start_time": "2024-03-22T11:40:57.067413Z"
    }
   },
   "execution_count": 47
  },
  {
   "cell_type": "code",
   "outputs": [
    {
     "data": {
      "text/plain": "tensor(-10567.5068)"
     },
     "execution_count": 48,
     "metadata": {},
     "output_type": "execute_result"
    }
   ],
   "source": [
    "embedding_matrix.sum()"
   ],
   "metadata": {
    "collapsed": false,
    "ExecuteTime": {
     "end_time": "2024-03-22T11:40:57.238379Z",
     "start_time": "2024-03-22T11:40:57.205Z"
    }
   },
   "execution_count": 48
  },
  {
   "cell_type": "code",
   "outputs": [],
   "source": [],
   "metadata": {
    "collapsed": false,
    "ExecuteTime": {
     "end_time": "2024-03-22T11:40:57.242226Z",
     "start_time": "2024-03-22T11:40:57.240089Z"
    }
   },
   "execution_count": 48
  }
 ],
 "metadata": {
  "accelerator": "GPU",
  "colab": {
   "provenance": []
  },
  "gpuClass": "standard",
  "kernelspec": {
   "display_name": "Python 3 (ipykernel)",
   "language": "python",
   "name": "python3"
  },
  "language_info": {
   "codemirror_mode": {
    "name": "ipython",
    "version": 3
   },
   "file_extension": ".py",
   "mimetype": "text/x-python",
   "name": "python",
   "nbconvert_exporter": "python",
   "pygments_lexer": "ipython3",
   "version": "3.11.2"
  }
 },
 "nbformat": 4,
 "nbformat_minor": 1
}
