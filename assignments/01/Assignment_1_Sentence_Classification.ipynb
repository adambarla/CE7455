{
 "cells": [
  {
   "cell_type": "markdown",
   "metadata": {
    "id": "mRs770o5H1tN"
   },
   "source": [
    "# 1 - Simple Question Classification\n",
    "\n",
    "In this series, we'll develop a deep learning model capable of classifying questions into predefined categories using PyTorch and TorchText. This task will be performed on the [TREC question dataset](https://cogcomp.seas.upenn.edu/Data/QA/QC/), a collection of questions designed to be classified into a small set of categories.\n",
    "\n",
    "In this initial notebook, we aim to grasp the fundamental concepts without a primary focus on achieving high accuracy. Subsequent notebooks will expand upon this foundation to improve the model's performance.\n",
    "\n",
    "### Introduction\n",
    "\n",
    "For analyzing sequences such as sentences in questions, we'll utilize a **recurrent neural network** (RNN). RNNs are particularly suited for sequence analysis, as they process sequences of words, $X=\\{x_1, ..., x_T\\}$, one at a time. Each word in the sequence is associated with a _hidden state_, $h$, which is updated sequentially. The RNN operates _recurrently_ by taking in the current word $x_t$ and the hidden state from the preceding word, $h_{t-1}$, to generate the next hidden state, $h_t$.\n",
    "\n",
    "$$h_t = \\text{RNN}(x_t, h_{t-1})$$\n",
    "\n",
    "Upon processing the last word in the question, $x_T$, and obtaining the final hidden state, $h_T$, this state is passed through a linear layer, $f$, to predict the question's category, $\\hat{y} = f(h_T)$."
   ]
  },
  {
   "cell_type": "markdown",
   "metadata": {
    "id": "q7PlOzNmH1tP"
   },
   "source": [
    "## Preparing Data\n",
    "\n",
    "For processing textual data in PyTorch, TorchText provides a powerful abstraction through the concept of `Field`. These define how to process your data, which, in the context of the TREC question classification task, includes the raw text of the question and its category label.\n",
    "\n",
    "### Fields Definition\n",
    "\n",
    "To process the questions and their labels, we define two fields: `TEXT` for the questions and `LABEL` for the categories.\n",
    "\n",
    "- The `TEXT` field specifies how the questions should be processed. We employ `tokenize='spacy'` as an argument to use the [spaCy](https://spacy.io) tokenizer, which is more sophisticated than simple space-based tokenization. This requires specifying `tokenizer_language` to indicate the spaCy model to use, typically `en_core_web_sm` for English text. This model must be downloaded prior to running your notebook using the command: `python -m spacy download en_core_web_sm`.\n",
    "\n",
    "- The `LABEL` field is managed by a `LabelField`, a variant of the `Field` designed for handling categorical data. The `dtype` argument will be clarified subsequently, ensuring the labels are processed appropriately for classification.\n",
    "\n",
    "For a deeper dive into `Fields` and their configuration, refer to [this Documentation](https://torchtext.readthedocs.io/en/latest/data.html#field).\n",
    "\n",
    "### Random Seed for Reproducibility\n",
    "\n",
    "To ensure that our experiments can be replicated, we set the random seed at the beginning of our preprocessing script. This controls the randomness involved in splitting the dataset and initializing the model weights, making our results reproducible.\n"
   ]
  },
  {
   "cell_type": "code",
   "execution_count": 26,
   "metadata": {
    "id": "hVuNibrCUAdf",
    "ExecuteTime": {
     "end_time": "2024-03-21T13:57:23.200454Z",
     "start_time": "2024-03-21T13:57:23.195779Z"
    }
   },
   "outputs": [],
   "source": [
    "import torch\n",
    "import numpy as np\n",
    "import random\n",
    "\n",
    "SEED = 1234\n",
    "\n",
    "random.seed(SEED)\n",
    "np.random.seed(SEED)\n",
    "torch.manual_seed(SEED)\n",
    "torch.backends.cudnn.deterministic = True"
   ]
  },
  {
   "cell_type": "code",
   "execution_count": 27,
   "metadata": {
    "scrolled": true,
    "ExecuteTime": {
     "end_time": "2024-03-21T13:57:24.779822Z",
     "start_time": "2024-03-21T13:57:23.429118Z"
    }
   },
   "outputs": [
    {
     "name": "stdout",
     "output_type": "stream",
     "text": [
      "Requirement already satisfied: spacy in /Library/Frameworks/Python.framework/Versions/3.10/lib/python3.10/site-packages (3.7.4)\r\n",
      "Requirement already satisfied: spacy-legacy<3.1.0,>=3.0.11 in /Library/Frameworks/Python.framework/Versions/3.10/lib/python3.10/site-packages (from spacy) (3.0.12)\r\n",
      "Requirement already satisfied: spacy-loggers<2.0.0,>=1.0.0 in /Library/Frameworks/Python.framework/Versions/3.10/lib/python3.10/site-packages (from spacy) (1.0.5)\r\n",
      "Requirement already satisfied: murmurhash<1.1.0,>=0.28.0 in /Library/Frameworks/Python.framework/Versions/3.10/lib/python3.10/site-packages (from spacy) (1.0.10)\r\n",
      "Requirement already satisfied: cymem<2.1.0,>=2.0.2 in /Library/Frameworks/Python.framework/Versions/3.10/lib/python3.10/site-packages (from spacy) (2.0.8)\r\n",
      "Requirement already satisfied: preshed<3.1.0,>=3.0.2 in /Library/Frameworks/Python.framework/Versions/3.10/lib/python3.10/site-packages (from spacy) (3.0.9)\r\n",
      "Requirement already satisfied: thinc<8.3.0,>=8.2.2 in /Library/Frameworks/Python.framework/Versions/3.10/lib/python3.10/site-packages (from spacy) (8.2.3)\r\n",
      "Requirement already satisfied: wasabi<1.2.0,>=0.9.1 in /Library/Frameworks/Python.framework/Versions/3.10/lib/python3.10/site-packages (from spacy) (1.1.2)\r\n",
      "Requirement already satisfied: srsly<3.0.0,>=2.4.3 in /Library/Frameworks/Python.framework/Versions/3.10/lib/python3.10/site-packages (from spacy) (2.4.8)\r\n",
      "Requirement already satisfied: catalogue<2.1.0,>=2.0.6 in /Library/Frameworks/Python.framework/Versions/3.10/lib/python3.10/site-packages (from spacy) (2.0.10)\r\n",
      "Requirement already satisfied: weasel<0.4.0,>=0.1.0 in /Library/Frameworks/Python.framework/Versions/3.10/lib/python3.10/site-packages (from spacy) (0.3.4)\r\n",
      "Requirement already satisfied: typer<0.10.0,>=0.3.0 in /Library/Frameworks/Python.framework/Versions/3.10/lib/python3.10/site-packages (from spacy) (0.9.0)\r\n",
      "Requirement already satisfied: smart-open<7.0.0,>=5.2.1 in /Library/Frameworks/Python.framework/Versions/3.10/lib/python3.10/site-packages (from spacy) (6.4.0)\r\n",
      "Requirement already satisfied: tqdm<5.0.0,>=4.38.0 in /Library/Frameworks/Python.framework/Versions/3.10/lib/python3.10/site-packages (from spacy) (4.66.1)\r\n",
      "Requirement already satisfied: requests<3.0.0,>=2.13.0 in /Library/Frameworks/Python.framework/Versions/3.10/lib/python3.10/site-packages (from spacy) (2.31.0)\r\n",
      "Requirement already satisfied: pydantic!=1.8,!=1.8.1,<3.0.0,>=1.7.4 in /Library/Frameworks/Python.framework/Versions/3.10/lib/python3.10/site-packages (from spacy) (2.6.4)\r\n",
      "Requirement already satisfied: jinja2 in /Library/Frameworks/Python.framework/Versions/3.10/lib/python3.10/site-packages (from spacy) (3.1.3)\r\n",
      "Requirement already satisfied: setuptools in /Library/Frameworks/Python.framework/Versions/3.10/lib/python3.10/site-packages (from spacy) (65.5.0)\r\n",
      "Requirement already satisfied: packaging>=20.0 in /Library/Frameworks/Python.framework/Versions/3.10/lib/python3.10/site-packages (from spacy) (24.0)\r\n",
      "Requirement already satisfied: langcodes<4.0.0,>=3.2.0 in /Library/Frameworks/Python.framework/Versions/3.10/lib/python3.10/site-packages (from spacy) (3.3.0)\r\n",
      "Requirement already satisfied: numpy>=1.19.0 in /Library/Frameworks/Python.framework/Versions/3.10/lib/python3.10/site-packages (from spacy) (1.26.2)\r\n",
      "Requirement already satisfied: annotated-types>=0.4.0 in /Library/Frameworks/Python.framework/Versions/3.10/lib/python3.10/site-packages (from pydantic!=1.8,!=1.8.1,<3.0.0,>=1.7.4->spacy) (0.6.0)\r\n",
      "Requirement already satisfied: pydantic-core==2.16.3 in /Library/Frameworks/Python.framework/Versions/3.10/lib/python3.10/site-packages (from pydantic!=1.8,!=1.8.1,<3.0.0,>=1.7.4->spacy) (2.16.3)\r\n",
      "Requirement already satisfied: typing-extensions>=4.6.1 in /Library/Frameworks/Python.framework/Versions/3.10/lib/python3.10/site-packages (from pydantic!=1.8,!=1.8.1,<3.0.0,>=1.7.4->spacy) (4.10.0)\r\n",
      "Requirement already satisfied: charset-normalizer<4,>=2 in /Library/Frameworks/Python.framework/Versions/3.10/lib/python3.10/site-packages (from requests<3.0.0,>=2.13.0->spacy) (3.3.2)\r\n",
      "Requirement already satisfied: idna<4,>=2.5 in /Library/Frameworks/Python.framework/Versions/3.10/lib/python3.10/site-packages (from requests<3.0.0,>=2.13.0->spacy) (3.6)\r\n",
      "Requirement already satisfied: urllib3<3,>=1.21.1 in /Library/Frameworks/Python.framework/Versions/3.10/lib/python3.10/site-packages (from requests<3.0.0,>=2.13.0->spacy) (2.2.1)\r\n",
      "Requirement already satisfied: certifi>=2017.4.17 in /Library/Frameworks/Python.framework/Versions/3.10/lib/python3.10/site-packages (from requests<3.0.0,>=2.13.0->spacy) (2024.2.2)\r\n",
      "Requirement already satisfied: blis<0.8.0,>=0.7.8 in /Library/Frameworks/Python.framework/Versions/3.10/lib/python3.10/site-packages (from thinc<8.3.0,>=8.2.2->spacy) (0.7.11)\r\n",
      "Requirement already satisfied: confection<1.0.0,>=0.0.1 in /Library/Frameworks/Python.framework/Versions/3.10/lib/python3.10/site-packages (from thinc<8.3.0,>=8.2.2->spacy) (0.1.4)\r\n",
      "Requirement already satisfied: click<9.0.0,>=7.1.1 in /Library/Frameworks/Python.framework/Versions/3.10/lib/python3.10/site-packages (from typer<0.10.0,>=0.3.0->spacy) (8.1.7)\r\n",
      "Requirement already satisfied: cloudpathlib<0.17.0,>=0.7.0 in /Library/Frameworks/Python.framework/Versions/3.10/lib/python3.10/site-packages (from weasel<0.4.0,>=0.1.0->spacy) (0.16.0)\r\n",
      "Requirement already satisfied: MarkupSafe>=2.0 in /Library/Frameworks/Python.framework/Versions/3.10/lib/python3.10/site-packages (from jinja2->spacy) (2.1.5)\r\n"
     ]
    }
   ],
   "source": [
    "!pip install spacy"
   ]
  },
  {
   "cell_type": "code",
   "execution_count": 28,
   "metadata": {
    "scrolled": true,
    "ExecuteTime": {
     "end_time": "2024-03-21T13:57:32.650942Z",
     "start_time": "2024-03-21T13:57:24.782016Z"
    }
   },
   "outputs": [
    {
     "name": "stdout",
     "output_type": "stream",
     "text": [
      "Collecting en-core-web-sm==3.7.1\r\n",
      "  Downloading https://github.com/explosion/spacy-models/releases/download/en_core_web_sm-3.7.1/en_core_web_sm-3.7.1-py3-none-any.whl (12.8 MB)\r\n",
      "\u001B[2K     \u001B[90m━━━━━━━━━━━━━━━━━━━━━━━━━━━━━━━━━━━━━━━━\u001B[0m \u001B[32m12.8/12.8 MB\u001B[0m \u001B[31m4.7 MB/s\u001B[0m eta \u001B[36m0:00:00\u001B[0m00:01\u001B[0m00:01\u001B[0m\r\n",
      "\u001B[?25hRequirement already satisfied: spacy<3.8.0,>=3.7.2 in /Library/Frameworks/Python.framework/Versions/3.10/lib/python3.10/site-packages (from en-core-web-sm==3.7.1) (3.7.4)\r\n",
      "Requirement already satisfied: spacy-legacy<3.1.0,>=3.0.11 in /Library/Frameworks/Python.framework/Versions/3.10/lib/python3.10/site-packages (from spacy<3.8.0,>=3.7.2->en-core-web-sm==3.7.1) (3.0.12)\r\n",
      "Requirement already satisfied: spacy-loggers<2.0.0,>=1.0.0 in /Library/Frameworks/Python.framework/Versions/3.10/lib/python3.10/site-packages (from spacy<3.8.0,>=3.7.2->en-core-web-sm==3.7.1) (1.0.5)\r\n",
      "Requirement already satisfied: murmurhash<1.1.0,>=0.28.0 in /Library/Frameworks/Python.framework/Versions/3.10/lib/python3.10/site-packages (from spacy<3.8.0,>=3.7.2->en-core-web-sm==3.7.1) (1.0.10)\r\n",
      "Requirement already satisfied: cymem<2.1.0,>=2.0.2 in /Library/Frameworks/Python.framework/Versions/3.10/lib/python3.10/site-packages (from spacy<3.8.0,>=3.7.2->en-core-web-sm==3.7.1) (2.0.8)\r\n",
      "Requirement already satisfied: preshed<3.1.0,>=3.0.2 in /Library/Frameworks/Python.framework/Versions/3.10/lib/python3.10/site-packages (from spacy<3.8.0,>=3.7.2->en-core-web-sm==3.7.1) (3.0.9)\r\n",
      "Requirement already satisfied: thinc<8.3.0,>=8.2.2 in /Library/Frameworks/Python.framework/Versions/3.10/lib/python3.10/site-packages (from spacy<3.8.0,>=3.7.2->en-core-web-sm==3.7.1) (8.2.3)\r\n",
      "Requirement already satisfied: wasabi<1.2.0,>=0.9.1 in /Library/Frameworks/Python.framework/Versions/3.10/lib/python3.10/site-packages (from spacy<3.8.0,>=3.7.2->en-core-web-sm==3.7.1) (1.1.2)\r\n",
      "Requirement already satisfied: srsly<3.0.0,>=2.4.3 in /Library/Frameworks/Python.framework/Versions/3.10/lib/python3.10/site-packages (from spacy<3.8.0,>=3.7.2->en-core-web-sm==3.7.1) (2.4.8)\r\n",
      "Requirement already satisfied: catalogue<2.1.0,>=2.0.6 in /Library/Frameworks/Python.framework/Versions/3.10/lib/python3.10/site-packages (from spacy<3.8.0,>=3.7.2->en-core-web-sm==3.7.1) (2.0.10)\r\n",
      "Requirement already satisfied: weasel<0.4.0,>=0.1.0 in /Library/Frameworks/Python.framework/Versions/3.10/lib/python3.10/site-packages (from spacy<3.8.0,>=3.7.2->en-core-web-sm==3.7.1) (0.3.4)\r\n",
      "Requirement already satisfied: typer<0.10.0,>=0.3.0 in /Library/Frameworks/Python.framework/Versions/3.10/lib/python3.10/site-packages (from spacy<3.8.0,>=3.7.2->en-core-web-sm==3.7.1) (0.9.0)\r\n",
      "Requirement already satisfied: smart-open<7.0.0,>=5.2.1 in /Library/Frameworks/Python.framework/Versions/3.10/lib/python3.10/site-packages (from spacy<3.8.0,>=3.7.2->en-core-web-sm==3.7.1) (6.4.0)\r\n",
      "Requirement already satisfied: tqdm<5.0.0,>=4.38.0 in /Library/Frameworks/Python.framework/Versions/3.10/lib/python3.10/site-packages (from spacy<3.8.0,>=3.7.2->en-core-web-sm==3.7.1) (4.66.1)\r\n",
      "Requirement already satisfied: requests<3.0.0,>=2.13.0 in /Library/Frameworks/Python.framework/Versions/3.10/lib/python3.10/site-packages (from spacy<3.8.0,>=3.7.2->en-core-web-sm==3.7.1) (2.31.0)\r\n",
      "Requirement already satisfied: pydantic!=1.8,!=1.8.1,<3.0.0,>=1.7.4 in /Library/Frameworks/Python.framework/Versions/3.10/lib/python3.10/site-packages (from spacy<3.8.0,>=3.7.2->en-core-web-sm==3.7.1) (2.6.4)\r\n",
      "Requirement already satisfied: jinja2 in /Library/Frameworks/Python.framework/Versions/3.10/lib/python3.10/site-packages (from spacy<3.8.0,>=3.7.2->en-core-web-sm==3.7.1) (3.1.3)\r\n",
      "Requirement already satisfied: setuptools in /Library/Frameworks/Python.framework/Versions/3.10/lib/python3.10/site-packages (from spacy<3.8.0,>=3.7.2->en-core-web-sm==3.7.1) (65.5.0)\r\n",
      "Requirement already satisfied: packaging>=20.0 in /Library/Frameworks/Python.framework/Versions/3.10/lib/python3.10/site-packages (from spacy<3.8.0,>=3.7.2->en-core-web-sm==3.7.1) (24.0)\r\n",
      "Requirement already satisfied: langcodes<4.0.0,>=3.2.0 in /Library/Frameworks/Python.framework/Versions/3.10/lib/python3.10/site-packages (from spacy<3.8.0,>=3.7.2->en-core-web-sm==3.7.1) (3.3.0)\r\n",
      "Requirement already satisfied: numpy>=1.19.0 in /Library/Frameworks/Python.framework/Versions/3.10/lib/python3.10/site-packages (from spacy<3.8.0,>=3.7.2->en-core-web-sm==3.7.1) (1.26.2)\r\n",
      "Requirement already satisfied: annotated-types>=0.4.0 in /Library/Frameworks/Python.framework/Versions/3.10/lib/python3.10/site-packages (from pydantic!=1.8,!=1.8.1,<3.0.0,>=1.7.4->spacy<3.8.0,>=3.7.2->en-core-web-sm==3.7.1) (0.6.0)\r\n",
      "Requirement already satisfied: pydantic-core==2.16.3 in /Library/Frameworks/Python.framework/Versions/3.10/lib/python3.10/site-packages (from pydantic!=1.8,!=1.8.1,<3.0.0,>=1.7.4->spacy<3.8.0,>=3.7.2->en-core-web-sm==3.7.1) (2.16.3)\r\n",
      "Requirement already satisfied: typing-extensions>=4.6.1 in /Library/Frameworks/Python.framework/Versions/3.10/lib/python3.10/site-packages (from pydantic!=1.8,!=1.8.1,<3.0.0,>=1.7.4->spacy<3.8.0,>=3.7.2->en-core-web-sm==3.7.1) (4.10.0)\r\n",
      "Requirement already satisfied: charset-normalizer<4,>=2 in /Library/Frameworks/Python.framework/Versions/3.10/lib/python3.10/site-packages (from requests<3.0.0,>=2.13.0->spacy<3.8.0,>=3.7.2->en-core-web-sm==3.7.1) (3.3.2)\r\n",
      "Requirement already satisfied: idna<4,>=2.5 in /Library/Frameworks/Python.framework/Versions/3.10/lib/python3.10/site-packages (from requests<3.0.0,>=2.13.0->spacy<3.8.0,>=3.7.2->en-core-web-sm==3.7.1) (3.6)\r\n",
      "Requirement already satisfied: urllib3<3,>=1.21.1 in /Library/Frameworks/Python.framework/Versions/3.10/lib/python3.10/site-packages (from requests<3.0.0,>=2.13.0->spacy<3.8.0,>=3.7.2->en-core-web-sm==3.7.1) (2.2.1)\r\n",
      "Requirement already satisfied: certifi>=2017.4.17 in /Library/Frameworks/Python.framework/Versions/3.10/lib/python3.10/site-packages (from requests<3.0.0,>=2.13.0->spacy<3.8.0,>=3.7.2->en-core-web-sm==3.7.1) (2024.2.2)\r\n",
      "Requirement already satisfied: blis<0.8.0,>=0.7.8 in /Library/Frameworks/Python.framework/Versions/3.10/lib/python3.10/site-packages (from thinc<8.3.0,>=8.2.2->spacy<3.8.0,>=3.7.2->en-core-web-sm==3.7.1) (0.7.11)\r\n",
      "Requirement already satisfied: confection<1.0.0,>=0.0.1 in /Library/Frameworks/Python.framework/Versions/3.10/lib/python3.10/site-packages (from thinc<8.3.0,>=8.2.2->spacy<3.8.0,>=3.7.2->en-core-web-sm==3.7.1) (0.1.4)\r\n",
      "Requirement already satisfied: click<9.0.0,>=7.1.1 in /Library/Frameworks/Python.framework/Versions/3.10/lib/python3.10/site-packages (from typer<0.10.0,>=0.3.0->spacy<3.8.0,>=3.7.2->en-core-web-sm==3.7.1) (8.1.7)\r\n",
      "Requirement already satisfied: cloudpathlib<0.17.0,>=0.7.0 in /Library/Frameworks/Python.framework/Versions/3.10/lib/python3.10/site-packages (from weasel<0.4.0,>=0.1.0->spacy<3.8.0,>=3.7.2->en-core-web-sm==3.7.1) (0.16.0)\r\n",
      "Requirement already satisfied: MarkupSafe>=2.0 in /Library/Frameworks/Python.framework/Versions/3.10/lib/python3.10/site-packages (from jinja2->spacy<3.8.0,>=3.7.2->en-core-web-sm==3.7.1) (2.1.5)\r\n",
      "\u001B[38;5;2m✔ Download and installation successful\u001B[0m\r\n",
      "You can now load the package via spacy.load('en_core_web_sm')\r\n"
     ]
    }
   ],
   "source": [
    "import sys\n",
    "!{sys.executable} -m spacy download en_core_web_sm"
   ]
  },
  {
   "cell_type": "code",
   "execution_count": 29,
   "metadata": {
    "ExecuteTime": {
     "end_time": "2024-03-21T13:57:33.520614Z",
     "start_time": "2024-03-21T13:57:32.652787Z"
    }
   },
   "outputs": [
    {
     "ename": "KeyboardInterrupt",
     "evalue": "",
     "output_type": "error",
     "traceback": [
      "\u001B[0;31m---------------------------------------------------------------------------\u001B[0m",
      "\u001B[0;31mKeyboardInterrupt\u001B[0m                         Traceback (most recent call last)",
      "Cell \u001B[0;32mIn[29], line 1\u001B[0m\n\u001B[0;32m----> 1\u001B[0m \u001B[38;5;28;01mimport\u001B[39;00m \u001B[38;5;21;01mspacy\u001B[39;00m\n\u001B[1;32m      3\u001B[0m nlp \u001B[38;5;241m=\u001B[39m spacy\u001B[38;5;241m.\u001B[39mload(\u001B[38;5;124m\"\u001B[39m\u001B[38;5;124men_core_web_sm\u001B[39m\u001B[38;5;124m\"\u001B[39m)\n",
      "File \u001B[0;32m/Library/Frameworks/Python.framework/Versions/3.10/lib/python3.10/site-packages/spacy/__init__.py:13\u001B[0m\n\u001B[1;32m     10\u001B[0m \u001B[38;5;66;03m# These are imported as part of the API\u001B[39;00m\n\u001B[1;32m     11\u001B[0m \u001B[38;5;28;01mfrom\u001B[39;00m \u001B[38;5;21;01mthinc\u001B[39;00m\u001B[38;5;21;01m.\u001B[39;00m\u001B[38;5;21;01mapi\u001B[39;00m \u001B[38;5;28;01mimport\u001B[39;00m Config, prefer_gpu, require_cpu, require_gpu  \u001B[38;5;66;03m# noqa: F401\u001B[39;00m\n\u001B[0;32m---> 13\u001B[0m \u001B[38;5;28;01mfrom\u001B[39;00m \u001B[38;5;21;01m.\u001B[39;00m \u001B[38;5;28;01mimport\u001B[39;00m pipeline  \u001B[38;5;66;03m# noqa: F401\u001B[39;00m\n\u001B[1;32m     14\u001B[0m \u001B[38;5;28;01mfrom\u001B[39;00m \u001B[38;5;21;01m.\u001B[39;00m \u001B[38;5;28;01mimport\u001B[39;00m util\n\u001B[1;32m     15\u001B[0m \u001B[38;5;28;01mfrom\u001B[39;00m \u001B[38;5;21;01m.\u001B[39;00m\u001B[38;5;21;01mabout\u001B[39;00m \u001B[38;5;28;01mimport\u001B[39;00m __version__  \u001B[38;5;66;03m# noqa: F401\u001B[39;00m\n",
      "File \u001B[0;32m/Library/Frameworks/Python.framework/Versions/3.10/lib/python3.10/site-packages/spacy/pipeline/__init__.py:1\u001B[0m\n\u001B[0;32m----> 1\u001B[0m \u001B[38;5;28;01mfrom\u001B[39;00m \u001B[38;5;21;01m.\u001B[39;00m\u001B[38;5;21;01mattributeruler\u001B[39;00m \u001B[38;5;28;01mimport\u001B[39;00m AttributeRuler\n\u001B[1;32m      2\u001B[0m \u001B[38;5;28;01mfrom\u001B[39;00m \u001B[38;5;21;01m.\u001B[39;00m\u001B[38;5;21;01mdep_parser\u001B[39;00m \u001B[38;5;28;01mimport\u001B[39;00m DependencyParser\n\u001B[1;32m      3\u001B[0m \u001B[38;5;28;01mfrom\u001B[39;00m \u001B[38;5;21;01m.\u001B[39;00m\u001B[38;5;21;01medit_tree_lemmatizer\u001B[39;00m \u001B[38;5;28;01mimport\u001B[39;00m EditTreeLemmatizer\n",
      "File \u001B[0;32m/Library/Frameworks/Python.framework/Versions/3.10/lib/python3.10/site-packages/spacy/pipeline/attributeruler.py:6\u001B[0m\n\u001B[1;32m      2\u001B[0m \u001B[38;5;28;01mfrom\u001B[39;00m \u001B[38;5;21;01mtyping\u001B[39;00m \u001B[38;5;28;01mimport\u001B[39;00m Any, Callable, Dict, Iterable, List, Optional, Tuple, Union\n\u001B[1;32m      4\u001B[0m \u001B[38;5;28;01mimport\u001B[39;00m \u001B[38;5;21;01msrsly\u001B[39;00m\n\u001B[0;32m----> 6\u001B[0m \u001B[38;5;28;01mfrom\u001B[39;00m \u001B[38;5;21;01m.\u001B[39;00m\u001B[38;5;21;01m.\u001B[39;00m \u001B[38;5;28;01mimport\u001B[39;00m util\n\u001B[1;32m      7\u001B[0m \u001B[38;5;28;01mfrom\u001B[39;00m \u001B[38;5;21;01m.\u001B[39;00m\u001B[38;5;21;01m.\u001B[39;00m\u001B[38;5;21;01merrors\u001B[39;00m \u001B[38;5;28;01mimport\u001B[39;00m Errors\n\u001B[1;32m      8\u001B[0m \u001B[38;5;28;01mfrom\u001B[39;00m \u001B[38;5;21;01m.\u001B[39;00m\u001B[38;5;21;01m.\u001B[39;00m\u001B[38;5;21;01mlanguage\u001B[39;00m \u001B[38;5;28;01mimport\u001B[39;00m Language\n",
      "File \u001B[0;32m/Library/Frameworks/Python.framework/Versions/3.10/lib/python3.10/site-packages/spacy/util.py:43\u001B[0m\n\u001B[1;32m     22\u001B[0m \u001B[38;5;28;01mfrom\u001B[39;00m \u001B[38;5;21;01mtyping\u001B[39;00m \u001B[38;5;28;01mimport\u001B[39;00m (\n\u001B[1;32m     23\u001B[0m     TYPE_CHECKING,\n\u001B[1;32m     24\u001B[0m     Any,\n\u001B[0;32m   (...)\u001B[0m\n\u001B[1;32m     39\u001B[0m     cast,\n\u001B[1;32m     40\u001B[0m )\n\u001B[1;32m     42\u001B[0m \u001B[38;5;28;01mimport\u001B[39;00m \u001B[38;5;21;01mcatalogue\u001B[39;00m\n\u001B[0;32m---> 43\u001B[0m \u001B[38;5;28;01mimport\u001B[39;00m \u001B[38;5;21;01mlangcodes\u001B[39;00m\n\u001B[1;32m     44\u001B[0m \u001B[38;5;28;01mimport\u001B[39;00m \u001B[38;5;21;01mnumpy\u001B[39;00m\n\u001B[1;32m     45\u001B[0m \u001B[38;5;28;01mimport\u001B[39;00m \u001B[38;5;21;01msrsly\u001B[39;00m\n",
      "File \u001B[0;32m/Library/Frameworks/Python.framework/Versions/3.10/lib/python3.10/site-packages/langcodes/__init__.py:20\u001B[0m\n\u001B[1;32m     17\u001B[0m \u001B[38;5;28;01mimport\u001B[39;00m \u001B[38;5;21;01msys\u001B[39;00m\n\u001B[1;32m     19\u001B[0m \u001B[38;5;28;01mfrom\u001B[39;00m \u001B[38;5;21;01mlangcodes\u001B[39;00m\u001B[38;5;21;01m.\u001B[39;00m\u001B[38;5;21;01mtag_parser\u001B[39;00m \u001B[38;5;28;01mimport\u001B[39;00m LanguageTagError, parse_tag, normalize_characters\n\u001B[0;32m---> 20\u001B[0m \u001B[38;5;28;01mfrom\u001B[39;00m \u001B[38;5;21;01mlangcodes\u001B[39;00m\u001B[38;5;21;01m.\u001B[39;00m\u001B[38;5;21;01mlanguage_distance\u001B[39;00m \u001B[38;5;28;01mimport\u001B[39;00m tuple_distance_cached\n\u001B[1;32m     21\u001B[0m \u001B[38;5;28;01mfrom\u001B[39;00m \u001B[38;5;21;01mlangcodes\u001B[39;00m\u001B[38;5;21;01m.\u001B[39;00m\u001B[38;5;21;01mdata_dicts\u001B[39;00m \u001B[38;5;28;01mimport\u001B[39;00m (\n\u001B[1;32m     22\u001B[0m     ALL_SCRIPTS,\n\u001B[1;32m     23\u001B[0m     DEFAULT_SCRIPTS,\n\u001B[0;32m   (...)\u001B[0m\n\u001B[1;32m     30\u001B[0m     VALIDITY,\n\u001B[1;32m     31\u001B[0m )\n\u001B[1;32m     33\u001B[0m \u001B[38;5;66;03m# When we're getting natural language information *about* languages, it's in\u001B[39;00m\n\u001B[1;32m     34\u001B[0m \u001B[38;5;66;03m# English if you don't specify the language.\u001B[39;00m\n",
      "File \u001B[0;32m/Library/Frameworks/Python.framework/Versions/3.10/lib/python3.10/site-packages/langcodes/language_distance.py:1\u001B[0m\n\u001B[0;32m----> 1\u001B[0m \u001B[38;5;28;01mfrom\u001B[39;00m \u001B[38;5;21;01m.\u001B[39;00m\u001B[38;5;21;01mdata_dicts\u001B[39;00m \u001B[38;5;28;01mimport\u001B[39;00m LANGUAGE_DISTANCES\n\u001B[1;32m      2\u001B[0m \u001B[38;5;28;01mfrom\u001B[39;00m \u001B[38;5;21;01mtyping\u001B[39;00m \u001B[38;5;28;01mimport\u001B[39;00m Dict, Tuple\n\u001B[1;32m      5\u001B[0m TagTriple \u001B[38;5;241m=\u001B[39m Tuple[\u001B[38;5;28mstr\u001B[39m, \u001B[38;5;28mstr\u001B[39m, \u001B[38;5;28mstr\u001B[39m]\n",
      "File \u001B[0;32m/Library/Frameworks/Python.framework/Versions/3.10/lib/python3.10/site-packages/langcodes/data_dicts.py:4377\u001B[0m\n\u001B[1;32m   2152\u001B[0m LIKELY_SUBTAGS \u001B[38;5;241m=\u001B[39m {\n\u001B[1;32m   2153\u001B[0m     \u001B[38;5;124m'\u001B[39m\u001B[38;5;124maa\u001B[39m\u001B[38;5;124m'\u001B[39m: \u001B[38;5;124m'\u001B[39m\u001B[38;5;124maa-Latn-ET\u001B[39m\u001B[38;5;124m'\u001B[39m,\n\u001B[1;32m   2154\u001B[0m     \u001B[38;5;124m'\u001B[39m\u001B[38;5;124maai\u001B[39m\u001B[38;5;124m'\u001B[39m: \u001B[38;5;124m'\u001B[39m\u001B[38;5;124maai-Latn-ZZ\u001B[39m\u001B[38;5;124m'\u001B[39m,\n\u001B[0;32m   (...)\u001B[0m\n\u001B[1;32m   4018\u001B[0m     \u001B[38;5;124m'\u001B[39m\u001B[38;5;124mzza\u001B[39m\u001B[38;5;124m'\u001B[39m: \u001B[38;5;124m'\u001B[39m\u001B[38;5;124mzza-Latn-TR\u001B[39m\u001B[38;5;124m'\u001B[39m,\n\u001B[1;32m   4019\u001B[0m }\n\u001B[1;32m   4020\u001B[0m LANGUAGE_DISTANCES \u001B[38;5;241m=\u001B[39m {\n\u001B[1;32m   4021\u001B[0m     \u001B[38;5;124m'\u001B[39m\u001B[38;5;124m*\u001B[39m\u001B[38;5;124m'\u001B[39m: {\u001B[38;5;124m'\u001B[39m\u001B[38;5;124m*\u001B[39m\u001B[38;5;124m'\u001B[39m: \u001B[38;5;241m80\u001B[39m},\n\u001B[1;32m   4022\u001B[0m     \u001B[38;5;124m'\u001B[39m\u001B[38;5;124m*_*\u001B[39m\u001B[38;5;124m'\u001B[39m: {\u001B[38;5;124m'\u001B[39m\u001B[38;5;124m*_*\u001B[39m\u001B[38;5;124m'\u001B[39m: \u001B[38;5;241m50\u001B[39m},\n\u001B[0;32m   (...)\u001B[0m\n\u001B[1;32m   4375\u001B[0m     \u001B[38;5;124m'\u001B[39m\u001B[38;5;124mzu\u001B[39m\u001B[38;5;124m'\u001B[39m: {\u001B[38;5;124m'\u001B[39m\u001B[38;5;124men\u001B[39m\u001B[38;5;124m'\u001B[39m: \u001B[38;5;241m30\u001B[39m},\n\u001B[1;32m   4376\u001B[0m }\n\u001B[0;32m-> 4377\u001B[0m VALIDITY \u001B[38;5;241m=\u001B[39m \u001B[43mre\u001B[49m\u001B[38;5;241;43m.\u001B[39;49m\u001B[43mcompile\u001B[49m\u001B[43m(\u001B[49m\u001B[38;5;124;43m'\u001B[39;49m\u001B[38;5;124;43m^(aa|aa[a-i]|aa[k-l]|aa[n-q]|aa[s-x]|aaz|ab|ab[a-j]|ab[l-z]|ac[a-b]|ac[d-f]|ac[h-i]|ac[k-n]|ac[p-z]|ad[a-b]|ad[d-j]|adl|ad[n-o]|ad[q-u]|ad[w-z]|ae|ae[a-e]|ae[k-n]|ae[q-s]|aeu|aew|ae[y-z]|af|af[a-b]|af[d-e]|af[g-i]|afk|af[n-p]|af[s-u]|afz|ag[a-o]|ag[q-z]|ah[a-b]|ah[g-i]|ah[k-p]|ah[r-t]|ai[a-r]|ait|ai[w-y]|aja|ajg|aji|ajn|ajp|ajt|ajw|ajz|ak|ak[b-m]|ak[o-z]|ala|al[c-r]|al[t-z]|am|am[a-c]|am[e-g]|am[i-z]|an|an[a-z]|ao[a-g]|ao[i-n]|ao[r-u]|aox|aoz|ap[a-z]|aqa|aq[c-d]|aqg|aq[k-n]|aqp|aqr|aqt|aqz|ar|ar[c-e]|ar[h-l]|ar[n-z]|as|as[a-c]|as[e-l]|as[n-z]|at[a-e]|at[g-z]|au[a-d]|au[f-u]|au[w-z]|av|avb|avd|avi|av[k-o]|av[s-v]|aw[a-e]|aw[g-i]|awk|aw[m-o]|aw[r-y]|axb|axe|axg|ax[k-m]|axx|ay|ay[a-e]|ay[g-i]|ay[k-l]|ay[n-q]|ay[s-u]|ayz|az|az[a-d]|azg|az[m-o]|azt|azz|ba|ba[a-j]|bal|ba[n-p]|ba[r-y]|bb[a-y]|bc[a-b]|bc[d-k]|bc[m-w]|bc[y-z]|bd[a-z]|be|be[a-k]|bem|be[o-z]|bf[a-u]|bf[w-z]|bg|bg[a-g]|bg[i-l]|bg[n-z]|bh[a-j]|bh[l-z]|bi|bi[a-b]|bi[d-g]|bi[k-r]|bi[t-z]|bj[a-c]|bj[e-p]|bj[r-z]|bka|bk[c-d]|bk[f-z]|bl[a-f]|bl[h-t]|bl[v-z]|bm|bm[a-x]|bmz|bn|bn[a-g]|bn[i-z]|bo|bo[a-b]|bo[e-r]|bo[t-z]|bpa|bp[d-e]|bp[g-z]|bq[a-d]|bq[f-z]|br|br[a-d]|br[f-z]|bs|bs[a-c]|bs[e-y]|bta|bt[c-k]|bt[m-z]|bu[a-k]|bu[m-q]|bu[s-z]|bv[a-r]|bv[t-z]|bw[a-u]|bw[w-z]|bx[a-j]|bx[l-q]|bxs|bx[u-w]|bxz|by[a-t]|by[v-x]|byz|bz[a-z]|ca|ca[a-s]|ca[u-z]|cb[a-d]|cbg|cb[i-l]|cb[n-o]|cb[q-w]|cby|cc[c-e]|cc[g-h]|ccj|cc[l-p]|cc[r-s]|cda|cd[c-f]|cd[h-j]|cd[m-o]|cd[r-s]|cd[y-z]|ce|ce[a-b]|ceg|ce[k-l]|cen|cet|cey|cfa|cfd|cfg|cfm|cga|cgc|cgg|cgk|ch|ch[b-d]|ch[f-h]|ch[j-r]|cht|ch[w-z]|ci[a-e]|cih|cik|ci[m-n]|cip|cir|ciw|ciy|cja|cje|cj[h-i]|cjk|cj[m-p]|cjs|cjv|cjy|ckb|ckh|ck[l-o]|ck[q-v]|ck[x-z]|cla|clc|cle|cl[h-m]|clo|cl[t-u]|clw|cly|cma|cmc|cme|cmg|cmi|cm[l-m]|cmo|cm[r-t]|cn[a-c]|cn[g-i]|cn[k-l]|cn[o-p]|cn[s-u]|cn[w-x]|co|co[a-h]|co[j-q]|co[t-x]|coz|cp[a-c]|cp[e-g]|cpi|cp[n-p]|cps|cpu|cp[x-y]|cqd|cr|cr[a-d]|cr[f-t]|cr[v-z]|cs|cs[a-z]|cta|ct[c-e]|ct[g-h]|ct[l-p]|ct[s-u]|ct[y-z]|cu|cu[a-c]|cu[g-l]|cu[o-y]|cv|cvg|cvn|cw[a-b]|cwe|cwg|cwt|cy|cy[a-b]|cyo|czh|czk|cz[n-o]|czt|da|daa|da[c-e]|da[g-m]|dao|da[q-s]|da[u-z]|db[a-b]|db[d-g]|db[i-j]|db[l-r]|db[t-w]|dby|dcc|dcr|dda|dd[d-e]|ddg|dd[i-j]|dd[n-o]|dd[r-s]|ddw|de|de[c-i]|de[k-n]|de[p-s]|dev|dez|dg[a-e]|dg[g-i]|dg[k-l]|dgn|dg[r-t]|dg[w-x]|dgz|dhg|dhi|dh[l-o]|dh[r-s]|dh[u-x]|di[a-d]|di[f-j]|di[l-p]|di[r-s]|diu|di[w-z]|dj[a-f]|dj[i-k]|dj[m-o]|djr|dju|djw|dka|dkg|dkk|dk[r-s]|dkx|dlg|dlk|dl[m-n]|dm[a-g]|dm[k-o]|dm[r-s]|dm[u-y]|dna|dn[d-e]|dng|dn[i-k]|dn[n-o]|dnr|dn[t-w]|dny|do[a-c]|do[e-f]|do[h-i]|do[k-l]|do[n-t]|do[v-z]|dpp|dr[a-e]|drg|dri|drl|dr[n-o]|drq|dr[s-u]|dry|dsb|dse|ds[h-i]|dsl|ds[n-o]|dsq|dt[a-b]|dtd|dt[h-i]|dtk|dt[m-p]|dt[r-u]|dty|du[a-c]|du[e-i]|du[k-s]|du[u-z]|dv|dva|dwa|dwk|dw[r-s]|dwu|dww|dw[y-z]|dy[a-b]|dyd|dyg|dyi|dy[m-o]|dyu|dyy|dz|dza|dze|dzg|dzl|dzn|eaa|ebc|ebg|ebk|ebo|ebr|ebu|ec[r-s]|ecy|ee|eee|efa|efe|efi|ega|egl|ego|eg[x-y]|ehs|ehu|eip|eit|eiv|eja|eka|eke|ekg|eki|ek[l-m]|ek[o-p]|ekr|eky|el|ele|el[h-i]|elk|elm|elo|elu|elx|em[a-b]|eme|emg|emi|em[m-n]|em[p-q]|ems|emu|em[w-z]|en|en[a-d]|enf|enh|en[l-o]|en[q-r]|en[u-x]|eo|eot|epi|era|er[g-i]|erk|ero|er[r-t]|erw|es|ese|es[g-i]|es[l-o]|esq|ess|esu|es[x-y]|et|et[b-c]|eth|et[n-o]|et[r-u]|etx|etz|eu|euq|eve|evh|evn|ewo|ext|eya|eyo|eza|eze|fa|fa[a-b]|fad|fa[f-n]|fap|far|fau|fa[x-z]|fbl|fcs|fer|ff|ffi|ffm|fgr|fi|fia|fi[e-f]|fil|fip|fir|fi[t-u]|fiw|fj|fkk|fkv|fla|fl[h-i]|fll|fln|flr|fly|fmp|fmu|fnb|fng|fni|fo|fod|foi|fo[m-n]|fo[r-s]|fox|fpe|fqs|fr|fr[c-d]|frk|frm|fr[o-t]|fse|fsl|fss|fub|fu[d-f]|fu[h-j]|fu[m-n]|fu[q-r]|fu[t-v]|fuy|fvr|fwa|fwe|fy|ga|ga[a-u]|ga[w-y]|gb[a-b]|gb[d-n]|gb[p-s]|gb[u-z]|gc[c-f]|gcl|gcn|gcr|gct|gd|gd[a-o]|gd[q-u]|gdx|ge[a-d]|ge[f-m]|geq|ges|ge[v-z]|gfk|gft|gg[a-b]|gg[d-e]|ggg|gg[k-l]|gg[t-u]|ggw|gha|ghc|ghe|ghh|gh[k-l]|gh[n-o]|gh[r-t]|gi[a-e]|gi[g-i]|gi[l-n]|gi[p-u]|gi[w-z]|gjk|gj[m-n]|gjr|gju|gka|gk[d-e]|gk[n-p]|gku|gl|gl[b-d]|glh|gl[j-l]|glo|glr|glu|glw|gly|gm[a-b]|gm[d-e]|gm[g-h]|gm[l-n]|gm[q-r]|gm[u-z]|gn|gn[a-e]|gn[g-n]|gn[q-r]|gn[t-u]|gnw|gnz|go[a-u]|go[w-z]|gpa|gpe|gpn|gqa|gqi|gqn|gqr|gqu|gr[a-d]|gr[g-k]|grm|gro|gr[q-z]|gse|gsg|gs[l-p]|gss|gsw|gta|gtu|gu|gu[a-f]|gu[h-i]|gu[k-u]|gu[w-x]|guz|gv|gva|gvc|gv[e-f]|gvj|gv[l-p]|gv[r-s]|gvy|gw[a-g]|gw[i-j]|gw[m-n]|gwr|gw[t-u]|gw[w-x]|gxx|gyb|gy[d-g]|gyi|gy[l-o]|gyr|gy[y-z]|gza|gzi|gzn|ha|ha[a-s]|ha[v-z]|hb[a-b]|hb[n-o]|hbu|hca|hch|hds|hdy|he|hed|he[g-i]|hem|hgm|hgw|hhi|hhr|hhy|hi|hi[a-b]|hid|hi[f-l]|hio|hir|hit|hi[w-x]|hji|hka|hke|hkh|hkk|hkn|hks|hl[a-b]|hl[d-e]|hl[t-u]|hm[a-n]|hm[p-z]|hna|hn[d-e]|hn[g-j]|hn[n-o]|hns|hnu|ho|ho[a-e]|ho[h-m]|ho[o-p]|ho[r-t]|ho[v-w]|ho[y-z]|hpo|hps|hr|hra|hrc|hre|hrk|hrm|hr[o-p]|hr[t-u]|hr[w-x]|hrz|hsb|hsh|hsl|hsn|hss|ht|hti|hto|hts|htu|htx|hu|hu[b-m]|hu[o-z]|hvc|hve|hvk|hvn|hvv|hwa|hwc|hwo|hy|hya|hy[w-x]|hz|ia|iai|ian|iar|ib[a-b]|ib[d-e]|ib[g-h]|ib[l-n]|ibr|ibu|iby|ica|ich|icl|icr|id|id[a-e]|idi|id[r-u]|ie|if[a-b]|if[e-f]|ifk|ifm|ifu|ify|ig|igb|ige|igg|ig[l-o]|igs|igw|ihb|ihi|ihp|ihw|ii|iin|iir|ijc|ije|ijj|ij[n-o]|ijs|ik|iki|ik[k-l]|ik[o-p]|ik[r-t]|ik[v-x]|ikz|il[a-b]|ilg|ili|ilk|ilm|il[o-p]|ils|il[u-v]|ima|imi|iml|im[n-o]|im[r-s]|imy|in[b-c]|ine|in[g-h]|inj|in[l-p]|in[s-t]|inz|io|ior|iou|iow|ipi|ipo|iqu|iqw|ira|ire|ir[h-i]|irk|ir[n-o]|irr|iru|ir[x-y]|is|isa|is[c-e]|is[g-i]|isk|is[m-o]|isr|is[t-u]|it|it[b-e]|iti|it[k-m]|ito|it[r-t]|it[v-z]|iu|ium|ivb|ivv|iwk|iwm|iwo|iws|ixc|ixl|iya|iyo|iyx|izh|izr|izz|ja|ja[a-f]|jah|ja[j-o]|jaq|ja[s-u]|ja[x-z]|jbe|jb[i-k]|jb[m-o]|jbr|jb[t-u]|jbw|jc[s-t]|jda|jdg|jdt|jeb|jee|je[h-i]|je[k-l]|jen|jer|je[t-u]|jgb|jge|jgk|jgo|jhi|jhs|ji[a-e]|ji[g-i]|ji[l-m]|jio|jiq|ji[t-v]|jiy|jje|jjr|jka|jkm|jk[o-p]|jk[r-s]|jku|jle|jls|jm[a-d]|jmi|jml|jmn|jm[r-s]|jm[w-x]|jna|jnd|jng|jn[i-j]|jnl|jns|job|jod|jog|jo[r-s]|jow|jpa|jpr|jpx|jqr|jr[a-b]|jrr|jr[t-u]|jsl|ju[a-d]|ju[h-i]|ju[k-p]|ju[r-u]|juw|juy|jv|jvd|jvn|jwi|jya|jye|jyy|ka|ka[a-k]|kam|ka[o-r]|ka[v-y]|kb[a-e]|kb[g-z]|kc[a-z]|kda|kd[c-r]|kd[t-u]|kd[w-z]|ke[a-z]|kf[a-z]|kg|kg[a-b]|kg[e-g]|kg[i-y]|kh[a-j]|khl|kh[n-z]|ki|ki[a-j]|ki[l-m]|ki[o-q]|ki[s-z]|kj|kj[a-e]|kj[g-v]|kj[x-z]|kk|kk[a-z]|kl|kl[a-z]|km|km[a-q]|km[s-z]|kn|kn[a-b]|kn[d-f]|kn[i-m]|kn[o-z]|ko|koa|ko[c-i]|ko[k-l]|ko[o-q]|ko[s-w]|ko[y-z]|kp[a-o]|kp[q-u]|kp[w-z]|kq[a-z]|kr|kr[a-f]|kr[h-l]|kr[n-p]|kr[r-z]|ks|ks[a-z]|kt[a-q]|kt[s-z]|ku|ku[b-q]|ku[s-z]|kv|kv[a-r]|kv[t-z]|kw|kw[a-p]|kw[r-z]|kx[a-d]|kxf|kx[h-k]|kx[m-t]|kx[v-z]|ky|ky[a-z]|kz[a-g]|kzi|kz[k-s]|kz[u-z]|la|la[a-n]|la[p-s]|lau|la[w-z]|lb|lb[b-c]|lb[e-g]|lb[i-j]|lb[l-o]|lb[q-z]|lc[c-f]|lch|lc[l-m]|lc[p-q]|lcs|ld[a-b]|ldd|ld[g-q]|le[a-f]|le[h-z]|lfa|lfn|lg|lg[a-b]|lg[g-i]|lg[k-n]|lg[q-r]|lg[t-u]|lgz|lha|lh[h-i]|lh[l-n]|lhp|lh[s-u]|li|li[a-h]|li[j-l]|li[o-s]|li[u-z]|lja|lje|lji|ljl|ljp|lj[w-x]|lk[a-e]|lk[h-j]|lk[l-o]|lk[r-u]|lky|ll[a-n]|ll[p-q]|lls|llu|llx|lm[a-l]|lm[n-r]|lm[u-y]|ln|ln[a-b]|lnd|ln[g-j]|ln[l-o]|lns|lnu|lnw|lnz|lo|lo[a-c]|lo[e-z]|lpa|lpe|lp[n-o]|lpx|lra|lrc|lre|lrg|lri|lr[k-o]|lrr|lrt|lrv|lrz|ls[a-b]|ls[d-e]|ls[h-i]|ls[l-p]|ls[r-t]|lsv|lsy|lt|ltc|lt[g-i]|lt[n-o]|lts|ltu|lu|lua|lu[c-f]|lu[i-w]|lu[y-z]|lv|lva|lvi|lvk|lvu|lwa|lwe|lw[g-h]|lw[l-m]|lwo|lw[s-u]|lww|lxm|lya|lyg|lyn|lzh|lzl|lzn|lzz|ma[a-b]|ma[d-g]|ma[i-k]|ma[m-n]|ma[p-q]|ma[s-x]|maz|mb[a-f]|mb[h-z]|mc[a-z]|md[a-n]|md[p-z]|me[a-f]|me[h-w]|me[y-z]|mf[a-z]|mg|mg[a-w]|mg[y-z]|mh|mh[a-g]|mh[i-q]|mh[s-u]|mh[w-z]|mi|mi[a-r]|mi[t-u]|mi[w-z]|mj[b-e]|mj[g-z]|mk|mk[a-c]|mk[e-z]|ml|ml[a-c]|ml[e-f]|ml[h-s]|ml[u-x]|mlz|mm[a-r]|mm[t-z]|mn|mn[a-j]|mn[l-s]|mn[u-z]|moa|mo[c-e]|mo[g-k]|mom|mo[o-z]|mp[a-e]|mp[g-z]|mq[a-c]|mq[e-z]|mr|mr[a-h]|mr[j-z]|ms|ms[b-s]|ms[u-z]|mt|mt[a-y]|mu[a-e]|mu[g-k]|mu[m-o]|mu[q-v]|mu[x-z]|mv[a-b]|mv[d-i]|mv[k-l]|mv[n-z]|mw[a-c]|mw[e-i]|mw[k-w]|mwz|mx[a-z]|my|my[b-c]|my[e-h]|my[j-p]|my[r-s]|my[u-z]|mz[a-e]|mz[g-z]|na|na[a-c]|na[e-t]|na[w-z]|nb|nb[a-e]|nb[g-k]|nb[m-w]|nby|nc[a-o]|nc[q-u]|ncx|ncz|nd|nd[a-d]|nd[f-n]|nd[p-z]|ne|ne[a-k]|ne[m-o]|ne[q-z]|nfa|nfd|nfl|nfr|nfu|ng|ng[a-n]|ng[p-z]|nh[a-i]|nhk|nh[m-r]|nh[t-z]|ni[a-o]|ni[q-z]|nj[a-b]|njd|nj[h-j]|nj[l-o]|nj[r-u]|nj[x-z]|nk[a-k]|nk[m-x]|nkz|nl|nla|nlc|nle|nlg|nl[i-m]|nlo|nlq|nl[u-z]|nm[a-z]|nn|nn[a-n]|nn[p-r]|nn[t-w]|nn[y-z]|no|noa|no[c-n]|no[p-q]|no[s-w]|no[y-z]|np[a-b]|np[g-h]|npl|np[n-o]|nps|npu|np[x-y]|nqg|nq[k-o]|nqq|nqt|nqy|nr|nr[a-c]|nr[e-g]|nri|nr[k-n]|nrp|nrr|nr[t-u]|nrx|nrz|ns[a-i]|ns[k-z]|nt[d-e]|ntg|nt[i-k]|ntm|nt[o-p]|ntr|ntu|nt[w-z]|nu[a-z]|nv|nvh|nvm|nvo|nw[a-c]|nwe|nwg|nwi|nwm|nwo|nwr|nw[x-y]|nxa|nx[d-e]|nxg|nxi|nx[k-o]|nx[q-r]|nxx|ny|ny[b-y]|nz[a-b]|nzd|nzi|nzk|nzm|nzs|nzu|nz[y-z]|oaa|oac|oar|oav|obi|ob[k-m]|obo|obr|ob[t-u]|oc|oca|och|ocm|oco|ocu|oda|odk|od[t-u]|ofo|ofs|ofu|og[b-c]|oge|ogg|ogo|ogu|oh[t-u]|oia|oin|oj|oj[b-c]|ojp|ojs|oj[v-w]|ok[a-e]|ok[g-o]|ok[r-s]|ok[u-v]|okx|okz|ola|ol[d-e]|olk|olm|olo|olr|ol[t-u]|om|om[a-c]|omg|omi|om[k-l]|om[n-r]|om[t-y]|on[a-b]|one|ong|on[i-k]|on[n-p]|on[r-u]|on[w-x]|ood|oog|oon|oo[r-s]|opa|opk|opm|opo|opt|opy|or|ora|orc|ore|or[g-h]|or[n-o]|or[r-x]|orz|os|osa|osc|osi|os[n-p]|os[t-u]|osx|ot[a-b]|ot[d-e]|oti|ot[k-o]|ot[q-u]|ot[w-z]|ou[a-b]|oue|oui|oum|ovd|owi|owl|oyb|oyd|oym|oyy|ozm|pa|pa[a-i]|pa[k-m]|pa[o-s]|pa[u-z]|pb[b-c]|pb[e-i]|pb[l-p]|pb[r-t]|pbv|pby|pc[a-n]|pcp|pcw|pda|pdc|pdi|pd[n-o]|pd[t-u]|pe[a-b]|pe[d-m]|pe[o-q]|pev|pe[x-z]|pfa|pfe|pfl|pga|pgd|pgg|pgi|pg[k-l]|pgn|pgs|pgu|pgz|pha|phd|ph[g-i]|ph[k-o]|ph[q-r]|ph[t-w]|pi|pi[a-j]|pi[l-p]|pi[r-z]|pjt|pk[a-c]|pk[g-h]|pk[n-p]|pk[r-u]|pl|pl[a-h]|pl[j-l]|pl[n-o]|pl[q-s]|pl[u-w]|pl[y-z]|pm[a-b]|pm[d-f]|pm[h-o]|pm[q-t]|pm[w-z]|pna|pn[c-e]|pn[g-z]|poc|po[e-i]|pok|po[m-q]|po[s-t]|po[v-z]|ppe|ppi|pp[k-q]|pp[s-u]|pqa|pqe|pqm|pqw|pra|pr[c-i]|pr[k-r]|pr[t-u]|pr[w-x]|prz|ps|psa|ps[c-e]|ps[g-i]|ps[l-u]|psw|psy|pt|pta|pt[h-i]|pt[n-r]|pt[t-w]|pty|pu[a-g]|pu[i-j]|pum|pu[o-r]|pu[t-u]|pu[w-y]|pw[a-b]|pwg|pwi|pw[m-o]|pwr|pww|pxm|pye|py[m-n]|pys|pyu|py[x-y]|pzn|qu|qu[a-d]|qu[f-i]|qu[k-n]|qu[p-s]|qu[v-y]|qva|qvc|qve|qv[h-j]|qv[l-p]|qvs|qvw|qv[y-z]|qwa|qwc|qwe|qwh|qwm|qw[s-t]|qxa|qxc|qxh|qxl|qx[n-u]|qxw|qya|qyp|ra[a-d]|ra[f-z]|rbb|rb[k-l]|rbp|rcf|rdb|re[a-b]|ree|reg|re[i-j]|re[l-n]|re[r-t]|rey|rga|rge|rgk|rgn|rg[r-s]|rgu|rhg|rhp|ria|rif|ri[l-n]|rir|ri[t-u]|rjg|rji|rjs|rk[a-b]|rk[h-i]|rkm|rkt|rkw|rm|rm[a-i]|rm[k-q]|rm[s-x]|rmz|rn|rnd|rng|rnl|rnn|rnp|rnr|rnw|ro|ro[a-g]|ro[l-m]|ro[o-p]|ror|rou|row|rpn|rpt|rri|rro|rrt|rsb|rs[l-m]|rtc|rth|rtm|rts|rtw|ru|ru[b-c]|ru[e-i]|ruk|ru[o-q]|ru[t-u]|ru[y-z]|rw|rwa|rw[k-m]|rwo|rwr|rxd|rxw|ryn|rys|ryu|rzh|sa|sa[a-f]|sa[h-m]|sao|sa[q-z]|sb[a-z]|sc|scb|sc[e-i]|sc[k-l]|sc[n-q]|sc[s-x]|sd|sd[a-c]|sd[e-h]|sd[j-l]|sd[n-v]|sdx|sdz|se|se[a-w]|se[y-z]|sfb|sfe|sfm|sfs|sfw|sg|sg[a-e]|sg[g-k]|sg[m-n]|sgp|sg[r-u]|sg[w-z]|sh[a-e]|sh[g-z]|si|si[a-b]|si[d-m]|si[o-z]|sj[a-b]|sj[d-e]|sjg|sj[k-p]|sj[r-u]|sjw|sk|sk[a-j]|sk[m-z]|sl|sla|sl[c-j]|sl[l-n]|sl[p-u]|sl[w-z]|sm|sm[a-d]|sm[f-n]|sm[p-z]|sn|sn[b-c]|sn[e-g]|sn[i-s]|sn[u-z]|so|so[a-e]|so[g-l]|so[n-s]|so[u-z]|sp[b-e]|spg|spi|sp[k-v]|spx|sq|sqa|sqh|sq[j-k]|sq[m-o]|sq[q-u]|sqx|sr|sr[a-b]|sr[e-i]|sr[k-o]|sr[q-z]|ss|ss[a-v]|ss[x-z]|st|st[a-b]|st[d-w]|sty|su|su[a-c]|sue|sug|su[i-k]|suo|su[q-t]|su[v-z]|sv|sv[a-c]|sve|svk|svm|svs|svx|sw|swb|sw[f-g]|sw[i-y]|sx[b-c]|sxe|sxg|sx[k-o]|sx[r-s]|sxu|sxw|sy[a-d]|syi|sy[k-o]|sy[r-s]|sy[w-y]|sz[a-e]|szg|szl|szn|szp|szs|sz[v-w]|szy|ta|ta[a-g]|ta[i-l]|ta[n-s]|ta[u-z]|tba|tb[c-z]|tc[a-i]|tc[k-q]|tc[s-u]|tc[w-z]|td[a-o]|td[q-t]|tdv|td[x-y]|te|te[a-i]|tek|te[m-z]|tfi|tf[n-o]|tfr|tft|tg|tg[a-f]|tg[h-j]|tg[n-z]|th|th[d-f]|th[h-i]|th[k-n]|th[p-v]|th[y-z]|ti|tia|tic|ti[f-q]|ti[s-z]|tja|tjg|tj[i-j]|tj[l-p]|tjs|tju|tjw|tk|tk[a-b]|tk[d-g]|tk[l-n]|tk[p-x]|tkz|tl[a-d]|tl[f-v]|tl[x-y]|tm[a-o]|tm[q-w]|tm[y-z]|tn|tn[a-d]|tn[g-i]|tn[k-z]|to|to[b-d]|to[f-j]|to[l-m]|to[o-s]|to[u-z]|tpa|tpc|tp[e-g]|tp[i-r]|tp[t-z]|tqb|tq[l-r]|tq[t-u]|tqw|tr|tr[a-z]|ts|ts[a-e]|ts[g-m]|ts[p-z]|tt|tt[a-p]|tt[r-w]|tt[y-z]|tu[a-j]|tu[l-q]|tu[s-z]|tva|tv[d-e]|tv[k-o]|tv[s-u]|tv[w-y]|tw[a-h]|tw[l-r]|tw[t-u]|tw[w-y]|tx[a-c]|txe|tx[g-j]|tx[m-o]|tx[q-u]|tx[x-y]|ty|tya|tye|ty[h-j]|tyl|tyn|typ|ty[r-v]|ty[x-z]|tza|tzh|tzj|tz[l-o]|tzx|ua[m-n]|uar|uba|ubi|ubl|ubr|ubu|uby|uda|ude|udg|ud[i-j]|ud[l-m]|udu|ues|ufi|ug|ug[a-b]|uge|ug[n-o]|ugy|uha|uhn|uis|uiv|uji|uk|uka|uk[g-i]|uk[k-l]|uk[p-q]|uks|uk[u-w]|uky|ul[a-c]|ul[e-f]|uli|ul[k-n]|ulu|ulw|um[a-d]|umg|umi|um[m-p]|um[r-s]|una|une|ung|uni|unk|un[m-n]|unr|unu|unx|unz|upi|upv|ur|ur[a-c]|ur[e-p]|urr|ur[t-z]|usa|us[h-i]|usk|usp|uss|usu|uta|ute|uth|utp|utr|utu|uu[m-n]|uur|uuu|uve|uvh|uvl|uwa|uya|uz|uzs|vaa|va[e-j]|va[l-p]|va[r-s]|va[u-v]|vay|vbb|vbk|ve|ve[c-d]|ve[l-m]|ve[o-p]|ver|vgr|vgt|vi|vi[c-d]|vi[f-g]|vil|vin|vi[s-t]|viv|vka|vk[j-p]|vk[t-u]|vkz|vlp|vls|vm[a-m]|vm[p-s]|vm[u-z]|vnk|vnm|vnp|vo|vor|vot|vra|vro|vr[s-t]|vsi|vsl|vsv|vto|vu[m-n]|vut|vwa|wa|wa[a-z]|wb[a-b]|wb[e-f]|wb[h-m]|wb[p-t]|wb[v-w]|wca|wci|wdd|wdg|wd[j-k]|wdu|wdy|wea|we[c-d]|we[g-i]|we[m-p]|we[r-u]|wew|wfg|wg[a-b]|wgg|wgi|wgo|wgu|wgy|wha|whg|whk|whu|wi[b-c]|wi[e-n]|wir|wi[u-v]|wiy|wja|wji|wk[a-b]|wkd|wkl|wkr|wku|wkw|wky|wla|wlc|wle|wl[g-i]|wl[k-m]|wlo|wl[r-s]|wl[u-y]|wm[a-e]|wm[g-i]|wm[m-o]|wm[s-t]|wm[w-x]|wn[b-e]|wng|wni|wnk|wn[m-p]|wnu|wnw|wny|wo|wo[a-g]|woi|wok|wo[m-o]|wo[r-s]|wow|woy|wpc|wrb|wrd|wr[g-i]|wr[k-p]|wr[r-s]|wr[u-z]|wsa|wsg|wsi|wsk|ws[r-s]|ws[u-v]|wtf|wt[h-i]|wtk|wtm|wtw|wu[a-b]|wud|wuh|wu[l-n]|wur|wu[t-v]|wu[x-y]|ww[a-b]|wwo|wwr|www|wxa|wxw|wy[a-b]|wyi|wym|wyr|wyy|xa[a-e]|xag|xa[i-w]|xay|xb[b-e]|xbg|xb[i-j]|xb[m-p]|xbr|xbw|xby|xc[b-c]|xce|xc[g-h]|xc[l-o]|xcr|xc[t-w]|xcy|xda|xdc|xdk|xdm|xdo|xdy|xeb|xed|xeg|xe[l-m]|xep|xe[r-u]|xfa|xg[a-b]|xgd|xg[f-g]|xgi|xg[l-n]|xgr|xgu|xgw|xh|xha|xh[c-e]|xhr|xh[t-v]|xib|xii|xil|xin|xi[r-s]|xiv|xiy|xjb|xjt|xk[a-g]|xk[i-l]|xk[n-z]|xl[a-e]|xlg|xli|xl[n-p]|xls|xlu|xly|xm[a-h]|xm[j-z]|xn[a-b]|xnd|xn[g-k]|xn[m-o]|xn[q-u]|xn[y-z]|xo[c-d]|xog|xoi|xok|xo[m-p]|xor|xow|xp[a-d]|xp[f-z]|xqa|xqt|xr[a-b]|xr[d-e]|xrg|xri|xr[m-n]|xrr|xr[t-u]|xrw|xs[a-e]|xs[h-i]|xs[m-s]|xs[u-v]|xsy|xt[a-e]|xt[g-j]|xt[l-w]|xty|xu[a-b]|xud|xug|xuj|xu[l-p]|xur|xu[t-u]|xve|xvi|xv[n-o]|xvs|xwa|xw[c-e]|xwg|xw[j-l]|xwo|xwr|xwt|xww|xxb|xxk|xxm|xxr|xxt|xy[a-b]|xy[j-l]|xyt|xyy|xzh|xzm|xzp|ya[a-z]|yb[a-b]|ybe|yb[h-o]|yb[x-y]|ych|ycl|ycn|ycp|yda|yde|ydg|ydk|yea|yec|yee|ye[i-j]|yel|ye[r-v]|yey|yga|ygi|yg[l-m]|ygp|yg[r-s]|ygu|ygw|yha|yhd|yhl|yhs|yi|yia|yi[f-n]|yi[p-v]|yix|yiz|yka|ykg|yki|yk[k-o]|ykr|yk[t-u]|yky|yl[a-b]|yle|ylg|yli|yl[l-o]|ylr|ylu|yly|ym[b-e]|ym[g-i]|ym[k-s]|ymx|ymz|yna|yn[d-e]|yng|yn[k-l]|yn[n-o]|ynq|yns|ynu|yo|yob|yog|yoi|yo[k-n]|yot|yo[x-y]|yp[a-b]|yp[g-h]|ypk|yp[m-p]|ypz|yr[a-b]|yre|yr[k-o]|yrs|yrw|yry|ys[c-d]|ysg|ys[l-p]|ys[r-s]|ysy|yta|ytl|ytp|ytw|yty|yu[a-g]|yu[i-n]|yu[p-r]|yut|yu[w-z]|yva|yvt|ywa|ywg|ywl|ywn|yw[q-r]|yw[t-u]|yww|yxa|yxg|yx[l-m]|yxu|yxy|yyr|yyu|yyz|yzg|yzk|za|za[a-h]|za[j-m]|za[o-z]|zba|zbc|zbe|zbl|zb[t-u]|zbw|zca|zch|zdj|zea|ze[g-h]|zen|zg[a-b]|zgh|zg[m-n]|zgr|zh|zhb|zhd|zhi|zhn|zh[w-x]|zi[a-b]|zi[k-n]|ziw|ziz|zk[a-b]|zkd|zk[g-h]|zkk|zk[n-p]|zkr|zk[t-v]|zkz|zla|zle|zlj|zl[m-n]|zlq|zls|zlw|zm[a-z]|zna|zn[d-e]|zng|znk|zns|zoc|zoh|zom|zoo|zo[q-s]|zp[a-z]|zqe|zra|zrg|zr[n-p]|zrs|zsa|zs[k-l]|zsr|zsu|zte|ztg|zt[l-n]|zt[p-q]|zt[s-u]|zt[x-y]|zu|zua|zuh|zu[m-n]|zuy|zwa|zyg|zyj|zyn|zyp|zza|zzj|mis|mul|zxx|aam|adp|agp|ais|aju|als|aoh|arb|asd|aue|ayr|ay[x-y]|azj|baz|bbz|bcc|bcl|bgm|bh|bhk|bic|bij|bjd|bjq|bkb|blg|bmy|bpb|btb|btl|bxk|bxr|bxx|byy|cbe|cbh|cca|ccq|cdg|cjr|cka|cld|cmk|cmn|cnr|coy|cqu|cum|cwd|daf|dap|dgo|dgu|dha|dhd|dik|diq|dit|djl|dkl|drh|drr|drw|dud|duj|dwl|dzd|ekc|ekk|elp|emk|emo|esk|fat|fuc|gav|gaz|gbc|gbo|gfx|gg[n-o]|ggr|gio|gji|gli|gno|gti|gug|guv|gya|hdn|hea|him|hrr|iap|ibi|ike|ill|ilw|ime|in|iw|izi|jar|jeg|ji|jw|kbf|kdv|kg[c-d]|kgh|khk|kjf|kmr|knc|kng|knn|koj|kox|kpp|kpv|krm|ktr|kvs|kwq|kxe|kxl|kxu|kzh|kzj|kzt|lba|lbk|leg|lii|llo|lmm|lmz|lsg|lvs|meg|mgx|mhh|mhr|mja|mld|mnk|mnt|mo|mof|mst|mup|mvm|mwd|mwj|mw[x-y]|myd|myi|myq|myt|nad|nbf|nbx|ncp|ngo|nln|nlr|nns|nnx|noo|npi|nts|nxu|ojg|ome|ory|oun|pat|pbu|pbz|pcr|pes|pgy|plp|plt|pmc|pmu|pnb|pod|ppa|ppr|prb|prs|pry|puk|puz|quz|rie|rmr|rmy|rna|rsi|sap|sca|sdm|sgl|sgo|sh|skk|snh|spy|src|su[l-m]|svr|swc|swh|tbb|tdu|tgg|thc|th[w-x]|ti[d-e]|tkk|tl|tlw|tmp|tn[e-f]|toe|tsf|ttq|tw|umu|unp|uok|uzn|vki|wgw|wit|wiw|wra|xba|xbx|xia|xip|xkh|xpe|xrq|xsj|xsl|xtz|ybd|ydd|yds|yen|yiy|yma|ymt|ynh|yos|yri|yuu|zai|zir|zsm|zyb|qa[a-z]|qb[a-z]|qc[a-z]|qd[a-z]|qe[a-z]|qf[a-y]|qfz|qg[a-z]|qh[a-z]|qi[a-z]|qj[a-z]|qk[a-z]|ql[a-z]|qm[a-z]|qn[a-z]|qo[a-z]|qp[a-z]|qq[a-z]|qr[a-z]|qs[a-z]|qt[a-z]|und|A[C-G]|AI|A[L-M]|AO|A[Q-U]|A[W-X]|AZ|B[A-B]|B[D-J]|B[L-O]|B[Q-T]|B[V-W]|B[Y-Z]|CA|C[C-D]|C[F-I]|C[K-P]|CR|C[U-Z]|DE|DG|D[J-K]|DM|DO|DZ|EA|EC|EE|E[G-H]|E[R-T]|F[I-K]|FM|FO|FR|G[A-B]|G[D-I]|G[L-N]|G[P-U]|GW|GY|HK|H[M-N]|HR|H[T-U]|I[C-E]|I[L-O]|I[Q-T]|JE|JM|J[O-P]|KE|K[G-I]|K[M-N]|KP|KR|KW|K[Y-Z]|L[A-C]|LI|LK|L[R-V]|LY|MA|M[C-H]|M[K-Z]|NA|NC|N[E-G]|NI|NL|N[O-P]|NR|NU|NZ|OM|PA|P[E-H]|P[K-N]|P[R-T]|PW|PY|QA|RE|RO|RS|RU|RW|S[A-E]|S[G-O]|S[R-T]|SV|S[X-Z]|TA|T[C-D]|T[F-H]|T[J-O]|TR|TT|T[V-W]|TZ|UA|UG|UM|US|U[Y-Z]|VA|VC|VE|VG|VI|VN|VU|WF|WS|XK|YE|YT|ZA|ZM|ZW|X[A-B]|00[1-3]|005|009|011|01[3-5]|01[7-9]|021|029|030|03[4-5]|039|05[3-4]|057|061|14[2-3]|145|15[0-1]|15[4-5]|202|419|EU|EZ|QO|UN|AN|BU|CS|DD|FX|NT|QU|SU|TP|YD|YU|ZR|AA|Q[M-N]|Q[P-T]|Q[V-Z]|X[C-J]|X[L-Z]|ZZ|Adlm|Aghb|Ahom|Arab|Armi|Armn|Avst|Bali|Bamu|Bass|Batk|Beng|Bhks|Bopo|Bra[h-i]|Bugi|Buhd|Cakm|Cans|Cari|Cham|Cher|Chrs|Copt|Cpmn|Cprt|Cyrl|Deva|Diak|Dogr|Dsrt|Dupl|Egyp|Elba|Elym|Ethi|Geor|Glag|Gong|Gonm|Goth|Gran|Grek|Gujr|Guru|Hanb|Hang|Hani|Hano|Han[s-t]|Hatr|Hebr|Hira|Hluw|Hmng|Hmnp|Hrkt|Hung|Ital|Jamo|Java|Jpan|Kali|Kana|Khar|Khmr|Khoj|Kits|Knda|Kore|Kthi|Lana|Laoo|Latn|Lepc|Limb|Lin[a-b]|Lisu|Lyci|Lydi|Mahj|Maka|Mand|Mani|Marc|Medf|Mend|Merc|Mero|Mlym|Modi|Mong|Mroo|Mtei|Mult|Mymr|Nand|Narb|Nbat|Newa|Nkoo|Nshu|Ogam|Olck|Orkh|Orya|Osge|Osma|Ougr|Palm|Pauc|Perm|Phag|Phli|Phlp|Phnx|Plrd|Prti|Rjng|Rohg|Runr|Samr|Sarb|Saur|Sgnw|Shaw|Shrd|Sidd|Sind|Sinh|Sogd|Sogo|Sora|Soyo|Sund|Sylo|Syrc|Tagb|Takr|Tale|Talu|Taml|Tang|Tavt|Telu|Tfng|Tglg|Thaa|Thai|Tibt|Tirh|Tnsa|Toto|Ugar|Vaii|Vith|Wara|Wcho|Xpeo|Xsux|Yezi|Yiii|Aran|Qaag|Zanb|Zinh|Zmth|Zsye|Zsym|Zxxx|Zyyy|Qaai|Qaa[a-f]|Qaah|Qaa[j-p]|Qaa[q-z]|Qab[a-x]|Zzzz|1606nict|1694acad|1901|1959acad|1994|1996|abl1943|akuapem|alalc97|aluku|ao1990|aranes|arkaika|asante|auvern|baku1926|balanka|barla|basiceng|bauddha|biscayan|biske|bohoric|boont|bornholm|cisaup|colb1945|cornu|creiss|dajnko|ekavsk|emodeng|fonipa|fonkirsh|fonnapa|fonupa|fonxsamp|gallo|gascon|grclass|grital|grmistr|hepburn|hognorsk|hsistemo|ijekavsk|itihasa|ivanchov|jauer|jyutping|kkcor|kociewie|kscor|laukika|lemosin|lengadoc|lipaw|luna1918|metelko|monoton|ndyuka|nedis|newfound|nicard|njiva|nulik|osojs|oxendict|pahawh[2-4]|pamaka|peano|petr1708|pinyin|polyton|provenc|puter|rigik|rozaj|rumgr|scotland|scouse|simple|solba|sotav|spanglis|surmiran|sursilv|sutsilv|synnejyl|tarask|tongyong|tunumiit|uccor|ucrcor|ulster|unifon|vaidika|valencia|vallader|vecdruka|vivaraup|wadegile|xsistemo|arevela|arevmda|heploc)$\u001B[39;49m\u001B[38;5;124;43m'\u001B[39;49m\u001B[43m)\u001B[49m\n",
      "File \u001B[0;32m/Library/Frameworks/Python.framework/Versions/3.10/lib/python3.10/re.py:251\u001B[0m, in \u001B[0;36mcompile\u001B[0;34m(pattern, flags)\u001B[0m\n\u001B[1;32m    249\u001B[0m \u001B[38;5;28;01mdef\u001B[39;00m \u001B[38;5;21mcompile\u001B[39m(pattern, flags\u001B[38;5;241m=\u001B[39m\u001B[38;5;241m0\u001B[39m):\n\u001B[1;32m    250\u001B[0m     \u001B[38;5;124m\"\u001B[39m\u001B[38;5;124mCompile a regular expression pattern, returning a Pattern object.\u001B[39m\u001B[38;5;124m\"\u001B[39m\n\u001B[0;32m--> 251\u001B[0m     \u001B[38;5;28;01mreturn\u001B[39;00m \u001B[43m_compile\u001B[49m\u001B[43m(\u001B[49m\u001B[43mpattern\u001B[49m\u001B[43m,\u001B[49m\u001B[43m \u001B[49m\u001B[43mflags\u001B[49m\u001B[43m)\u001B[49m\n",
      "File \u001B[0;32m/Library/Frameworks/Python.framework/Versions/3.10/lib/python3.10/re.py:303\u001B[0m, in \u001B[0;36m_compile\u001B[0;34m(pattern, flags)\u001B[0m\n\u001B[1;32m    301\u001B[0m \u001B[38;5;28;01mif\u001B[39;00m \u001B[38;5;129;01mnot\u001B[39;00m sre_compile\u001B[38;5;241m.\u001B[39misstring(pattern):\n\u001B[1;32m    302\u001B[0m     \u001B[38;5;28;01mraise\u001B[39;00m \u001B[38;5;167;01mTypeError\u001B[39;00m(\u001B[38;5;124m\"\u001B[39m\u001B[38;5;124mfirst argument must be string or compiled pattern\u001B[39m\u001B[38;5;124m\"\u001B[39m)\n\u001B[0;32m--> 303\u001B[0m p \u001B[38;5;241m=\u001B[39m \u001B[43msre_compile\u001B[49m\u001B[38;5;241;43m.\u001B[39;49m\u001B[43mcompile\u001B[49m\u001B[43m(\u001B[49m\u001B[43mpattern\u001B[49m\u001B[43m,\u001B[49m\u001B[43m \u001B[49m\u001B[43mflags\u001B[49m\u001B[43m)\u001B[49m\n\u001B[1;32m    304\u001B[0m \u001B[38;5;28;01mif\u001B[39;00m \u001B[38;5;129;01mnot\u001B[39;00m (flags \u001B[38;5;241m&\u001B[39m DEBUG):\n\u001B[1;32m    305\u001B[0m     \u001B[38;5;28;01mif\u001B[39;00m \u001B[38;5;28mlen\u001B[39m(_cache) \u001B[38;5;241m>\u001B[39m\u001B[38;5;241m=\u001B[39m _MAXCACHE:\n\u001B[1;32m    306\u001B[0m         \u001B[38;5;66;03m# Drop the oldest item\u001B[39;00m\n",
      "\u001B[0;31mKeyboardInterrupt\u001B[0m: "
     ]
    }
   ],
   "source": [
    "import spacy\n",
    "\n",
    "nlp = spacy.load(\"en_core_web_sm\")"
   ]
  },
  {
   "cell_type": "code",
   "execution_count": null,
   "metadata": {
    "colab": {
     "base_uri": "https://localhost:8080/"
    },
    "executionInfo": {
     "elapsed": 6309,
     "status": "ok",
     "timestamp": 1708247161452,
     "user": {
      "displayName": "Wenya Wang",
      "userId": "11693014802286625875"
     },
     "user_tz": -480
    },
    "id": "cD11k9FQIxzW",
    "outputId": "0d472058-3e02-4066-9e6d-4623c5b4dfc0",
    "scrolled": true,
    "ExecuteTime": {
     "end_time": "2024-03-21T13:57:33.524825Z",
     "start_time": "2024-03-21T13:57:33.524729Z"
    }
   },
   "outputs": [],
   "source": [
    "!{sys.executable} -m pip install  torchtext==0.4.0\n"
   ]
  },
  {
   "cell_type": "code",
   "execution_count": null,
   "metadata": {
    "id": "diXAJf2jH1tQ"
   },
   "outputs": [],
   "source": [
    "from torchtext import data\n",
    "import torch\n",
    "\n",
    "# For tokenization\n",
    "TEXT = data.Field(tokenize='spacy',\n",
    "                  tokenizer_language='en_core_web_sm',\n",
    "                  include_lengths=True)\n",
    "\n",
    "# For multi-class classification labels\n",
    "LABEL = data.LabelField()"
   ]
  },
  {
   "cell_type": "markdown",
   "metadata": {
    "id": "nX88mkuKH1tQ"
   },
   "source": [
    "Another convenient aspect of TorchText is its built-in support for widely recognized datasets in natural language processing (NLP).\n",
    "\n",
    "The code snippet below will automatically download the TREC question classification dataset and split it into standard train/test divisions as `torchtext.datasets` objects. It processes the data using the `Fields` we previously defined. The TREC dataset consists of thousands of questions that are categorized into both coarse-grained and fine-grained labels indicating the type of question (e.g., location, person, numeric information).\n",
    "\n",
    "\n",
    "\n",
    "**Note:** In this example, `fine_grained=False` specifies that we want to use the coarse label set. If you're interested in a more detailed classification, you can set `fine_grained=True` to use the fine-grained label set instead."
   ]
  },
  {
   "cell_type": "code",
   "execution_count": null,
   "metadata": {
    "id": "nOTiebiKH1tR"
   },
   "outputs": [],
   "source": [
    "from torchtext import datasets\n",
    "\n",
    "# Load the TREC dataset\n",
    "train_data, test_data = datasets.TREC.splits(TEXT, LABEL, fine_grained=False)"
   ]
  },
  {
   "cell_type": "markdown",
   "metadata": {
    "id": "afgL6u_GH1tR"
   },
   "source": [
    "We can see how many examples are in each split by checking their length."
   ]
  },
  {
   "cell_type": "code",
   "execution_count": null,
   "metadata": {
    "colab": {
     "base_uri": "https://localhost:8080/"
    },
    "executionInfo": {
     "elapsed": 379,
     "status": "ok",
     "timestamp": 1708247177163,
     "user": {
      "displayName": "Wenya Wang",
      "userId": "11693014802286625875"
     },
     "user_tz": -480
    },
    "id": "ZRJ49dUVH1tR",
    "outputId": "a76b9361-f4d5-4c76-a221-e009deba7700"
   },
   "outputs": [],
   "source": [
    "print(f'Number of training examples: {len(train_data)}')\n",
    "print(f'Number of testing examples: {len(test_data)}')"
   ]
  },
  {
   "cell_type": "markdown",
   "metadata": {
    "id": "WOZlrCq0H1tR"
   },
   "source": [
    "We can also check an example."
   ]
  },
  {
   "cell_type": "code",
   "execution_count": null,
   "metadata": {
    "colab": {
     "base_uri": "https://localhost:8080/"
    },
    "executionInfo": {
     "elapsed": 409,
     "status": "ok",
     "timestamp": 1708247180234,
     "user": {
      "displayName": "Wenya Wang",
      "userId": "11693014802286625875"
     },
     "user_tz": -480
    },
    "id": "a_GxVB6iH1tR",
    "outputId": "5290acdc-57f7-4cef-d41b-79135b263e72"
   },
   "outputs": [],
   "source": [
    "print(vars(train_data.examples[0]))"
   ]
  },
  {
   "cell_type": "markdown",
   "metadata": {
    "id": "Cn0-tCRqH1tS"
   },
   "source": [
    "The TREC dataset, like the IMDb dataset, comes primarily with train and test splits, necessitating the creation of a validation set for a comprehensive evaluation process. We can achieve this through the use of the `.split()` method on the training data.\n",
    "\n",
    "While the default behavior of `.split()` divides the data into a 70/30 split, this can be customized with the `split_ratio` parameter. For example, setting `split_ratio` to 0.8 indicates that 80% of the data will be used for training, while the remaining 20% forms the validation set.\n",
    "\n",
    "To ensure consistency in our splits across different runs, we'll use the `random_state` parameter, passing in our predefined random seed. This guarantees that we receive the same train/validation split each time we execute our code.\n",
    "\n",
    "Here is how you can apply this to the TREC dataset:\n",
    "\n",
    "\n",
    "\n",
    "This approach allows us to maintain a structured and effective training regime, ensuring that our model is not only trained but also validated on a distinct subset of the dataset before being evaluated on the test set."
   ]
  },
  {
   "cell_type": "code",
   "execution_count": null,
   "metadata": {
    "id": "eCXoOIyVH1tS"
   },
   "outputs": [],
   "source": [
    "from torchtext.data import Dataset\n",
    "\n",
    "# Assuming train_data is already defined\n",
    "train_data, valid_data = train_data.split(split_ratio=0.8, random_state=random.seed(SEED))"
   ]
  },
  {
   "cell_type": "markdown",
   "metadata": {
    "id": "l7GIAq-lH1tS"
   },
   "source": [
    "Again, we'll view how many examples are in each split."
   ]
  },
  {
   "cell_type": "code",
   "execution_count": null,
   "metadata": {
    "colab": {
     "base_uri": "https://localhost:8080/"
    },
    "executionInfo": {
     "elapsed": 307,
     "status": "ok",
     "timestamp": 1708247186370,
     "user": {
      "displayName": "Wenya Wang",
      "userId": "11693014802286625875"
     },
     "user_tz": -480
    },
    "id": "aO3xIgKBH1tS",
    "outputId": "4adc259d-cbe3-4f55-fa51-2c2346ef2949"
   },
   "outputs": [],
   "source": [
    "print(f'Number of training examples: {len(train_data)}')\n",
    "print(f'Number of validation examples: {len(valid_data)}')\n",
    "print(f'Number of testing examples: {len(test_data)}')"
   ]
  },
  {
   "cell_type": "markdown",
   "metadata": {
    "id": "wjmk1g3YH1tS"
   },
   "source": [
    "Next, we proceed to construct a _vocabulary_ for our dataset. This step is critical as machine learning models don't process raw text but numbers. The vocabulary serves as a lookup table where every unique word across the dataset is associated with a unique _index_ (an integer).\n",
    "\n",
    "In practice, each word's _index_ is utilized to generate a _one-hot_ vector, which is a sparse vector where all elements are 0, except for the position corresponding to the word's index, which is set to 1. The total number of unique words in the dataset defines the dimensionality of these one-hot vectors, often represented by $V$.\n",
    "\n",
    "Given the potentially vast size of our dataset's vocabulary, direct utilization of one-hot vectors can lead to inefficiencies in training and model size, especially considering some words might be very rare or unique to specific examples.\n",
    "\n",
    "To mitigate this, we can limit our vocabulary in two ways: either by retaining only the top $n$ most frequent words or by excluding words that appear fewer than $m$ times within the dataset. For the TREC task, we'll adopt the former strategy, focusing on the most common words to ensure our model's manageability and performance.\n",
    "\n",
    "Words not included in our reduced vocabulary are replaced with a special _unknown_ (`<unk>`) token. This approach ensures that our model can handle any word, even those not explicitly learned during training. For instance, if we encounter a sentence like \"What is the capital of France?\" and \"capital\" was not among the retained vocabulary words, it would be represented as \"What is the `<unk>` of France?\" in our processed data.\n",
    "\n",
    "Here's how we can build the vocabulary for the TREC dataset, specifying a `max_size` to limit its scope:"
   ]
  },
  {
   "cell_type": "code",
   "execution_count": null,
   "metadata": {
    "id": "Kzq6r-FtH1tS"
   },
   "outputs": [],
   "source": [
    "TEXT.build_vocab(train_data, max_size=10000)\n",
    "LABEL.build_vocab(train_data)"
   ]
  },
  {
   "cell_type": "markdown",
   "metadata": {
    "id": "afFTzzi7H1tS"
   },
   "source": [
    "Why do we only build the vocabulary on the training set? When testing any machine learning system you do not want to look at the test set in any way. We do not include the validation set as we want it to reflect the test set as much as possible."
   ]
  },
  {
   "cell_type": "code",
   "execution_count": null,
   "metadata": {
    "colab": {
     "base_uri": "https://localhost:8080/"
    },
    "executionInfo": {
     "elapsed": 311,
     "status": "ok",
     "timestamp": 1708247192524,
     "user": {
      "displayName": "Wenya Wang",
      "userId": "11693014802286625875"
     },
     "user_tz": -480
    },
    "id": "j8GmgGjAH1tS",
    "outputId": "19f11e5b-4476-49dd-88ef-fb1880834639"
   },
   "outputs": [],
   "source": [
    "print(f\"Unique tokens in TEXT vocabulary: {len(TEXT.vocab)}\")\n",
    "print(f\"Unique tokens in LABEL vocabulary: {len(LABEL.vocab)}\")"
   ]
  },
  {
   "cell_type": "markdown",
   "metadata": {
    "id": "fIKDMaiSXxTp"
   },
   "source": [
    "We can also see the vocabulary directly using either the `stoi` (**s**tring **to** **i**nt) or `itos` (**i**nt **to**  **s**tring) method."
   ]
  },
  {
   "cell_type": "code",
   "execution_count": null,
   "metadata": {
    "colab": {
     "base_uri": "https://localhost:8080/"
    },
    "executionInfo": {
     "elapsed": 324,
     "status": "ok",
     "timestamp": 1708247195493,
     "user": {
      "displayName": "Wenya Wang",
      "userId": "11693014802286625875"
     },
     "user_tz": -480
    },
    "id": "3U8jb9WWXyq-",
    "outputId": "863036e5-2ba6-4b6f-d8ce-b64531b45e02"
   },
   "outputs": [],
   "source": [
    "# Assuming TEXT.vocab has been built\n",
    "for i in range(10):\n",
    "    print(TEXT.vocab.itos[i])"
   ]
  },
  {
   "cell_type": "markdown",
   "metadata": {
    "id": "B-8Giye0H1tS"
   },
   "source": [
    "\n",
    "Note there are two additional tokens: the `<unk>` token and the `<pad>` token.\n",
    "\n",
    "When we feed sentences into our model, we feed a _batch_ of them at a time, i.e. more than one at a time, and all sentences in the batch need to be the same size. Thus, to ensure each sentence in the batch is the same size, any shorter than the longest within the batch are padded.\n",
    "\n",
    "We can also view the most common words in the vocabulary and their frequencies."
   ]
  },
  {
   "cell_type": "code",
   "execution_count": null,
   "metadata": {
    "colab": {
     "base_uri": "https://localhost:8080/"
    },
    "executionInfo": {
     "elapsed": 433,
     "status": "ok",
     "timestamp": 1708247199108,
     "user": {
      "displayName": "Wenya Wang",
      "userId": "11693014802286625875"
     },
     "user_tz": -480
    },
    "id": "Cy0-pS3oH1tT",
    "outputId": "81acf730-f702-43eb-a81a-40d85d6a82b5"
   },
   "outputs": [],
   "source": [
    "print(TEXT.vocab.freqs.most_common(20))"
   ]
  },
  {
   "cell_type": "markdown",
   "metadata": {
    "id": "V3n_Iv61H1tT"
   },
   "source": [
    "We can also check the labels."
   ]
  },
  {
   "cell_type": "code",
   "execution_count": null,
   "metadata": {
    "colab": {
     "base_uri": "https://localhost:8080/"
    },
    "executionInfo": {
     "elapsed": 346,
     "status": "ok",
     "timestamp": 1708247202352,
     "user": {
      "displayName": "Wenya Wang",
      "userId": "11693014802286625875"
     },
     "user_tz": -480
    },
    "id": "JYFR21-NH1tT",
    "outputId": "42dd5671-2a5e-445e-b137-c71ef5573d52"
   },
   "outputs": [],
   "source": [
    "print(LABEL.vocab.stoi)"
   ]
  },
  {
   "cell_type": "code",
   "execution_count": null,
   "metadata": {
    "colab": {
     "base_uri": "https://localhost:8080/"
    },
    "executionInfo": {
     "elapsed": 318,
     "status": "ok",
     "timestamp": 1708247205062,
     "user": {
      "displayName": "Wenya Wang",
      "userId": "11693014802286625875"
     },
     "user_tz": -480
    },
    "id": "-AC55M4-TkT-",
    "outputId": "f01f0aa2-cc85-4206-accf-37b6ee8f6a6d"
   },
   "outputs": [],
   "source": [
    "TEXT.__dict__"
   ]
  },
  {
   "cell_type": "markdown",
   "metadata": {
    "id": "zG_SfWp3H1tT"
   },
   "source": [
    "The final step of preparing the data is creating the iterators. We iterate over these in the training/evaluation loop, and they return a batch of examples (indexed and converted into tensors) at each iteration.\n",
    "\n",
    "We'll use a `BucketIterator` which is a special type of iterator that will return a batch of examples where each example is of a similar length, minimizing the amount of padding per example.\n",
    "\n",
    "We also want to place the tensors returned by the iterator on the GPU (if you're using one). PyTorch handles this using `torch.device`, we then pass this device to the iterator."
   ]
  },
  {
   "cell_type": "code",
   "execution_count": null,
   "metadata": {},
   "outputs": [],
   "source": [
    "# Check that MPS is available\n",
    "if not torch.backends.mps.is_available():\n",
    "    if not torch.backends.mps.is_built():\n",
    "        print(\"MPS not available because the current PyTorch install was not \"\n",
    "              \"built with MPS enabled.\")\n",
    "    else:\n",
    "        print(\"MPS not available because the current MacOS version is not 12.3+ \"\n",
    "              \"and/or you do not have an MPS-enabled device on this machine.\")"
   ]
  },
  {
   "cell_type": "code",
   "execution_count": null,
   "metadata": {
    "id": "5QYGHCMfH1tT"
   },
   "outputs": [],
   "source": [
    "BATCH_SIZE = 64\n",
    "\n",
    "# device = torch.device('cuda' if torch.cuda.is_available() else 'mps' if torch.backends.mps.is_available() else 'cpu')\n",
    "device = torch.device('cpu')\n",
    "\n",
    "train_iterator, valid_iterator, test_iterator = data.BucketIterator.splits(\n",
    "    (train_data, valid_data, test_data),\n",
    "    batch_size=BATCH_SIZE,\n",
    "    sort_within_batch=True,\n",
    "    device=device)\n"
   ]
  },
  {
   "cell_type": "markdown",
   "metadata": {
    "id": "XqygCp2RH1tT"
   },
   "source": [
    "## Build the Model\n",
    "\n",
    "As we progress, our next objective is to construct the model that will be trained and evaluated on the TREC question classification task.\n",
    "\n",
    "Creating models in PyTorch involves a bit of standardized code. Observe how our `RNN` class extends `nn.Module`, leveraging `super` to initialize it properly.\n",
    "\n",
    "Within the `__init__` method, we establish the model's _layers_. For our task, these include an _embedding_ layer, the RNN itself, and a _linear_ layer to output predictions. By default, these layers have randomly initialized parameters.\n",
    "\n",
    "The _embedding_ layer transforms sparse one-hot vectors (mostly zeros) into dense embedding vectors. This layer acts as a fully connected network that not only reduces input dimensionality but also groups semantically similar words closer in the embedding space. Embeddings are crucial for capturing the nuances of language in a computationally efficient manner.\n",
    "\n",
    "Following is the RNN layer, which processes the dense vector alongside the previous hidden state, $h_{t-1}$, to compute the subsequent hidden state, $h_t$. This recurrent processing allows the model to maintain a memory of past words as it moves through a sentence, essential for understanding the context and classifying questions accurately.\n",
    "\n",
    "The final step in our model involves the linear layer, which takes the RNN's last hidden state and projects it onto the space of our label categories, effectively determining the question's classification.\n",
    "\n",
    "During the `forward` method execution, we feed batches into our model. Each batch, `text`, is a tensor of dimensions _**[sentence length, batch size]**_, representing a batch of sentences where words are indicated by their indices.\n",
    "\n",
    "Though one might expect an additional dimension for one-hot vectors, PyTorch efficiently uses the index values directly, a process known as *numericalizing*.\n",
    "\n",
    "After passing through the embedding layer to obtain `embedded` (dimension _**[sentence length, batch size, embedding dim]**_), this tensor is input into the RNN. PyTorch's RNN can automatically start with an all-zero initial hidden state if none is provided.\n",
    "\n",
    "The RNN outputs two tensors: `output`, with size _**[sentence length, batch size, hidden dim]**_, representing the hidden state across all steps, and `hidden`, size _**[1, batch size, hidden dim]**_, the final hidden state. We use `hidden` to confirm our understanding, applying `squeeze` to remove any singleton dimensions.\n",
    "\n",
    "The prediction is generated by passing `hidden` through the linear layer, `fc`, aligning it with our classification goals."
   ]
  },
  {
   "cell_type": "code",
   "execution_count": null,
   "metadata": {
    "id": "Q5IWVRASH1tT"
   },
   "outputs": [],
   "source": [
    "import torch.nn as nn\n",
    "\n",
    "\n",
    "class RNN(nn.Module):\n",
    "    def __init__(self, vocab_size, embedding_dim, hidden_dim, output_dim):\n",
    "        super().__init__()\n",
    "\n",
    "        self.embedding = nn.Embedding(vocab_size, embedding_dim)\n",
    "\n",
    "        self.rnn = nn.RNN(embedding_dim, hidden_dim)\n",
    "\n",
    "        self.fc = nn.Linear(hidden_dim, output_dim)\n",
    "\n",
    "    def forward(self, text, text_lengths):\n",
    "        #text = [sent len, batch size]\n",
    "\n",
    "        embedded = self.embedding(text)\n",
    "        #embedded = [sent len, batch size, emb dim]\n",
    "\n",
    "        output, hidden = self.rnn(embedded)\n",
    "        #output = [sent len, batch size, hid dim]\n",
    "        #hidden = [1, batch size, hid dim]\n",
    "\n",
    "        assert torch.equal(output[-1, :, :], hidden.squeeze(0))\n",
    "\n",
    "        return self.fc(hidden.squeeze(0))"
   ]
  },
  {
   "cell_type": "markdown",
   "metadata": {
    "id": "Grztahq0H1tT"
   },
   "source": [
    "We now create an instance of our RNN class.\n",
    "\n",
    "The input dimension is the dimension of the one-hot vectors, which is equal to the vocabulary size.\n",
    "\n",
    "The embedding dimension is the size of the dense word vectors. This is usually around 50-250 dimensions, but depends on the size of the vocabulary.\n",
    "\n",
    "The hidden dimension is the size of the hidden states. This is usually around 100-500 dimensions, but also depends on factors such as on the vocabulary size, the size of the dense vectors and the complexity of the task.\n",
    "\n",
    "The output dimension is usually the number of classes."
   ]
  },
  {
   "cell_type": "code",
   "execution_count": null,
   "metadata": {
    "id": "C-NMrSMCH1tT"
   },
   "outputs": [],
   "source": [
    "VOCAB_SIZE = len(TEXT.vocab)\n",
    "EMBEDDING_DIM = 100\n",
    "HIDDEN_DIM = 50\n",
    "OUTPUT_DIM = len(LABEL.vocab)\n",
    "\n",
    "model = RNN(VOCAB_SIZE, EMBEDDING_DIM, HIDDEN_DIM, OUTPUT_DIM)"
   ]
  },
  {
   "cell_type": "markdown",
   "metadata": {
    "id": "epWFTT7gH1tU"
   },
   "source": [
    "Let's also create a function that will tell us how many trainable parameters our model has so we can compare the number of parameters across different models."
   ]
  },
  {
   "cell_type": "code",
   "execution_count": null,
   "metadata": {
    "colab": {
     "base_uri": "https://localhost:8080/"
    },
    "executionInfo": {
     "elapsed": 403,
     "status": "ok",
     "timestamp": 1708249354757,
     "user": {
      "displayName": "Wenya Wang",
      "userId": "11693014802286625875"
     },
     "user_tz": -480
    },
    "id": "wcSM1EMeH1tU",
    "outputId": "7b264e87-40c4-43e3-d953-4388a80a99a0"
   },
   "outputs": [],
   "source": [
    "def count_parameters(model):\n",
    "    return sum(p.numel() for p in model.parameters() if p.requires_grad)\n",
    "\n",
    "\n",
    "print(f'The model has {count_parameters(model):,} trainable parameters')"
   ]
  },
  {
   "cell_type": "markdown",
   "metadata": {
    "id": "wrkr-KlaH1tU"
   },
   "source": [
    "## Train the Model"
   ]
  },
  {
   "cell_type": "markdown",
   "metadata": {
    "id": "8ATDO1XbH1tU"
   },
   "source": [
    "Now, we'll proceed to configure the training phase and then embark on training our model.\n",
    "\n",
    "Initially, we select an optimizer, a crucial component in the training process. The optimizer is responsible for updating the model's parameters in response to the computed gradients during training. For our purposes, we'll employ _stochastic gradient descent_ (SGD) as our optimization algorithm. SGD is a popular choice due to its simplicity and effectiveness in various tasks, including NLP. The optimizer requires two primary inputs: the parameters to update and the learning rate, which determines the magnitude of the updates during the training process.\n",
    "\n",
    "Here's how you can set up SGD for our model:"
   ]
  },
  {
   "cell_type": "code",
   "execution_count": null,
   "metadata": {
    "id": "GvMIccglH1tU"
   },
   "outputs": [],
   "source": [
    "import torch.optim as optim\n",
    "\n",
    "# Assume model is an instance of our RNN class\n",
    "optimizer = optim.SGD(model.parameters(), lr=0.01)"
   ]
  },
  {
   "cell_type": "markdown",
   "metadata": {
    "id": "w2VjOUWDH1tU"
   },
   "source": [
    "Next, we'll define our loss function, often referred to as a criterion in PyTorch terminology.\n",
    "\n",
    "For the TREC question classification task, which involves categorizing questions into multiple categories, the appropriate loss function is _cross-entropy loss_. This loss function is well-suited for multi-class classification problems.\n",
    "\n",
    "Unlike the binary case, where the model outputs a single scalar representing the probability of the positive class, in multi-class classification, the model outputs a vector of scores for each class. We aim to have the score for the correct class to be higher than those for all other classes.\n",
    "\n",
    "PyTorch provides `nn.CrossEntropyLoss` for this purpose, which combines a `softmax` layer and the cross-entropy loss in a single class. This means it first applies the softmax function to the model's outputs (to obtain probabilities across classes) and then computes the cross-entropy loss between these probabilities and the target distribution.\n",
    "\n",
    "Here's how you can define the criterion for the TREC task:"
   ]
  },
  {
   "cell_type": "code",
   "execution_count": null,
   "metadata": {
    "id": "Y24HzSVUH1tU"
   },
   "outputs": [],
   "source": [
    "criterion = nn.CrossEntropyLoss()"
   ]
  },
  {
   "cell_type": "markdown",
   "metadata": {
    "id": "Hrk3GksVeqwm"
   },
   "source": [
    "It's important to note that when using `nn.CrossEntropyLoss`, the target labels for your training data should be encoded as class indices (e.g., `0` for the first class, `1` for the second class, etc.), rather than one-hot vectors. Additionally, the input to this loss function (i.e., the model's output) should not have the softmax function applied; `nn.CrossEntropyLoss` expects raw scores because it internally applies the softmax."
   ]
  },
  {
   "cell_type": "markdown",
   "metadata": {
    "id": "QLggV-msH1tU"
   },
   "source": [
    "Using `.to`, we can place the model and the criterion on the GPU (if we have one)."
   ]
  },
  {
   "cell_type": "code",
   "execution_count": null,
   "metadata": {
    "id": "Oxpv2NL9H1tU"
   },
   "outputs": [],
   "source": [
    "model = model.to(device)\n",
    "criterion = criterion.to(device)"
   ]
  },
  {
   "cell_type": "markdown",
   "metadata": {
    "id": "DLgOX9sVH1tU"
   },
   "source": [
    "The `train` function iterates over all examples, one batch at a time.\n",
    "\n",
    "`model.train()` is used to put the model in \"training mode\", which turns on _dropout_ and _batch normalization_. Although we aren't using them in this model, it's good practice to include it.\n",
    "\n",
    "For each batch, we first zero the gradients. Each parameter in a model has a `grad` attribute which stores the gradient calculated by the `criterion`. PyTorch does not automatically remove (or \"zero\") the gradients calculated from the last gradient calculation, so they must be manually zeroed.\n",
    "\n",
    "We then feed the batch of sentences, `batch.text`, into the model. Note, you do not need to do `model.forward(batch.text)`, simply calling the model works. The `squeeze` is needed as the predictions are initially size _**[batch size, 1]**_, and we need to remove the dimension of size 1 as PyTorch expects the predictions input to our criterion function to be of size _**[batch size]**_.\n",
    "\n",
    "The loss and accuracy are then calculated using our predictions and the labels, `batch.label`, with the loss being averaged over all examples in the batch.\n",
    "\n",
    "We calculate the gradient of each parameter with `loss.backward()`, and then update the parameters using the gradients and optimizer algorithm with `optimizer.step()`.\n",
    "\n",
    "The loss and accuracy is accumulated across the epoch, the `.item()` method is used to extract a scalar from a tensor which only contains a single value.\n",
    "\n",
    "Finally, we return the loss and accuracy, averaged across the epoch. The `len` of an iterator is the number of batches in the iterator.\n",
    "\n"
   ]
  },
  {
   "cell_type": "code",
   "execution_count": null,
   "metadata": {
    "id": "nqCbCqPuH1tU"
   },
   "outputs": [],
   "source": [
    "def train(model, iterator, optimizer, criterion):\n",
    "    epoch_loss = 0\n",
    "    total_correct = 0\n",
    "    total_instances = 0\n",
    "\n",
    "    model.train()\n",
    "\n",
    "    for batch in iterator:\n",
    "        optimizer.zero_grad()\n",
    "\n",
    "        text, text_lengths = batch.text\n",
    "\n",
    "        # Assuming your model's forward method automatically handles padding, then no need to pack sequence here\n",
    "        predictions = model(text, text_lengths)\n",
    "\n",
    "        loss = criterion(predictions, batch.label)\n",
    "        loss.backward()\n",
    "        optimizer.step()\n",
    "\n",
    "        epoch_loss += loss.item()\n",
    "\n",
    "        # Compute the number of correct predictions\n",
    "        _, predicted_classes = predictions.max(dim=1)\n",
    "        correct_predictions = (predicted_classes == batch.label).float()  # Convert to float for summation\n",
    "        total_correct += correct_predictions.sum().item()\n",
    "        total_instances += batch.label.size(0)\n",
    "\n",
    "    epoch_acc = total_correct / total_instances\n",
    "\n",
    "    return epoch_loss / len(iterator), epoch_acc"
   ]
  },
  {
   "cell_type": "markdown",
   "metadata": {
    "id": "mjgL4FpwH1tU"
   },
   "source": [
    "`evaluate` is similar to `train`, with a few modifications as you don't want to update the parameters when evaluating.\n",
    "\n",
    "`model.eval()` puts the model in \"evaluation mode\", this turns off _dropout_ and _batch normalization_. Again, we are not using them in this model, but it is good practice to include them.\n",
    "\n",
    "No gradients are calculated on PyTorch operations inside the `with no_grad()` block. This causes less memory to be used and speeds up computation.\n",
    "\n",
    "The rest of the function is the same as `train`, with the removal of `optimizer.zero_grad()`, `loss.backward()` and `optimizer.step()`, as we do not update the model's parameters when evaluating."
   ]
  },
  {
   "cell_type": "code",
   "execution_count": null,
   "metadata": {
    "id": "eS3rZWzhH1tU"
   },
   "outputs": [],
   "source": [
    "def evaluate(model, iterator, criterion):\n",
    "    epoch_loss = 0\n",
    "    total_correct = 0\n",
    "    total_instances = 0\n",
    "\n",
    "    model.eval()\n",
    "\n",
    "    with torch.no_grad():\n",
    "        for batch in iterator:\n",
    "            text, text_lengths = batch.text\n",
    "\n",
    "            # Assuming your model's forward method automatically handles padding, then no need to pack sequence here\n",
    "            predictions = model(text, text_lengths)\n",
    "\n",
    "            loss = criterion(predictions, batch.label)\n",
    "            epoch_loss += loss.item()\n",
    "\n",
    "            # Compute the number of correct predictions\n",
    "            _, predicted_classes = predictions.max(dim=1)\n",
    "            correct_predictions = (predicted_classes == batch.label).float()  # Convert to float for summation\n",
    "            total_correct += correct_predictions.sum().item()\n",
    "            total_instances += batch.label.size(0)\n",
    "\n",
    "    epoch_acc = total_correct / total_instances\n",
    "    return epoch_loss / len(iterator), epoch_acc"
   ]
  },
  {
   "cell_type": "markdown",
   "metadata": {
    "id": "ihiNgpLMH1tU"
   },
   "source": [
    "We'll also create a function to tell us how long an epoch takes to compare training times between models."
   ]
  },
  {
   "cell_type": "code",
   "execution_count": null,
   "metadata": {
    "id": "EzkEdOh_H1tU"
   },
   "outputs": [],
   "source": [
    "import time\n",
    "\n",
    "\n",
    "def epoch_time(start_time, end_time):\n",
    "    elapsed_time = end_time - start_time\n",
    "    elapsed_mins = int(elapsed_time / 60)\n",
    "    elapsed_secs = int(elapsed_time - (elapsed_mins * 60))\n",
    "    return elapsed_mins, elapsed_secs"
   ]
  },
  {
   "cell_type": "markdown",
   "metadata": {
    "id": "M5qBxiXfH1tU"
   },
   "source": [
    "We then train the model through multiple epochs, an epoch being a complete pass through all examples in the training and validation sets.\n",
    "\n",
    "At each epoch, if the validation loss is the best we have seen so far, we'll save the parameters of the model and then after training has finished we'll use that model on the test set."
   ]
  },
  {
   "cell_type": "code",
   "execution_count": null,
   "metadata": {
    "colab": {
     "base_uri": "https://localhost:8080/"
    },
    "executionInfo": {
     "elapsed": 1895,
     "status": "ok",
     "timestamp": 1708249374643,
     "user": {
      "displayName": "Wenya Wang",
      "userId": "11693014802286625875"
     },
     "user_tz": -480
    },
    "id": "eAjehc9qH1tV",
    "outputId": "fcbc9c1f-258e-4e91-85c8-f98931fd5f84",
    "scrolled": true
   },
   "outputs": [],
   "source": [
    "from tqdm import tqdm\n",
    "\n",
    "\n",
    "def experiment(model, optimizer, criterion, N_EPOCHS=100, pack=False):\n",
    "    best_valid_loss = float('inf')\n",
    "    best_valid_acc = 0\n",
    "    with tqdm(total=N_EPOCHS, desc='Training Progress') as pbar:\n",
    "        for epoch in range(N_EPOCHS):\n",
    "            train_loss, train_acc = train(model, train_iterator, optimizer, criterion)\n",
    "            valid_loss, valid_acc = evaluate(model, valid_iterator, criterion)\n",
    "\n",
    "            if valid_loss < best_valid_loss:\n",
    "                best_valid_loss = valid_loss\n",
    "                best_valid_acc = valid_acc\n",
    "                torch.save(model.state_dict(), 'tut1-model.pt')\n",
    "\n",
    "            pbar.set_description(\n",
    "                f'Train Loss: {train_loss:.3f} | Train Acc: {train_acc * 100:.2f}%'\n",
    "                f' |  Val. Loss: {valid_loss:.3f} |  Val. Acc: {valid_acc * 100:.2f}% |')\n",
    "            pbar.update(1)\n",
    "    return best_valid_loss, best_valid_acc"
   ]
  },
  {
   "cell_type": "code",
   "execution_count": null,
   "metadata": {},
   "outputs": [],
   "source": [
    "def test(model):\n",
    "    model.load_state_dict(torch.load('tut1-model.pt'))\n",
    "    test_loss, test_acc = evaluate(model, test_iterator, criterion)\n",
    "    return test_loss, test_acc"
   ]
  },
  {
   "cell_type": "markdown",
   "metadata": {},
   "source": [
    "You may have noticed the loss is not really decreasing and the accuracy is poor. This is due to several issues with the model which we'll improve in the next notebook.\n",
    "\n",
    "Finally, the metric we actually care about, the test loss and accuracy, which we get from our parameters that gave us the best validation loss."
   ]
  },
  {
   "cell_type": "code",
   "execution_count": null,
   "metadata": {
    "scrolled": true
   },
   "outputs": [],
   "source": [
    "import time\n",
    "\n",
    "val_accs = []\n",
    "val_losses = []\n",
    "times = []\n",
    "for i in range(10):\n",
    "    model = RNN(VOCAB_SIZE, EMBEDDING_DIM, HIDDEN_DIM, OUTPUT_DIM)\n",
    "    optimizer = optim.SGD(model.parameters(), lr=0.01)\n",
    "    criterion = nn.CrossEntropyLoss()\n",
    "\n",
    "    start_time = time.time()\n",
    "    val_loss, val_acc = experiment(model, optimizer, criterion)\n",
    "    end_time = time.time()\n",
    "\n",
    "    val_losses.append(val_loss)\n",
    "    val_accs.append(val_acc)\n",
    "    times.append(end_time - start_time)\n",
    "\n",
    "# loss, acc = test(model)"
   ]
  },
  {
   "cell_type": "code",
   "execution_count": null,
   "metadata": {},
   "outputs": [],
   "source": [
    "print(f'mean duration : {np.array(times).mean()}')\n",
    "print(f'mean test acc : {np.array(val_accs).mean()}')"
   ]
  },
  {
   "cell_type": "markdown",
   "metadata": {
    "id": "4zxuQwH0H1tV"
   },
   "source": [
    "You may have noticed the loss is not really decreasing and the accuracy is poor. This is due to several issues with the model which we'll improve in the next notebook.\n",
    "\n",
    "Finally, the metric we actually care about, the test loss and accuracy, which we get from our parameters that gave us the best validation loss."
   ]
  },
  {
   "cell_type": "markdown",
   "metadata": {},
   "source": [
    "## Next Steps\n",
    "\n",
    "In the next notebook, you will work on improving the model to give better performances according to the Assignment instructions (including but not limited to):\n",
    "- Configuration Optimization\n",
    "  \n",
    "  - different hyperparameters, e.g., optimizer, learning rate, batch size, size of the hidden vector\n",
    "  - regularization\n",
    "  - packed padded sequences\n",
    "\n",
    "- Input Embedding\n",
    "\n",
    "  - pre-trained word embeddings\n",
    "\n",
    "- Output Embedding\n",
    "\n",
    "  - sentence embedding computation\n",
    "\n",
    "- Architecture Optimization\n",
    "\n",
    "  - bidirectional RNN\n",
    "  - multi-layer RNN\n",
    "  - LSTM or GRU"
   ]
  },
  {
   "cell_type": "code",
   "execution_count": null,
   "metadata": {},
   "outputs": [],
   "source": [
    "from torch.nn.utils.rnn import pack_padded_sequence, pad_packed_sequence\n",
    "\n",
    "\n",
    "def is_sorted(sequence):\n",
    "    return all(sequence[i] >= sequence[i + 1] for i in range(len(sequence) - 1))\n",
    "\n",
    "\n",
    "class packed_RNN(nn.Module):\n",
    "    def __init__(self, vocab_size, embedding_dim, hidden_dim, output_dim):\n",
    "        super().__init__()\n",
    "\n",
    "        self.embedding = nn.Embedding(vocab_size, embedding_dim)\n",
    "\n",
    "        self.rnn = nn.RNN(embedding_dim, hidden_dim)\n",
    "\n",
    "        self.fc = nn.Linear(hidden_dim, output_dim)\n",
    "\n",
    "    def forward(self, text, text_lengths):\n",
    "        assert is_sorted(text_lengths)\n",
    "\n",
    "        #text = [sent len, batch size]\n",
    "        embedded = self.embedding(text)\n",
    "        #embedded = [sent len, batch size, emb dim]\n",
    "\n",
    "        packed_input = pack_padded_sequence(embedded, text_lengths)\n",
    "\n",
    "        packed_output, ht = self.rnn(packed_input)\n",
    "\n",
    "        return self.fc(ht.squeeze(0))"
   ]
  },
  {
   "cell_type": "code",
   "execution_count": null,
   "metadata": {
    "scrolled": true
   },
   "outputs": [],
   "source": [
    "val_accs = []\n",
    "val_losses = []\n",
    "times = []\n",
    "for i in range(10):\n",
    "    model = packed_RNN(VOCAB_SIZE, EMBEDDING_DIM, HIDDEN_DIM, OUTPUT_DIM)\n",
    "    optimizer = optim.SGD(model.parameters(), lr=0.01)\n",
    "    criterion = nn.CrossEntropyLoss()\n",
    "\n",
    "    start_time = time.time()\n",
    "    val_loss, vall_acc = experiment(model, optimizer, criterion)\n",
    "    end_time = time.time()\n",
    "\n",
    "    val_losses.append(val_loss)\n",
    "    val_accs.append(val_acc)\n",
    "    times.append(end_time - start_time)"
   ]
  },
  {
   "cell_type": "code",
   "execution_count": null,
   "metadata": {},
   "outputs": [],
   "source": [
    "print(f'mean duration : {np.array(times).mean()}')\n",
    "print(f'mean test acc : {np.array(val_accs).mean()}')"
   ]
  },
  {
   "cell_type": "markdown",
   "source": [
    "# 1.b\n",
    "I conducted a sweep of parameters:"
   ],
   "metadata": {
    "collapsed": false
   }
  },
  {
   "cell_type": "code",
   "outputs": [],
   "source": [
    "%load_ext autoreload\n",
    "%autoreload 2"
   ],
   "metadata": {
    "collapsed": false,
    "ExecuteTime": {
     "end_time": "2024-03-21T14:02:21.072152Z",
     "start_time": "2024-03-21T14:02:21.059463Z"
    }
   },
   "execution_count": 1
  },
  {
   "cell_type": "code",
   "outputs": [],
   "source": [
    "import wandb\n",
    "\n",
    "WANDB_PROJECT = \"Deep Learning models for Sentence Classification\"\n",
    "WANDB_ENTITY = \"crutch\"\n",
    "\n",
    "# Initialize W&B API\n",
    "api = wandb.Api()\n",
    "\n",
    "# Get all runs\n",
    "runs = api.runs(f\"{WANDB_ENTITY}/{WANDB_PROJECT}\")"
   ],
   "metadata": {
    "collapsed": false,
    "ExecuteTime": {
     "end_time": "2024-03-21T14:02:23.696140Z",
     "start_time": "2024-03-21T14:02:22.588770Z"
    }
   },
   "execution_count": 2
  },
  {
   "cell_type": "code",
   "outputs": [
    {
     "name": "stdout",
     "output_type": "stream",
     "text": [
      "✅ Found 300 runs\n"
     ]
    }
   ],
   "source": [
    "sweep_01_b_runs = [run for run in runs if 'sweep_01_b' in run.tags]\n",
    "print(f\"✅ Found {len(sweep_01_b_runs)} runs\")"
   ],
   "metadata": {
    "collapsed": false,
    "ExecuteTime": {
     "end_time": "2024-03-21T14:02:34.866560Z",
     "start_time": "2024-03-21T14:02:23.697416Z"
    }
   },
   "execution_count": 3
  },
  {
   "cell_type": "code",
   "outputs": [],
   "source": [
    "import pandas as pd\n",
    "\n",
    "\n",
    "def extract(run):\n",
    "    config = run.config\n",
    "    return {\n",
    "        \"lr\": config[\"lr\"],\n",
    "        \"hidden_dim\": config[\"model\"][\"hidden_dim\"],\n",
    "        \"batch_size\": config[\"batch_size\"],\n",
    "        \"optimizer\": config[\"optimizer\"],\n",
    "        \"valid_acc\": run.summary[\"valid_acc\"],\n",
    "    }\n",
    "\n",
    "\n",
    "def load_to_df(runs):\n",
    "    hparams = [extract(run) for run in runs]\n",
    "    df = pd.DataFrame(hparams)\n",
    "    return df"
   ],
   "metadata": {
    "collapsed": false,
    "ExecuteTime": {
     "end_time": "2024-03-21T14:02:35.164228Z",
     "start_time": "2024-03-21T14:02:34.868082Z"
    }
   },
   "execution_count": 4
  },
  {
   "cell_type": "code",
   "outputs": [],
   "source": [
    "sweep_01_b_df = load_to_df(sweep_01_b_runs)"
   ],
   "metadata": {
    "collapsed": false,
    "ExecuteTime": {
     "end_time": "2024-03-21T14:02:35.182811Z",
     "start_time": "2024-03-21T14:02:35.165933Z"
    }
   },
   "execution_count": 5
  },
  {
   "cell_type": "code",
   "outputs": [],
   "source": [
    "from utils import grid"
   ],
   "metadata": {
    "collapsed": false,
    "ExecuteTime": {
     "end_time": "2024-03-21T14:04:12.539355Z",
     "start_time": "2024-03-21T14:04:12.494663Z"
    }
   },
   "execution_count": 8
  },
  {
   "cell_type": "code",
   "outputs": [
    {
     "data": {
      "text/plain": "optimizer  adadelta   adagrad      adam   rmsprop       sgd\nlr                                                         \n0.00001    0.173904  0.204837  0.465953  0.475963  0.194801\n0.00010    0.211086  0.306651  0.727370  0.722401  0.236009\n0.00100    0.280810  0.614602  0.725076  0.729817  0.352523\n0.01000    0.538685  0.719113  0.390291  0.366590  0.704664\n0.10000    0.731927  0.452752  0.232110  0.228965  0.603539",
      "text/html": "<div>\n<style scoped>\n    .dataframe tbody tr th:only-of-type {\n        vertical-align: middle;\n    }\n\n    .dataframe tbody tr th {\n        vertical-align: top;\n    }\n\n    .dataframe thead th {\n        text-align: right;\n    }\n</style>\n<table border=\"1\" class=\"dataframe\">\n  <thead>\n    <tr style=\"text-align: right;\">\n      <th>optimizer</th>\n      <th>adadelta</th>\n      <th>adagrad</th>\n      <th>adam</th>\n      <th>rmsprop</th>\n      <th>sgd</th>\n    </tr>\n    <tr>\n      <th>lr</th>\n      <th></th>\n      <th></th>\n      <th></th>\n      <th></th>\n      <th></th>\n    </tr>\n  </thead>\n  <tbody>\n    <tr>\n      <th>0.00001</th>\n      <td>0.173904</td>\n      <td>0.204837</td>\n      <td>0.465953</td>\n      <td>0.475963</td>\n      <td>0.194801</td>\n    </tr>\n    <tr>\n      <th>0.00010</th>\n      <td>0.211086</td>\n      <td>0.306651</td>\n      <td>0.727370</td>\n      <td>0.722401</td>\n      <td>0.236009</td>\n    </tr>\n    <tr>\n      <th>0.00100</th>\n      <td>0.280810</td>\n      <td>0.614602</td>\n      <td>0.725076</td>\n      <td>0.729817</td>\n      <td>0.352523</td>\n    </tr>\n    <tr>\n      <th>0.01000</th>\n      <td>0.538685</td>\n      <td>0.719113</td>\n      <td>0.390291</td>\n      <td>0.366590</td>\n      <td>0.704664</td>\n    </tr>\n    <tr>\n      <th>0.10000</th>\n      <td>0.731927</td>\n      <td>0.452752</td>\n      <td>0.232110</td>\n      <td>0.228965</td>\n      <td>0.603539</td>\n    </tr>\n  </tbody>\n</table>\n</div>"
     },
     "execution_count": 37,
     "metadata": {},
     "output_type": "execute_result"
    }
   ],
   "source": [
    " sweep_01_b_df.groupby([\"lr\",\"optimizer\"]).agg({\"valid_acc\":[\"mean\"]})[(\"valid_acc\",\"mean\")].unstack()"
   ],
   "metadata": {
    "collapsed": false,
    "ExecuteTime": {
     "end_time": "2024-03-21T14:19:42.558645Z",
     "start_time": "2024-03-21T14:19:42.536676Z"
    }
   },
   "execution_count": 37
  },
  {
   "cell_type": "code",
   "outputs": [
    {
     "name": "stdout",
     "output_type": "stream",
     "text": [
      "✅ Saved figure to report/figures/\n"
     ]
    },
    {
     "data": {
      "text/plain": "<Figure size 1000x1000 with 10 Axes>",
      "image/png": "[encoded data removed]"
     },
     "metadata": {},
     "output_type": "display_data"
    }
   ],
   "source": [
    "import os\n",
    "\n",
    "# Choose hyperparameters to visualise\n",
    "result_column = \"valid_acc\"\n",
    "metric = \"mean\"\n",
    "param_cols = sweep_01_b_df.columns.tolist()\n",
    "param_tuples = [param for param in param_cols if param != result_column]\n",
    "subset = sweep_01_b_df[\n",
    "    # sweep_01_b_df[(\"config\", \"use_sot\")]\n",
    "    # & sweep_01_b_df[(\"config\", \"dataset\")].isin([\"tabula_muris\"]) &\n",
    "    (sweep_01_b_df[(\"valid_acc\")] >= 0)\n",
    "    ]\n",
    "\n",
    "rename = {\n",
    "    \"lr\": \"Learning\\nRate\",\n",
    "    \"hidden_dim\": \"Hidden\\nDimension\",\n",
    "    \"batch_size\": \"Batch\\nSize\",\n",
    "    \"optimizer\": \"Optimizer\",\n",
    "    \"adagrad\": \"Adagrad\",\n",
    "    \"adam\": \"Adam\",\n",
    "    \"sgd\": \"SGD\",\n",
    "    \"rmsprop\": \"RMSprop\",\n",
    "    \"adadelta\": \"Adadelta\",\n",
    "}\n",
    "\n",
    "fig = grid(\n",
    "    subset, param_tuples, result_column,metric, cmap=\"Blues\", figsize=(10, 10), rename_dict=rename \n",
    ")  # vmin, vmax automatically set\n",
    "\n",
    "FIGURE_DIR = \"report/figures/\"\n",
    "\n",
    "fig.savefig(\n",
    "    os.path.join(FIGURE_DIR, \"hparam_interaction.png\"),\n",
    "    bbox_inches=\"tight\",\n",
    "    dpi=300,\n",
    ")\n",
    "print(f\"✅ Saved figure to {FIGURE_DIR}\")"
   ],
   "metadata": {
    "collapsed": false,
    "ExecuteTime": {
     "end_time": "2024-03-21T15:12:48.076101Z",
     "start_time": "2024-03-21T15:12:46.331747Z"
    }
   },
   "execution_count": 82
  },
  {
   "cell_type": "code",
   "outputs": [],
   "source": [],
   "metadata": {
    "collapsed": false,
    "ExecuteTime": {
     "end_time": "2024-03-21T14:39:07.034487Z",
     "start_time": "2024-03-21T14:39:07.025500Z"
    }
   },
   "execution_count": 61
  },
  {
   "cell_type": "code",
   "outputs": [],
   "source": [],
   "metadata": {
    "collapsed": false
   }
  }
 ],
 "metadata": {
  "accelerator": "GPU",
  "colab": {
   "provenance": []
  },
  "gpuClass": "standard",
  "kernelspec": {
   "display_name": "Python 3 (ipykernel)",
   "language": "python",
   "name": "python3"
  },
  "language_info": {
   "codemirror_mode": {
    "name": "ipython",
    "version": 3
   },
   "file_extension": ".py",
   "mimetype": "text/x-python",
   "name": "python",
   "nbconvert_exporter": "python",
   "pygments_lexer": "ipython3",
   "version": "3.11.2"
  }
 },
 "nbformat": 4,
 "nbformat_minor": 1
}
