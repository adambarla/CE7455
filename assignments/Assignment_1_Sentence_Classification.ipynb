{
 "cells": [
  {
   "cell_type": "markdown",
   "metadata": {
    "id": "mRs770o5H1tN"
   },
   "source": [
    "# 1 - Simple Question Classification\n",
    "\n",
    "In this series, we'll develop a deep learning model capable of classifying questions into predefined categories using PyTorch and TorchText. This task will be performed on the [TREC question dataset](https://cogcomp.seas.upenn.edu/Data/QA/QC/), a collection of questions designed to be classified into a small set of categories.\n",
    "\n",
    "In this initial notebook, we aim to grasp the fundamental concepts without a primary focus on achieving high accuracy. Subsequent notebooks will expand upon this foundation to improve the model's performance.\n",
    "\n",
    "### Introduction\n",
    "\n",
    "For analyzing sequences such as sentences in questions, we'll utilize a **recurrent neural network** (RNN). RNNs are particularly suited for sequence analysis, as they process sequences of words, $X=\\{x_1, ..., x_T\\}$, one at a time. Each word in the sequence is associated with a _hidden state_, $h$, which is updated sequentially. The RNN operates _recurrently_ by taking in the current word $x_t$ and the hidden state from the preceding word, $h_{t-1}$, to generate the next hidden state, $h_t$.\n",
    "\n",
    "$$h_t = \\text{RNN}(x_t, h_{t-1})$$\n",
    "\n",
    "Upon processing the last word in the question, $x_T$, and obtaining the final hidden state, $h_T$, this state is passed through a linear layer, $f$, to predict the question's category, $\\hat{y} = f(h_T)$."
   ]
  },
  {
   "cell_type": "markdown",
   "metadata": {
    "id": "q7PlOzNmH1tP"
   },
   "source": [
    "## Preparing Data\n",
    "\n",
    "For processing textual data in PyTorch, TorchText provides a powerful abstraction through the concept of `Field`. These define how to process your data, which, in the context of the TREC question classification task, includes the raw text of the question and its category label.\n",
    "\n",
    "### Fields Definition\n",
    "\n",
    "To process the questions and their labels, we define two fields: `TEXT` for the questions and `LABEL` for the categories.\n",
    "\n",
    "- The `TEXT` field specifies how the questions should be processed. We employ `tokenize='spacy'` as an argument to use the [spaCy](https://spacy.io) tokenizer, which is more sophisticated than simple space-based tokenization. This requires specifying `tokenizer_language` to indicate the spaCy model to use, typically `en_core_web_sm` for English text. This model must be downloaded prior to running your notebook using the command: `python -m spacy download en_core_web_sm`.\n",
    "\n",
    "- The `LABEL` field is managed by a `LabelField`, a variant of the `Field` designed for handling categorical data. The `dtype` argument will be clarified subsequently, ensuring the labels are processed appropriately for classification.\n",
    "\n",
    "For a deeper dive into `Fields` and their configuration, refer to [this Documentation](https://torchtext.readthedocs.io/en/latest/data.html#field).\n",
    "\n",
    "### Random Seed for Reproducibility\n",
    "\n",
    "To ensure that our experiments can be replicated, we set the random seed at the beginning of our preprocessing script. This controls the randomness involved in splitting the dataset and initializing the model weights, making our results reproducible.\n"
   ]
  },
  {
   "cell_type": "code",
   "execution_count": 1,
   "metadata": {
    "id": "hVuNibrCUAdf"
   },
   "outputs": [],
   "source": [
    "import torch\n",
    "import numpy as np\n",
    "import random\n",
    "\n",
    "SEED = 1234\n",
    "\n",
    "random.seed(SEED)\n",
    "np.random.seed(SEED)\n",
    "torch.manual_seed(SEED)\n",
    "torch.backends.cudnn.deterministic = True"
   ]
  },
  {
   "cell_type": "code",
   "execution_count": 2,
   "metadata": {
    "scrolled": true
   },
   "outputs": [
    {
     "name": "stdout",
     "output_type": "stream",
     "text": [
      "Requirement already satisfied: spacy in /Library/Frameworks/Python.framework/Versions/3.10/lib/python3.10/site-packages (3.7.4)\n",
      "Requirement already satisfied: spacy-legacy<3.1.0,>=3.0.11 in /Library/Frameworks/Python.framework/Versions/3.10/lib/python3.10/site-packages (from spacy) (3.0.12)\n",
      "Requirement already satisfied: spacy-loggers<2.0.0,>=1.0.0 in /Library/Frameworks/Python.framework/Versions/3.10/lib/python3.10/site-packages (from spacy) (1.0.5)\n",
      "Requirement already satisfied: murmurhash<1.1.0,>=0.28.0 in /Library/Frameworks/Python.framework/Versions/3.10/lib/python3.10/site-packages (from spacy) (1.0.10)\n",
      "Requirement already satisfied: cymem<2.1.0,>=2.0.2 in /Library/Frameworks/Python.framework/Versions/3.10/lib/python3.10/site-packages (from spacy) (2.0.8)\n",
      "Requirement already satisfied: preshed<3.1.0,>=3.0.2 in /Library/Frameworks/Python.framework/Versions/3.10/lib/python3.10/site-packages (from spacy) (3.0.9)\n",
      "Requirement already satisfied: thinc<8.3.0,>=8.2.2 in /Library/Frameworks/Python.framework/Versions/3.10/lib/python3.10/site-packages (from spacy) (8.2.3)\n",
      "Requirement already satisfied: wasabi<1.2.0,>=0.9.1 in /Library/Frameworks/Python.framework/Versions/3.10/lib/python3.10/site-packages (from spacy) (1.1.2)\n",
      "Requirement already satisfied: srsly<3.0.0,>=2.4.3 in /Library/Frameworks/Python.framework/Versions/3.10/lib/python3.10/site-packages (from spacy) (2.4.8)\n",
      "Requirement already satisfied: catalogue<2.1.0,>=2.0.6 in /Library/Frameworks/Python.framework/Versions/3.10/lib/python3.10/site-packages (from spacy) (2.0.10)\n",
      "Requirement already satisfied: weasel<0.4.0,>=0.1.0 in /Library/Frameworks/Python.framework/Versions/3.10/lib/python3.10/site-packages (from spacy) (0.3.4)\n",
      "Requirement already satisfied: typer<0.10.0,>=0.3.0 in /Library/Frameworks/Python.framework/Versions/3.10/lib/python3.10/site-packages (from spacy) (0.9.0)\n",
      "Requirement already satisfied: smart-open<7.0.0,>=5.2.1 in /Library/Frameworks/Python.framework/Versions/3.10/lib/python3.10/site-packages (from spacy) (6.4.0)\n",
      "Requirement already satisfied: tqdm<5.0.0,>=4.38.0 in /Library/Frameworks/Python.framework/Versions/3.10/lib/python3.10/site-packages (from spacy) (4.66.1)\n",
      "Requirement already satisfied: requests<3.0.0,>=2.13.0 in /Library/Frameworks/Python.framework/Versions/3.10/lib/python3.10/site-packages (from spacy) (2.31.0)\n",
      "Requirement already satisfied: pydantic!=1.8,!=1.8.1,<3.0.0,>=1.7.4 in /Library/Frameworks/Python.framework/Versions/3.10/lib/python3.10/site-packages (from spacy) (2.6.4)\n",
      "Requirement already satisfied: jinja2 in /Library/Frameworks/Python.framework/Versions/3.10/lib/python3.10/site-packages (from spacy) (3.1.3)\n",
      "Requirement already satisfied: setuptools in /Library/Frameworks/Python.framework/Versions/3.10/lib/python3.10/site-packages (from spacy) (65.5.0)\n",
      "Requirement already satisfied: packaging>=20.0 in /Library/Frameworks/Python.framework/Versions/3.10/lib/python3.10/site-packages (from spacy) (24.0)\n",
      "Requirement already satisfied: langcodes<4.0.0,>=3.2.0 in /Library/Frameworks/Python.framework/Versions/3.10/lib/python3.10/site-packages (from spacy) (3.3.0)\n",
      "Requirement already satisfied: numpy>=1.19.0 in /Library/Frameworks/Python.framework/Versions/3.10/lib/python3.10/site-packages (from spacy) (1.26.2)\n",
      "Requirement already satisfied: annotated-types>=0.4.0 in /Library/Frameworks/Python.framework/Versions/3.10/lib/python3.10/site-packages (from pydantic!=1.8,!=1.8.1,<3.0.0,>=1.7.4->spacy) (0.6.0)\n",
      "Requirement already satisfied: pydantic-core==2.16.3 in /Library/Frameworks/Python.framework/Versions/3.10/lib/python3.10/site-packages (from pydantic!=1.8,!=1.8.1,<3.0.0,>=1.7.4->spacy) (2.16.3)\n",
      "Requirement already satisfied: typing-extensions>=4.6.1 in /Library/Frameworks/Python.framework/Versions/3.10/lib/python3.10/site-packages (from pydantic!=1.8,!=1.8.1,<3.0.0,>=1.7.4->spacy) (4.10.0)\n",
      "Requirement already satisfied: charset-normalizer<4,>=2 in /Library/Frameworks/Python.framework/Versions/3.10/lib/python3.10/site-packages (from requests<3.0.0,>=2.13.0->spacy) (3.3.2)\n",
      "Requirement already satisfied: idna<4,>=2.5 in /Library/Frameworks/Python.framework/Versions/3.10/lib/python3.10/site-packages (from requests<3.0.0,>=2.13.0->spacy) (3.6)\n",
      "Requirement already satisfied: urllib3<3,>=1.21.1 in /Library/Frameworks/Python.framework/Versions/3.10/lib/python3.10/site-packages (from requests<3.0.0,>=2.13.0->spacy) (2.2.1)\n",
      "Requirement already satisfied: certifi>=2017.4.17 in /Library/Frameworks/Python.framework/Versions/3.10/lib/python3.10/site-packages (from requests<3.0.0,>=2.13.0->spacy) (2024.2.2)\n",
      "Requirement already satisfied: blis<0.8.0,>=0.7.8 in /Library/Frameworks/Python.framework/Versions/3.10/lib/python3.10/site-packages (from thinc<8.3.0,>=8.2.2->spacy) (0.7.11)\n",
      "Requirement already satisfied: confection<1.0.0,>=0.0.1 in /Library/Frameworks/Python.framework/Versions/3.10/lib/python3.10/site-packages (from thinc<8.3.0,>=8.2.2->spacy) (0.1.4)\n",
      "Requirement already satisfied: click<9.0.0,>=7.1.1 in /Library/Frameworks/Python.framework/Versions/3.10/lib/python3.10/site-packages (from typer<0.10.0,>=0.3.0->spacy) (8.1.7)\n",
      "Requirement already satisfied: cloudpathlib<0.17.0,>=0.7.0 in /Library/Frameworks/Python.framework/Versions/3.10/lib/python3.10/site-packages (from weasel<0.4.0,>=0.1.0->spacy) (0.16.0)\n",
      "Requirement already satisfied: MarkupSafe>=2.0 in /Library/Frameworks/Python.framework/Versions/3.10/lib/python3.10/site-packages (from jinja2->spacy) (2.1.5)\n"
     ]
    }
   ],
   "source": [
    "!pip install spacy"
   ]
  },
  {
   "cell_type": "code",
   "execution_count": 3,
   "metadata": {
    "scrolled": true
   },
   "outputs": [
    {
     "name": "stdout",
     "output_type": "stream",
     "text": [
      "Collecting en-core-web-sm==3.7.1\n",
      "  Downloading https://github.com/explosion/spacy-models/releases/download/en_core_web_sm-3.7.1/en_core_web_sm-3.7.1-py3-none-any.whl (12.8 MB)\n",
      "\u001b[2K     \u001b[38;2;114;156;31m━━━━━━━━━━━━━━━━━━━━━━━━━━━━━━━━━━━━━━━━\u001b[0m \u001b[32m12.8/12.8 MB\u001b[0m \u001b[31m35.4 MB/s\u001b[0m eta \u001b[36m0:00:00\u001b[0mm eta \u001b[36m0:00:01\u001b[0m[36m0:00:01\u001b[0m\n",
      "\u001b[?25hRequirement already satisfied: spacy<3.8.0,>=3.7.2 in /Library/Frameworks/Python.framework/Versions/3.11/lib/python3.11/site-packages (from en-core-web-sm==3.7.1) (3.7.4)\n",
      "Requirement already satisfied: spacy-legacy<3.1.0,>=3.0.11 in /Library/Frameworks/Python.framework/Versions/3.11/lib/python3.11/site-packages (from spacy<3.8.0,>=3.7.2->en-core-web-sm==3.7.1) (3.0.12)\n",
      "Requirement already satisfied: spacy-loggers<2.0.0,>=1.0.0 in /Library/Frameworks/Python.framework/Versions/3.11/lib/python3.11/site-packages (from spacy<3.8.0,>=3.7.2->en-core-web-sm==3.7.1) (1.0.5)\n",
      "Requirement already satisfied: murmurhash<1.1.0,>=0.28.0 in /Library/Frameworks/Python.framework/Versions/3.11/lib/python3.11/site-packages (from spacy<3.8.0,>=3.7.2->en-core-web-sm==3.7.1) (1.0.10)\n",
      "Requirement already satisfied: cymem<2.1.0,>=2.0.2 in /Library/Frameworks/Python.framework/Versions/3.11/lib/python3.11/site-packages (from spacy<3.8.0,>=3.7.2->en-core-web-sm==3.7.1) (2.0.8)\n",
      "Requirement already satisfied: preshed<3.1.0,>=3.0.2 in /Library/Frameworks/Python.framework/Versions/3.11/lib/python3.11/site-packages (from spacy<3.8.0,>=3.7.2->en-core-web-sm==3.7.1) (3.0.9)\n",
      "Requirement already satisfied: thinc<8.3.0,>=8.2.2 in /Library/Frameworks/Python.framework/Versions/3.11/lib/python3.11/site-packages (from spacy<3.8.0,>=3.7.2->en-core-web-sm==3.7.1) (8.2.3)\n",
      "Requirement already satisfied: wasabi<1.2.0,>=0.9.1 in /Library/Frameworks/Python.framework/Versions/3.11/lib/python3.11/site-packages (from spacy<3.8.0,>=3.7.2->en-core-web-sm==3.7.1) (1.1.2)\n",
      "Requirement already satisfied: srsly<3.0.0,>=2.4.3 in /Library/Frameworks/Python.framework/Versions/3.11/lib/python3.11/site-packages (from spacy<3.8.0,>=3.7.2->en-core-web-sm==3.7.1) (2.4.8)\n",
      "Requirement already satisfied: catalogue<2.1.0,>=2.0.6 in /Library/Frameworks/Python.framework/Versions/3.11/lib/python3.11/site-packages (from spacy<3.8.0,>=3.7.2->en-core-web-sm==3.7.1) (2.0.10)\n",
      "Requirement already satisfied: weasel<0.4.0,>=0.1.0 in /Library/Frameworks/Python.framework/Versions/3.11/lib/python3.11/site-packages (from spacy<3.8.0,>=3.7.2->en-core-web-sm==3.7.1) (0.3.4)\n",
      "Requirement already satisfied: typer<0.10.0,>=0.3.0 in /Library/Frameworks/Python.framework/Versions/3.11/lib/python3.11/site-packages (from spacy<3.8.0,>=3.7.2->en-core-web-sm==3.7.1) (0.9.0)\n",
      "Requirement already satisfied: smart-open<7.0.0,>=5.2.1 in /Library/Frameworks/Python.framework/Versions/3.11/lib/python3.11/site-packages (from spacy<3.8.0,>=3.7.2->en-core-web-sm==3.7.1) (6.4.0)\n",
      "Requirement already satisfied: tqdm<5.0.0,>=4.38.0 in /Library/Frameworks/Python.framework/Versions/3.11/lib/python3.11/site-packages (from spacy<3.8.0,>=3.7.2->en-core-web-sm==3.7.1) (4.66.1)\n",
      "Requirement already satisfied: requests<3.0.0,>=2.13.0 in /Library/Frameworks/Python.framework/Versions/3.11/lib/python3.11/site-packages (from spacy<3.8.0,>=3.7.2->en-core-web-sm==3.7.1) (2.28.2)\n",
      "Requirement already satisfied: pydantic!=1.8,!=1.8.1,<3.0.0,>=1.7.4 in /Library/Frameworks/Python.framework/Versions/3.11/lib/python3.11/site-packages (from spacy<3.8.0,>=3.7.2->en-core-web-sm==3.7.1) (2.6.4)\n",
      "Requirement already satisfied: jinja2 in /Library/Frameworks/Python.framework/Versions/3.11/lib/python3.11/site-packages (from spacy<3.8.0,>=3.7.2->en-core-web-sm==3.7.1) (3.1.2)\n",
      "Requirement already satisfied: setuptools in /Library/Frameworks/Python.framework/Versions/3.11/lib/python3.11/site-packages (from spacy<3.8.0,>=3.7.2->en-core-web-sm==3.7.1) (65.5.0)\n",
      "Requirement already satisfied: packaging>=20.0 in /Library/Frameworks/Python.framework/Versions/3.11/lib/python3.11/site-packages (from spacy<3.8.0,>=3.7.2->en-core-web-sm==3.7.1) (23.0)\n",
      "Requirement already satisfied: langcodes<4.0.0,>=3.2.0 in /Library/Frameworks/Python.framework/Versions/3.11/lib/python3.11/site-packages (from spacy<3.8.0,>=3.7.2->en-core-web-sm==3.7.1) (3.3.0)\n",
      "Requirement already satisfied: numpy>=1.19.0 in /Library/Frameworks/Python.framework/Versions/3.11/lib/python3.11/site-packages (from spacy<3.8.0,>=3.7.2->en-core-web-sm==3.7.1) (1.24.3)\n",
      "Requirement already satisfied: annotated-types>=0.4.0 in /Library/Frameworks/Python.framework/Versions/3.11/lib/python3.11/site-packages (from pydantic!=1.8,!=1.8.1,<3.0.0,>=1.7.4->spacy<3.8.0,>=3.7.2->en-core-web-sm==3.7.1) (0.6.0)\n",
      "Requirement already satisfied: pydantic-core==2.16.3 in /Library/Frameworks/Python.framework/Versions/3.11/lib/python3.11/site-packages (from pydantic!=1.8,!=1.8.1,<3.0.0,>=1.7.4->spacy<3.8.0,>=3.7.2->en-core-web-sm==3.7.1) (2.16.3)\n",
      "Requirement already satisfied: typing-extensions>=4.6.1 in /Library/Frameworks/Python.framework/Versions/3.11/lib/python3.11/site-packages (from pydantic!=1.8,!=1.8.1,<3.0.0,>=1.7.4->spacy<3.8.0,>=3.7.2->en-core-web-sm==3.7.1) (4.10.0)\n",
      "Requirement already satisfied: charset-normalizer<4,>=2 in /Library/Frameworks/Python.framework/Versions/3.11/lib/python3.11/site-packages (from requests<3.0.0,>=2.13.0->spacy<3.8.0,>=3.7.2->en-core-web-sm==3.7.1) (3.0.1)\n",
      "Requirement already satisfied: idna<4,>=2.5 in /Library/Frameworks/Python.framework/Versions/3.11/lib/python3.11/site-packages (from requests<3.0.0,>=2.13.0->spacy<3.8.0,>=3.7.2->en-core-web-sm==3.7.1) (3.4)\n",
      "Requirement already satisfied: urllib3<1.27,>=1.21.1 in /Library/Frameworks/Python.framework/Versions/3.11/lib/python3.11/site-packages (from requests<3.0.0,>=2.13.0->spacy<3.8.0,>=3.7.2->en-core-web-sm==3.7.1) (1.26.14)\n",
      "Requirement already satisfied: certifi>=2017.4.17 in /Library/Frameworks/Python.framework/Versions/3.11/lib/python3.11/site-packages (from requests<3.0.0,>=2.13.0->spacy<3.8.0,>=3.7.2->en-core-web-sm==3.7.1) (2022.12.7)\n",
      "Requirement already satisfied: blis<0.8.0,>=0.7.8 in /Library/Frameworks/Python.framework/Versions/3.11/lib/python3.11/site-packages (from thinc<8.3.0,>=8.2.2->spacy<3.8.0,>=3.7.2->en-core-web-sm==3.7.1) (0.7.11)\n",
      "Requirement already satisfied: confection<1.0.0,>=0.0.1 in /Library/Frameworks/Python.framework/Versions/3.11/lib/python3.11/site-packages (from thinc<8.3.0,>=8.2.2->spacy<3.8.0,>=3.7.2->en-core-web-sm==3.7.1) (0.1.4)\n",
      "Requirement already satisfied: click<9.0.0,>=7.1.1 in /Library/Frameworks/Python.framework/Versions/3.11/lib/python3.11/site-packages (from typer<0.10.0,>=0.3.0->spacy<3.8.0,>=3.7.2->en-core-web-sm==3.7.1) (8.1.7)\n",
      "Requirement already satisfied: cloudpathlib<0.17.0,>=0.7.0 in /Library/Frameworks/Python.framework/Versions/3.11/lib/python3.11/site-packages (from weasel<0.4.0,>=0.1.0->spacy<3.8.0,>=3.7.2->en-core-web-sm==3.7.1) (0.16.0)\n",
      "Requirement already satisfied: MarkupSafe>=2.0 in /Library/Frameworks/Python.framework/Versions/3.11/lib/python3.11/site-packages (from jinja2->spacy<3.8.0,>=3.7.2->en-core-web-sm==3.7.1) (2.1.2)\n",
      "\u001b[38;5;2m✔ Download and installation successful\u001b[0m\n",
      "You can now load the package via spacy.load('en_core_web_sm')\n"
     ]
    }
   ],
   "source": [
    "import sys\n",
    "!{sys.executable} -m spacy download en_core_web_sm"
   ]
  },
  {
   "cell_type": "code",
   "execution_count": 4,
   "metadata": {},
   "outputs": [],
   "source": [
    "import spacy\n",
    "nlp = spacy.load(\"en_core_web_sm\")"
   ]
  },
  {
   "cell_type": "code",
   "execution_count": 7,
   "metadata": {
    "colab": {
     "base_uri": "https://localhost:8080/"
    },
    "executionInfo": {
     "elapsed": 6309,
     "status": "ok",
     "timestamp": 1708247161452,
     "user": {
      "displayName": "Wenya Wang",
      "userId": "11693014802286625875"
     },
     "user_tz": -480
    },
    "id": "cD11k9FQIxzW",
    "outputId": "0d472058-3e02-4066-9e6d-4623c5b4dfc0",
    "scrolled": true
   },
   "outputs": [
    {
     "name": "stdout",
     "output_type": "stream",
     "text": [
      "Collecting torchtext==0.4.0\n",
      "  Using cached torchtext-0.4.0-py3-none-any.whl.metadata (5.0 kB)\n",
      "Requirement already satisfied: tqdm in /Library/Frameworks/Python.framework/Versions/3.11/lib/python3.11/site-packages (from torchtext==0.4.0) (4.66.1)\n",
      "Requirement already satisfied: requests in /Library/Frameworks/Python.framework/Versions/3.11/lib/python3.11/site-packages (from torchtext==0.4.0) (2.28.2)\n",
      "Requirement already satisfied: torch in /Library/Frameworks/Python.framework/Versions/3.11/lib/python3.11/site-packages (from torchtext==0.4.0) (2.0.1)\n",
      "Requirement already satisfied: numpy in /Library/Frameworks/Python.framework/Versions/3.11/lib/python3.11/site-packages (from torchtext==0.4.0) (1.24.3)\n",
      "Requirement already satisfied: six in /Library/Frameworks/Python.framework/Versions/3.11/lib/python3.11/site-packages (from torchtext==0.4.0) (1.16.0)\n",
      "Requirement already satisfied: charset-normalizer<4,>=2 in /Library/Frameworks/Python.framework/Versions/3.11/lib/python3.11/site-packages (from requests->torchtext==0.4.0) (3.0.1)\n",
      "Requirement already satisfied: idna<4,>=2.5 in /Library/Frameworks/Python.framework/Versions/3.11/lib/python3.11/site-packages (from requests->torchtext==0.4.0) (3.4)\n",
      "Requirement already satisfied: urllib3<1.27,>=1.21.1 in /Library/Frameworks/Python.framework/Versions/3.11/lib/python3.11/site-packages (from requests->torchtext==0.4.0) (1.26.14)\n",
      "Requirement already satisfied: certifi>=2017.4.17 in /Library/Frameworks/Python.framework/Versions/3.11/lib/python3.11/site-packages (from requests->torchtext==0.4.0) (2022.12.7)\n",
      "Requirement already satisfied: filelock in /Library/Frameworks/Python.framework/Versions/3.11/lib/python3.11/site-packages (from torch->torchtext==0.4.0) (3.11.0)\n",
      "Requirement already satisfied: typing-extensions in /Library/Frameworks/Python.framework/Versions/3.11/lib/python3.11/site-packages (from torch->torchtext==0.4.0) (4.10.0)\n",
      "Requirement already satisfied: sympy in /Library/Frameworks/Python.framework/Versions/3.11/lib/python3.11/site-packages (from torch->torchtext==0.4.0) (1.11.1)\n",
      "Requirement already satisfied: networkx in /Library/Frameworks/Python.framework/Versions/3.11/lib/python3.11/site-packages (from torch->torchtext==0.4.0) (3.1)\n",
      "Requirement already satisfied: jinja2 in /Library/Frameworks/Python.framework/Versions/3.11/lib/python3.11/site-packages (from torch->torchtext==0.4.0) (3.1.2)\n",
      "Requirement already satisfied: MarkupSafe>=2.0 in /Library/Frameworks/Python.framework/Versions/3.11/lib/python3.11/site-packages (from jinja2->torch->torchtext==0.4.0) (2.1.2)\n",
      "Requirement already satisfied: mpmath>=0.19 in /Library/Frameworks/Python.framework/Versions/3.11/lib/python3.11/site-packages (from sympy->torch->torchtext==0.4.0) (1.3.0)\n",
      "Using cached torchtext-0.4.0-py3-none-any.whl (53 kB)\n",
      "Installing collected packages: torchtext\n",
      "Successfully installed torchtext-0.4.0\n"
     ]
    }
   ],
   "source": [
    "!{sys.executable} -m pip install  torchtext==0.4.0\n"
   ]
  },
  {
   "cell_type": "code",
   "execution_count": 8,
   "metadata": {
    "id": "diXAJf2jH1tQ"
   },
   "outputs": [],
   "source": [
    "from torchtext import data\n",
    "import torch\n",
    "\n",
    "# For tokenization\n",
    "TEXT = data.Field(tokenize='spacy',\n",
    "                  tokenizer_language='en_core_web_sm',\n",
    "                  include_lengths=True)\n",
    "\n",
    "# For multi-class classification labels\n",
    "LABEL = data.LabelField()"
   ]
  },
  {
   "cell_type": "markdown",
   "metadata": {
    "id": "nX88mkuKH1tQ"
   },
   "source": [
    "Another convenient aspect of TorchText is its built-in support for widely recognized datasets in natural language processing (NLP).\n",
    "\n",
    "The code snippet below will automatically download the TREC question classification dataset and split it into standard train/test divisions as `torchtext.datasets` objects. It processes the data using the `Fields` we previously defined. The TREC dataset consists of thousands of questions that are categorized into both coarse-grained and fine-grained labels indicating the type of question (e.g., location, person, numeric information).\n",
    "\n",
    "\n",
    "\n",
    "**Note:** In this example, `fine_grained=False` specifies that we want to use the coarse label set. If you're interested in a more detailed classification, you can set `fine_grained=True` to use the fine-grained label set instead."
   ]
  },
  {
   "cell_type": "code",
   "execution_count": 9,
   "metadata": {
    "id": "nOTiebiKH1tR"
   },
   "outputs": [
    {
     "name": "stdout",
     "output_type": "stream",
     "text": [
      "downloading train_5500.label\n"
     ]
    },
    {
     "name": "stderr",
     "output_type": "stream",
     "text": [
      "train_5500.label: 100%|██████████████████████████████████████████████████████████████████████████████████████████████████| 336k/336k [00:01<00:00, 302kB/s]\n"
     ]
    },
    {
     "name": "stdout",
     "output_type": "stream",
     "text": [
      "downloading TREC_10.label\n"
     ]
    },
    {
     "name": "stderr",
     "output_type": "stream",
     "text": [
      "TREC_10.label: 100%|██████████████████████████████████████████████████████████████████████████████████████████████████| 23.4k/23.4k [00:00<00:00, 76.2kB/s]\n"
     ]
    }
   ],
   "source": [
    "from torchtext import datasets\n",
    "\n",
    "# Load the TREC dataset\n",
    "train_data, test_data = datasets.TREC.splits(TEXT, LABEL, fine_grained=False)"
   ]
  },
  {
   "cell_type": "markdown",
   "metadata": {
    "id": "afgL6u_GH1tR"
   },
   "source": [
    "We can see how many examples are in each split by checking their length."
   ]
  },
  {
   "cell_type": "code",
   "execution_count": 17,
   "metadata": {
    "colab": {
     "base_uri": "https://localhost:8080/"
    },
    "executionInfo": {
     "elapsed": 379,
     "status": "ok",
     "timestamp": 1708247177163,
     "user": {
      "displayName": "Wenya Wang",
      "userId": "11693014802286625875"
     },
     "user_tz": -480
    },
    "id": "ZRJ49dUVH1tR",
    "outputId": "a76b9361-f4d5-4c76-a221-e009deba7700"
   },
   "outputs": [
    {
     "name": "stdout",
     "output_type": "stream",
     "text": [
      "Number of training examples: 5452\n",
      "Number of testing examples: 500\n"
     ]
    }
   ],
   "source": [
    "print(f'Number of training examples: {len(train_data)}')\n",
    "print(f'Number of testing examples: {len(test_data)}')"
   ]
  },
  {
   "cell_type": "markdown",
   "metadata": {
    "id": "WOZlrCq0H1tR"
   },
   "source": [
    "We can also check an example."
   ]
  },
  {
   "cell_type": "code",
   "execution_count": 18,
   "metadata": {
    "colab": {
     "base_uri": "https://localhost:8080/"
    },
    "executionInfo": {
     "elapsed": 409,
     "status": "ok",
     "timestamp": 1708247180234,
     "user": {
      "displayName": "Wenya Wang",
      "userId": "11693014802286625875"
     },
     "user_tz": -480
    },
    "id": "a_GxVB6iH1tR",
    "outputId": "5290acdc-57f7-4cef-d41b-79135b263e72"
   },
   "outputs": [
    {
     "name": "stdout",
     "output_type": "stream",
     "text": [
      "{'text': ['How', 'did', 'serfdom', 'develop', 'in', 'and', 'then', 'leave', 'Russia', '?'], 'label': 'DESC'}\n"
     ]
    }
   ],
   "source": [
    "print(vars(train_data.examples[0]))"
   ]
  },
  {
   "cell_type": "markdown",
   "metadata": {
    "id": "Cn0-tCRqH1tS"
   },
   "source": [
    "The TREC dataset, like the IMDb dataset, comes primarily with train and test splits, necessitating the creation of a validation set for a comprehensive evaluation process. We can achieve this through the use of the `.split()` method on the training data.\n",
    "\n",
    "While the default behavior of `.split()` divides the data into a 70/30 split, this can be customized with the `split_ratio` parameter. For example, setting `split_ratio` to 0.8 indicates that 80% of the data will be used for training, while the remaining 20% forms the validation set.\n",
    "\n",
    "To ensure consistency in our splits across different runs, we'll use the `random_state` parameter, passing in our predefined random seed. This guarantees that we receive the same train/validation split each time we execute our code.\n",
    "\n",
    "Here is how you can apply this to the TREC dataset:\n",
    "\n",
    "\n",
    "\n",
    "This approach allows us to maintain a structured and effective training regime, ensuring that our model is not only trained but also validated on a distinct subset of the dataset before being evaluated on the test set."
   ]
  },
  {
   "cell_type": "code",
   "execution_count": 19,
   "metadata": {
    "id": "eCXoOIyVH1tS"
   },
   "outputs": [],
   "source": [
    "from torchtext.data import Dataset\n",
    "\n",
    "# Assuming train_data is already defined\n",
    "train_data, valid_data = train_data.split(split_ratio=0.8, random_state=random.seed(SEED))"
   ]
  },
  {
   "cell_type": "markdown",
   "metadata": {
    "id": "l7GIAq-lH1tS"
   },
   "source": [
    "Again, we'll view how many examples are in each split."
   ]
  },
  {
   "cell_type": "code",
   "execution_count": 20,
   "metadata": {
    "colab": {
     "base_uri": "https://localhost:8080/"
    },
    "executionInfo": {
     "elapsed": 307,
     "status": "ok",
     "timestamp": 1708247186370,
     "user": {
      "displayName": "Wenya Wang",
      "userId": "11693014802286625875"
     },
     "user_tz": -480
    },
    "id": "aO3xIgKBH1tS",
    "outputId": "4adc259d-cbe3-4f55-fa51-2c2346ef2949"
   },
   "outputs": [
    {
     "name": "stdout",
     "output_type": "stream",
     "text": [
      "Number of training examples: 4362\n",
      "Number of validation examples: 1090\n",
      "Number of testing examples: 500\n"
     ]
    }
   ],
   "source": [
    "print(f'Number of training examples: {len(train_data)}')\n",
    "print(f'Number of validation examples: {len(valid_data)}')\n",
    "print(f'Number of testing examples: {len(test_data)}')"
   ]
  },
  {
   "cell_type": "markdown",
   "metadata": {
    "id": "wjmk1g3YH1tS"
   },
   "source": [
    "Next, we proceed to construct a _vocabulary_ for our dataset. This step is critical as machine learning models don't process raw text but numbers. The vocabulary serves as a lookup table where every unique word across the dataset is associated with a unique _index_ (an integer).\n",
    "\n",
    "In practice, each word's _index_ is utilized to generate a _one-hot_ vector, which is a sparse vector where all elements are 0, except for the position corresponding to the word's index, which is set to 1. The total number of unique words in the dataset defines the dimensionality of these one-hot vectors, often represented by $V$.\n",
    "\n",
    "Given the potentially vast size of our dataset's vocabulary, direct utilization of one-hot vectors can lead to inefficiencies in training and model size, especially considering some words might be very rare or unique to specific examples.\n",
    "\n",
    "To mitigate this, we can limit our vocabulary in two ways: either by retaining only the top $n$ most frequent words or by excluding words that appear fewer than $m$ times within the dataset. For the TREC task, we'll adopt the former strategy, focusing on the most common words to ensure our model's manageability and performance.\n",
    "\n",
    "Words not included in our reduced vocabulary are replaced with a special _unknown_ (`<unk>`) token. This approach ensures that our model can handle any word, even those not explicitly learned during training. For instance, if we encounter a sentence like \"What is the capital of France?\" and \"capital\" was not among the retained vocabulary words, it would be represented as \"What is the `<unk>` of France?\" in our processed data.\n",
    "\n",
    "Here's how we can build the vocabulary for the TREC dataset, specifying a `max_size` to limit its scope:"
   ]
  },
  {
   "cell_type": "code",
   "execution_count": 22,
   "metadata": {
    "id": "Kzq6r-FtH1tS"
   },
   "outputs": [],
   "source": [
    "TEXT.build_vocab(train_data, max_size=10000)\n",
    "LABEL.build_vocab(train_data)"
   ]
  },
  {
   "cell_type": "markdown",
   "metadata": {
    "id": "afFTzzi7H1tS"
   },
   "source": [
    "Why do we only build the vocabulary on the training set? When testing any machine learning system you do not want to look at the test set in any way. We do not include the validation set as we want it to reflect the test set as much as possible."
   ]
  },
  {
   "cell_type": "code",
   "execution_count": 23,
   "metadata": {
    "colab": {
     "base_uri": "https://localhost:8080/"
    },
    "executionInfo": {
     "elapsed": 311,
     "status": "ok",
     "timestamp": 1708247192524,
     "user": {
      "displayName": "Wenya Wang",
      "userId": "11693014802286625875"
     },
     "user_tz": -480
    },
    "id": "j8GmgGjAH1tS",
    "outputId": "19f11e5b-4476-49dd-88ef-fb1880834639"
   },
   "outputs": [
    {
     "name": "stdout",
     "output_type": "stream",
     "text": [
      "Unique tokens in TEXT vocabulary: 8106\n",
      "Unique tokens in LABEL vocabulary: 6\n"
     ]
    }
   ],
   "source": [
    "print(f\"Unique tokens in TEXT vocabulary: {len(TEXT.vocab)}\")\n",
    "print(f\"Unique tokens in LABEL vocabulary: {len(LABEL.vocab)}\")"
   ]
  },
  {
   "cell_type": "markdown",
   "metadata": {
    "id": "fIKDMaiSXxTp"
   },
   "source": [
    "We can also see the vocabulary directly using either the `stoi` (**s**tring **to** **i**nt) or `itos` (**i**nt **to**  **s**tring) method."
   ]
  },
  {
   "cell_type": "code",
   "execution_count": 24,
   "metadata": {
    "colab": {
     "base_uri": "https://localhost:8080/"
    },
    "executionInfo": {
     "elapsed": 324,
     "status": "ok",
     "timestamp": 1708247195493,
     "user": {
      "displayName": "Wenya Wang",
      "userId": "11693014802286625875"
     },
     "user_tz": -480
    },
    "id": "3U8jb9WWXyq-",
    "outputId": "863036e5-2ba6-4b6f-d8ce-b64531b45e02"
   },
   "outputs": [
    {
     "name": "stdout",
     "output_type": "stream",
     "text": [
      "<unk>\n",
      "<pad>\n",
      "?\n",
      "the\n",
      "What\n",
      "is\n",
      "of\n",
      "in\n",
      "a\n",
      "`\n"
     ]
    }
   ],
   "source": [
    "# Assuming TEXT.vocab has been built\n",
    "for i in range(10):\n",
    "    print(TEXT.vocab.itos[i])"
   ]
  },
  {
   "cell_type": "markdown",
   "metadata": {
    "id": "B-8Giye0H1tS"
   },
   "source": [
    "\n",
    "Note there are two additional tokens: the `<unk>` token and the `<pad>` token.\n",
    "\n",
    "When we feed sentences into our model, we feed a _batch_ of them at a time, i.e. more than one at a time, and all sentences in the batch need to be the same size. Thus, to ensure each sentence in the batch is the same size, any shorter than the longest within the batch are padded.\n",
    "\n",
    "We can also view the most common words in the vocabulary and their frequencies."
   ]
  },
  {
   "cell_type": "code",
   "execution_count": 25,
   "metadata": {
    "colab": {
     "base_uri": "https://localhost:8080/"
    },
    "executionInfo": {
     "elapsed": 433,
     "status": "ok",
     "timestamp": 1708247199108,
     "user": {
      "displayName": "Wenya Wang",
      "userId": "11693014802286625875"
     },
     "user_tz": -480
    },
    "id": "Cy0-pS3oH1tT",
    "outputId": "81acf730-f702-43eb-a81a-40d85d6a82b5"
   },
   "outputs": [
    {
     "name": "stdout",
     "output_type": "stream",
     "text": [
      "[('?', 4281), ('the', 2875), ('What', 2594), ('is', 1347), ('of', 1221), ('in', 894), ('a', 797), ('`', 663), ('How', 598), (\"'s\", 571), ('was', 510), ('to', 493), (',', 454), ('Who', 452), ('for', 370), ('are', 349), ('and', 348), (\"''\", 319), ('does', 318), ('did', 304)]\n"
     ]
    }
   ],
   "source": [
    "print(TEXT.vocab.freqs.most_common(20))"
   ]
  },
  {
   "cell_type": "markdown",
   "metadata": {
    "id": "V3n_Iv61H1tT"
   },
   "source": [
    "We can also check the labels."
   ]
  },
  {
   "cell_type": "code",
   "execution_count": 26,
   "metadata": {
    "colab": {
     "base_uri": "https://localhost:8080/"
    },
    "executionInfo": {
     "elapsed": 346,
     "status": "ok",
     "timestamp": 1708247202352,
     "user": {
      "displayName": "Wenya Wang",
      "userId": "11693014802286625875"
     },
     "user_tz": -480
    },
    "id": "JYFR21-NH1tT",
    "outputId": "42dd5671-2a5e-445e-b137-c71ef5573d52"
   },
   "outputs": [
    {
     "name": "stdout",
     "output_type": "stream",
     "text": [
      "defaultdict(None, {'HUM': 0, 'ENTY': 1, 'DESC': 2, 'NUM': 3, 'LOC': 4, 'ABBR': 5})\n"
     ]
    }
   ],
   "source": [
    "print(LABEL.vocab.stoi)"
   ]
  },
  {
   "cell_type": "code",
   "execution_count": 27,
   "metadata": {
    "colab": {
     "base_uri": "https://localhost:8080/"
    },
    "executionInfo": {
     "elapsed": 318,
     "status": "ok",
     "timestamp": 1708247205062,
     "user": {
      "displayName": "Wenya Wang",
      "userId": "11693014802286625875"
     },
     "user_tz": -480
    },
    "id": "-AC55M4-TkT-",
    "outputId": "f01f0aa2-cc85-4206-accf-37b6ee8f6a6d"
   },
   "outputs": [
    {
     "data": {
      "text/plain": [
       "{'sequential': True,\n",
       " 'use_vocab': True,\n",
       " 'init_token': None,\n",
       " 'eos_token': None,\n",
       " 'unk_token': '<unk>',\n",
       " 'fix_length': None,\n",
       " 'dtype': torch.int64,\n",
       " 'preprocessing': None,\n",
       " 'postprocessing': None,\n",
       " 'lower': False,\n",
       " 'tokenizer_args': ('spacy', 'en_core_web_sm'),\n",
       " 'tokenize': functools.partial(<function _spacy_tokenize at 0x2891e19e0>, spacy=<spacy.lang.en.English object at 0x287f8d550>),\n",
       " 'include_lengths': True,\n",
       " 'batch_first': False,\n",
       " 'pad_token': '<pad>',\n",
       " 'pad_first': False,\n",
       " 'truncate_first': False,\n",
       " 'stop_words': None,\n",
       " 'is_target': False,\n",
       " 'vocab': <torchtext.vocab.Vocab at 0x28c8d65d0>}"
      ]
     },
     "execution_count": 27,
     "metadata": {},
     "output_type": "execute_result"
    }
   ],
   "source": [
    "TEXT.__dict__"
   ]
  },
  {
   "cell_type": "markdown",
   "metadata": {
    "id": "zG_SfWp3H1tT"
   },
   "source": [
    "The final step of preparing the data is creating the iterators. We iterate over these in the training/evaluation loop, and they return a batch of examples (indexed and converted into tensors) at each iteration.\n",
    "\n",
    "We'll use a `BucketIterator` which is a special type of iterator that will return a batch of examples where each example is of a similar length, minimizing the amount of padding per example.\n",
    "\n",
    "We also want to place the tensors returned by the iterator on the GPU (if you're using one). PyTorch handles this using `torch.device`, we then pass this device to the iterator."
   ]
  },
  {
   "cell_type": "code",
   "execution_count": 73,
   "metadata": {},
   "outputs": [],
   "source": [
    "# Check that MPS is available\n",
    "if not torch.backends.mps.is_available():\n",
    "    if not torch.backends.mps.is_built():\n",
    "        print(\"MPS not available because the current PyTorch install was not \"\n",
    "              \"built with MPS enabled.\")\n",
    "    else:\n",
    "        print(\"MPS not available because the current MacOS version is not 12.3+ \"\n",
    "              \"and/or you do not have an MPS-enabled device on this machine.\")"
   ]
  },
  {
   "cell_type": "code",
   "execution_count": 119,
   "metadata": {
    "id": "5QYGHCMfH1tT"
   },
   "outputs": [],
   "source": [
    "BATCH_SIZE = 64\n",
    "\n",
    "# device = torch.device('cuda' if torch.cuda.is_available() else 'mps' if torch.backends.mps.is_available() else 'cpu')\n",
    "device= torch.device('cpu')\n",
    "\n",
    "train_iterator, valid_iterator, test_iterator = data.BucketIterator.splits(\n",
    "    (train_data, valid_data, test_data),\n",
    "    batch_size = BATCH_SIZE,\n",
    "    sort_within_batch = True,\n",
    "    device = device)\n"
   ]
  },
  {
   "cell_type": "markdown",
   "metadata": {
    "id": "XqygCp2RH1tT"
   },
   "source": [
    "## Build the Model\n",
    "\n",
    "As we progress, our next objective is to construct the model that will be trained and evaluated on the TREC question classification task.\n",
    "\n",
    "Creating models in PyTorch involves a bit of standardized code. Observe how our `RNN` class extends `nn.Module`, leveraging `super` to initialize it properly.\n",
    "\n",
    "Within the `__init__` method, we establish the model's _layers_. For our task, these include an _embedding_ layer, the RNN itself, and a _linear_ layer to output predictions. By default, these layers have randomly initialized parameters.\n",
    "\n",
    "The _embedding_ layer transforms sparse one-hot vectors (mostly zeros) into dense embedding vectors. This layer acts as a fully connected network that not only reduces input dimensionality but also groups semantically similar words closer in the embedding space. Embeddings are crucial for capturing the nuances of language in a computationally efficient manner.\n",
    "\n",
    "Following is the RNN layer, which processes the dense vector alongside the previous hidden state, $h_{t-1}$, to compute the subsequent hidden state, $h_t$. This recurrent processing allows the model to maintain a memory of past words as it moves through a sentence, essential for understanding the context and classifying questions accurately.\n",
    "\n",
    "The final step in our model involves the linear layer, which takes the RNN's last hidden state and projects it onto the space of our label categories, effectively determining the question's classification.\n",
    "\n",
    "During the `forward` method execution, we feed batches into our model. Each batch, `text`, is a tensor of dimensions _**[sentence length, batch size]**_, representing a batch of sentences where words are indicated by their indices.\n",
    "\n",
    "Though one might expect an additional dimension for one-hot vectors, PyTorch efficiently uses the index values directly, a process known as *numericalizing*.\n",
    "\n",
    "After passing through the embedding layer to obtain `embedded` (dimension _**[sentence length, batch size, embedding dim]**_), this tensor is input into the RNN. PyTorch's RNN can automatically start with an all-zero initial hidden state if none is provided.\n",
    "\n",
    "The RNN outputs two tensors: `output`, with size _**[sentence length, batch size, hidden dim]**_, representing the hidden state across all steps, and `hidden`, size _**[1, batch size, hidden dim]**_, the final hidden state. We use `hidden` to confirm our understanding, applying `squeeze` to remove any singleton dimensions.\n",
    "\n",
    "The prediction is generated by passing `hidden` through the linear layer, `fc`, aligning it with our classification goals."
   ]
  },
  {
   "cell_type": "code",
   "execution_count": 120,
   "metadata": {
    "id": "Q5IWVRASH1tT"
   },
   "outputs": [],
   "source": [
    "import torch.nn as nn\n",
    "\n",
    "class RNN(nn.Module):\n",
    "    def __init__(self, vocab_size, embedding_dim, hidden_dim, output_dim):\n",
    "\n",
    "        super().__init__()\n",
    "\n",
    "        self.embedding = nn.Embedding(vocab_size, embedding_dim)\n",
    "\n",
    "        self.rnn = nn.RNN(embedding_dim, hidden_dim)\n",
    "\n",
    "        self.fc = nn.Linear(hidden_dim, output_dim)\n",
    "\n",
    "    def forward(self, text, text_lengths):\n",
    "        #text = [sent len, batch size]\n",
    "\n",
    "        embedded = self.embedding(text)\n",
    "        #embedded = [sent len, batch size, emb dim]\n",
    "\n",
    "        output, hidden = self.rnn(embedded)\n",
    "        #output = [sent len, batch size, hid dim]\n",
    "        #hidden = [1, batch size, hid dim]\n",
    "\n",
    "        #assert torch.equal(output[-1,:,:], hidden.squeeze(0))\n",
    "\n",
    "        return self.fc(hidden.squeeze(0))"
   ]
  },
  {
   "cell_type": "markdown",
   "metadata": {
    "id": "Grztahq0H1tT"
   },
   "source": [
    "We now create an instance of our RNN class.\n",
    "\n",
    "The input dimension is the dimension of the one-hot vectors, which is equal to the vocabulary size.\n",
    "\n",
    "The embedding dimension is the size of the dense word vectors. This is usually around 50-250 dimensions, but depends on the size of the vocabulary.\n",
    "\n",
    "The hidden dimension is the size of the hidden states. This is usually around 100-500 dimensions, but also depends on factors such as on the vocabulary size, the size of the dense vectors and the complexity of the task.\n",
    "\n",
    "The output dimension is usually the number of classes."
   ]
  },
  {
   "cell_type": "code",
   "execution_count": 121,
   "metadata": {
    "id": "C-NMrSMCH1tT"
   },
   "outputs": [],
   "source": [
    "VOCAB_SIZE = len(TEXT.vocab)\n",
    "EMBEDDING_DIM = 100\n",
    "HIDDEN_DIM = 50\n",
    "OUTPUT_DIM = len(LABEL.vocab)\n",
    "\n",
    "model = RNN(VOCAB_SIZE, EMBEDDING_DIM, HIDDEN_DIM, OUTPUT_DIM)"
   ]
  },
  {
   "cell_type": "markdown",
   "metadata": {
    "id": "epWFTT7gH1tU"
   },
   "source": [
    "Let's also create a function that will tell us how many trainable parameters our model has so we can compare the number of parameters across different models."
   ]
  },
  {
   "cell_type": "code",
   "execution_count": 122,
   "metadata": {
    "colab": {
     "base_uri": "https://localhost:8080/"
    },
    "executionInfo": {
     "elapsed": 403,
     "status": "ok",
     "timestamp": 1708249354757,
     "user": {
      "displayName": "Wenya Wang",
      "userId": "11693014802286625875"
     },
     "user_tz": -480
    },
    "id": "wcSM1EMeH1tU",
    "outputId": "7b264e87-40c4-43e3-d953-4388a80a99a0"
   },
   "outputs": [
    {
     "name": "stdout",
     "output_type": "stream",
     "text": [
      "The model has 818,506 trainable parameters\n"
     ]
    }
   ],
   "source": [
    "def count_parameters(model):\n",
    "    return sum(p.numel() for p in model.parameters() if p.requires_grad)\n",
    "\n",
    "print(f'The model has {count_parameters(model):,} trainable parameters')"
   ]
  },
  {
   "cell_type": "markdown",
   "metadata": {
    "id": "wrkr-KlaH1tU"
   },
   "source": [
    "## Train the Model"
   ]
  },
  {
   "cell_type": "markdown",
   "metadata": {
    "id": "8ATDO1XbH1tU"
   },
   "source": [
    "Now, we'll proceed to configure the training phase and then embark on training our model.\n",
    "\n",
    "Initially, we select an optimizer, a crucial component in the training process. The optimizer is responsible for updating the model's parameters in response to the computed gradients during training. For our purposes, we'll employ _stochastic gradient descent_ (SGD) as our optimization algorithm. SGD is a popular choice due to its simplicity and effectiveness in various tasks, including NLP. The optimizer requires two primary inputs: the parameters to update and the learning rate, which determines the magnitude of the updates during the training process.\n",
    "\n",
    "Here's how you can set up SGD for our model:"
   ]
  },
  {
   "cell_type": "code",
   "execution_count": 123,
   "metadata": {
    "id": "GvMIccglH1tU"
   },
   "outputs": [],
   "source": [
    "import torch.optim as optim\n",
    "\n",
    "# Assume model is an instance of our RNN class\n",
    "optimizer = optim.SGD(model.parameters(), lr=0.01)"
   ]
  },
  {
   "cell_type": "markdown",
   "metadata": {
    "id": "w2VjOUWDH1tU"
   },
   "source": [
    "Next, we'll define our loss function, often referred to as a criterion in PyTorch terminology.\n",
    "\n",
    "For the TREC question classification task, which involves categorizing questions into multiple categories, the appropriate loss function is _cross-entropy loss_. This loss function is well-suited for multi-class classification problems.\n",
    "\n",
    "Unlike the binary case, where the model outputs a single scalar representing the probability of the positive class, in multi-class classification, the model outputs a vector of scores for each class. We aim to have the score for the correct class to be higher than those for all other classes.\n",
    "\n",
    "PyTorch provides `nn.CrossEntropyLoss` for this purpose, which combines a `softmax` layer and the cross-entropy loss in a single class. This means it first applies the softmax function to the model's outputs (to obtain probabilities across classes) and then computes the cross-entropy loss between these probabilities and the target distribution.\n",
    "\n",
    "Here's how you can define the criterion for the TREC task:"
   ]
  },
  {
   "cell_type": "code",
   "execution_count": 124,
   "metadata": {
    "id": "Y24HzSVUH1tU"
   },
   "outputs": [],
   "source": [
    "criterion = nn.CrossEntropyLoss()"
   ]
  },
  {
   "cell_type": "markdown",
   "metadata": {
    "id": "Hrk3GksVeqwm"
   },
   "source": [
    "It's important to note that when using `nn.CrossEntropyLoss`, the target labels for your training data should be encoded as class indices (e.g., `0` for the first class, `1` for the second class, etc.), rather than one-hot vectors. Additionally, the input to this loss function (i.e., the model's output) should not have the softmax function applied; `nn.CrossEntropyLoss` expects raw scores because it internally applies the softmax."
   ]
  },
  {
   "cell_type": "markdown",
   "metadata": {
    "id": "QLggV-msH1tU"
   },
   "source": [
    "Using `.to`, we can place the model and the criterion on the GPU (if we have one)."
   ]
  },
  {
   "cell_type": "code",
   "execution_count": 125,
   "metadata": {
    "id": "Oxpv2NL9H1tU"
   },
   "outputs": [],
   "source": [
    "model = model.to(device)\n",
    "criterion = criterion.to(device)"
   ]
  },
  {
   "cell_type": "markdown",
   "metadata": {
    "id": "DLgOX9sVH1tU"
   },
   "source": [
    "The `train` function iterates over all examples, one batch at a time.\n",
    "\n",
    "`model.train()` is used to put the model in \"training mode\", which turns on _dropout_ and _batch normalization_. Although we aren't using them in this model, it's good practice to include it.\n",
    "\n",
    "For each batch, we first zero the gradients. Each parameter in a model has a `grad` attribute which stores the gradient calculated by the `criterion`. PyTorch does not automatically remove (or \"zero\") the gradients calculated from the last gradient calculation, so they must be manually zeroed.\n",
    "\n",
    "We then feed the batch of sentences, `batch.text`, into the model. Note, you do not need to do `model.forward(batch.text)`, simply calling the model works. The `squeeze` is needed as the predictions are initially size _**[batch size, 1]**_, and we need to remove the dimension of size 1 as PyTorch expects the predictions input to our criterion function to be of size _**[batch size]**_.\n",
    "\n",
    "The loss and accuracy are then calculated using our predictions and the labels, `batch.label`, with the loss being averaged over all examples in the batch.\n",
    "\n",
    "We calculate the gradient of each parameter with `loss.backward()`, and then update the parameters using the gradients and optimizer algorithm with `optimizer.step()`.\n",
    "\n",
    "The loss and accuracy is accumulated across the epoch, the `.item()` method is used to extract a scalar from a tensor which only contains a single value.\n",
    "\n",
    "Finally, we return the loss and accuracy, averaged across the epoch. The `len` of an iterator is the number of batches in the iterator.\n",
    "\n"
   ]
  },
  {
   "cell_type": "code",
   "execution_count": 126,
   "metadata": {
    "id": "nqCbCqPuH1tU"
   },
   "outputs": [],
   "source": [
    "def train(model, iterator, optimizer, criterion):\n",
    "\n",
    "    epoch_loss = 0\n",
    "    total_correct = 0\n",
    "    total_instances = 0\n",
    "\n",
    "    model.train()\n",
    "\n",
    "    for batch in iterator:\n",
    "\n",
    "        optimizer.zero_grad()\n",
    "\n",
    "        text, text_lengths = batch.text\n",
    "\n",
    "        # Assuming your model's forward method automatically handles padding, then no need to pack sequence here\n",
    "        predictions = model(text, text_lengths)\n",
    "\n",
    "        loss = criterion(predictions, batch.label)\n",
    "        loss.backward()\n",
    "        optimizer.step()\n",
    "\n",
    "        epoch_loss += loss.item()\n",
    "\n",
    "        # Compute the number of correct predictions\n",
    "        _, predicted_classes = predictions.max(dim=1)\n",
    "        correct_predictions = (predicted_classes == batch.label).float()  # Convert to float for summation\n",
    "        total_correct += correct_predictions.sum().item()\n",
    "        total_instances += batch.label.size(0)\n",
    "\n",
    "    epoch_acc = total_correct / total_instances\n",
    "\n",
    "    return epoch_loss / len(iterator), epoch_acc"
   ]
  },
  {
   "cell_type": "markdown",
   "metadata": {
    "id": "mjgL4FpwH1tU"
   },
   "source": [
    "`evaluate` is similar to `train`, with a few modifications as you don't want to update the parameters when evaluating.\n",
    "\n",
    "`model.eval()` puts the model in \"evaluation mode\", this turns off _dropout_ and _batch normalization_. Again, we are not using them in this model, but it is good practice to include them.\n",
    "\n",
    "No gradients are calculated on PyTorch operations inside the `with no_grad()` block. This causes less memory to be used and speeds up computation.\n",
    "\n",
    "The rest of the function is the same as `train`, with the removal of `optimizer.zero_grad()`, `loss.backward()` and `optimizer.step()`, as we do not update the model's parameters when evaluating."
   ]
  },
  {
   "cell_type": "code",
   "execution_count": 127,
   "metadata": {
    "id": "eS3rZWzhH1tU"
   },
   "outputs": [],
   "source": [
    "def evaluate(model, iterator, criterion):\n",
    "\n",
    "    epoch_loss = 0\n",
    "    total_correct = 0\n",
    "    total_instances = 0\n",
    "\n",
    "    model.eval()\n",
    "\n",
    "    with torch.no_grad():\n",
    "\n",
    "        for batch in iterator:\n",
    "            text, text_lengths = batch.text\n",
    "\n",
    "            # Assuming your model's forward method automatically handles padding, then no need to pack sequence here\n",
    "            predictions = model(text, text_lengths)\n",
    "\n",
    "            loss = criterion(predictions, batch.label)\n",
    "            epoch_loss += loss.item()\n",
    "\n",
    "            # Compute the number of correct predictions\n",
    "            _, predicted_classes = predictions.max(dim=1)\n",
    "            correct_predictions = (predicted_classes == batch.label).float()  # Convert to float for summation\n",
    "            total_correct += correct_predictions.sum().item()\n",
    "            total_instances += batch.label.size(0)\n",
    "\n",
    "    epoch_acc = total_correct / total_instances\n",
    "    return epoch_loss / len(iterator), epoch_acc"
   ]
  },
  {
   "cell_type": "markdown",
   "metadata": {
    "id": "ihiNgpLMH1tU"
   },
   "source": [
    "We'll also create a function to tell us how long an epoch takes to compare training times between models."
   ]
  },
  {
   "cell_type": "code",
   "execution_count": 128,
   "metadata": {
    "id": "EzkEdOh_H1tU"
   },
   "outputs": [],
   "source": [
    "import time\n",
    "\n",
    "def epoch_time(start_time, end_time):\n",
    "    elapsed_time = end_time - start_time\n",
    "    elapsed_mins = int(elapsed_time / 60)\n",
    "    elapsed_secs = int(elapsed_time - (elapsed_mins * 60))\n",
    "    return elapsed_mins, elapsed_secs"
   ]
  },
  {
   "cell_type": "markdown",
   "metadata": {
    "id": "M5qBxiXfH1tU"
   },
   "source": [
    "We then train the model through multiple epochs, an epoch being a complete pass through all examples in the training and validation sets.\n",
    "\n",
    "At each epoch, if the validation loss is the best we have seen so far, we'll save the parameters of the model and then after training has finished we'll use that model on the test set."
   ]
  },
  {
   "cell_type": "code",
   "execution_count": null,
   "metadata": {
    "colab": {
     "base_uri": "https://localhost:8080/"
    },
    "executionInfo": {
     "elapsed": 1895,
     "status": "ok",
     "timestamp": 1708249374643,
     "user": {
      "displayName": "Wenya Wang",
      "userId": "11693014802286625875"
     },
     "user_tz": -480
    },
    "id": "eAjehc9qH1tV",
    "outputId": "fcbc9c1f-258e-4e91-85c8-f98931fd5f84",
    "scrolled": true
   },
   "outputs": [
    {
     "name": "stdout",
     "output_type": "stream",
     "text": [
      "Epoch: 01 | Epoch Time: 0m 0s\n",
      "\tTrain Loss: 1.724 | Train Acc: 21.14%\n",
      "\t Val. Loss: 1.676 |  Val. Acc: 24.59%\n",
      "Epoch: 02 | Epoch Time: 0m 0s\n",
      "\tTrain Loss: 1.667 | Train Acc: 23.11%\n",
      "\t Val. Loss: 1.647 |  Val. Acc: 23.85%\n",
      "Epoch: 03 | Epoch Time: 0m 0s\n",
      "\tTrain Loss: 1.658 | Train Acc: 23.91%\n",
      "\t Val. Loss: 1.633 |  Val. Acc: 23.94%\n",
      "Epoch: 04 | Epoch Time: 0m 0s\n",
      "\tTrain Loss: 1.649 | Train Acc: 24.90%\n",
      "\t Val. Loss: 1.627 |  Val. Acc: 23.94%\n",
      "Epoch: 05 | Epoch Time: 0m 0s\n",
      "\tTrain Loss: 1.643 | Train Acc: 25.10%\n",
      "\t Val. Loss: 1.621 |  Val. Acc: 23.76%\n",
      "Epoch: 06 | Epoch Time: 0m 0s\n",
      "\tTrain Loss: 1.641 | Train Acc: 25.93%\n",
      "\t Val. Loss: 1.616 |  Val. Acc: 24.86%\n",
      "Epoch: 07 | Epoch Time: 0m 0s\n",
      "\tTrain Loss: 1.638 | Train Acc: 25.88%\n",
      "\t Val. Loss: 1.609 |  Val. Acc: 23.85%\n",
      "Epoch: 08 | Epoch Time: 0m 0s\n",
      "\tTrain Loss: 1.635 | Train Acc: 26.27%\n",
      "\t Val. Loss: 1.608 |  Val. Acc: 24.31%\n",
      "Epoch: 09 | Epoch Time: 0m 0s\n",
      "\tTrain Loss: 1.632 | Train Acc: 26.82%\n",
      "\t Val. Loss: 1.607 |  Val. Acc: 24.31%\n",
      "Epoch: 10 | Epoch Time: 0m 0s\n",
      "\tTrain Loss: 1.629 | Train Acc: 27.28%\n",
      "\t Val. Loss: 1.604 |  Val. Acc: 25.14%\n",
      "Epoch: 11 | Epoch Time: 0m 0s\n",
      "\tTrain Loss: 1.625 | Train Acc: 26.96%\n",
      "\t Val. Loss: 1.600 |  Val. Acc: 26.51%\n",
      "Epoch: 12 | Epoch Time: 0m 0s\n",
      "\tTrain Loss: 1.622 | Train Acc: 27.37%\n",
      "\t Val. Loss: 1.593 |  Val. Acc: 25.78%\n",
      "Epoch: 13 | Epoch Time: 0m 0s\n",
      "\tTrain Loss: 1.616 | Train Acc: 28.22%\n",
      "\t Val. Loss: 1.594 |  Val. Acc: 25.32%\n",
      "Epoch: 14 | Epoch Time: 0m 0s\n",
      "\tTrain Loss: 1.616 | Train Acc: 27.90%\n",
      "\t Val. Loss: 1.585 |  Val. Acc: 27.52%\n",
      "Epoch: 15 | Epoch Time: 0m 0s\n",
      "\tTrain Loss: 1.609 | Train Acc: 28.66%\n",
      "\t Val. Loss: 1.582 |  Val. Acc: 26.33%\n",
      "Epoch: 16 | Epoch Time: 0m 0s\n",
      "\tTrain Loss: 1.608 | Train Acc: 29.32%\n",
      "\t Val. Loss: 1.580 |  Val. Acc: 27.98%\n",
      "Epoch: 17 | Epoch Time: 0m 0s\n",
      "\tTrain Loss: 1.601 | Train Acc: 30.26%\n",
      "\t Val. Loss: 1.581 |  Val. Acc: 26.42%\n",
      "Epoch: 18 | Epoch Time: 0m 0s\n",
      "\tTrain Loss: 1.602 | Train Acc: 30.58%\n",
      "\t Val. Loss: 1.578 |  Val. Acc: 27.89%\n",
      "Epoch: 19 | Epoch Time: 0m 0s\n",
      "\tTrain Loss: 1.600 | Train Acc: 29.37%\n",
      "\t Val. Loss: 1.575 |  Val. Acc: 28.07%\n",
      "Epoch: 20 | Epoch Time: 0m 0s\n",
      "\tTrain Loss: 1.596 | Train Acc: 30.08%\n",
      "\t Val. Loss: 1.571 |  Val. Acc: 27.98%\n",
      "Epoch: 21 | Epoch Time: 0m 0s\n",
      "\tTrain Loss: 1.587 | Train Acc: 30.47%\n",
      "\t Val. Loss: 1.569 |  Val. Acc: 28.72%\n",
      "Epoch: 22 | Epoch Time: 0m 0s\n",
      "\tTrain Loss: 1.583 | Train Acc: 31.75%\n",
      "\t Val. Loss: 1.564 |  Val. Acc: 28.62%\n",
      "Epoch: 23 | Epoch Time: 0m 0s\n",
      "\tTrain Loss: 1.579 | Train Acc: 32.12%\n",
      "\t Val. Loss: 1.561 |  Val. Acc: 29.72%\n",
      "Epoch: 24 | Epoch Time: 0m 0s\n",
      "\tTrain Loss: 1.573 | Train Acc: 32.14%\n",
      "\t Val. Loss: 1.562 |  Val. Acc: 29.36%\n",
      "Epoch: 25 | Epoch Time: 0m 0s\n",
      "\tTrain Loss: 1.572 | Train Acc: 32.65%\n",
      "\t Val. Loss: 1.562 |  Val. Acc: 29.45%\n",
      "Epoch: 26 | Epoch Time: 0m 0s\n",
      "\tTrain Loss: 1.564 | Train Acc: 32.39%\n",
      "\t Val. Loss: 1.557 |  Val. Acc: 28.99%\n",
      "Epoch: 27 | Epoch Time: 0m 0s\n",
      "\tTrain Loss: 1.557 | Train Acc: 33.75%\n",
      "\t Val. Loss: 1.552 |  Val. Acc: 28.72%\n",
      "Epoch: 28 | Epoch Time: 0m 0s\n",
      "\tTrain Loss: 1.552 | Train Acc: 33.04%\n",
      "\t Val. Loss: 1.548 |  Val. Acc: 29.63%\n",
      "Epoch: 29 | Epoch Time: 0m 0s\n",
      "\tTrain Loss: 1.547 | Train Acc: 34.50%\n",
      "\t Val. Loss: 1.543 |  Val. Acc: 30.00%\n",
      "Epoch: 30 | Epoch Time: 0m 0s\n",
      "\tTrain Loss: 1.537 | Train Acc: 35.14%\n",
      "\t Val. Loss: 1.551 |  Val. Acc: 29.82%\n",
      "Epoch: 31 | Epoch Time: 0m 0s\n",
      "\tTrain Loss: 1.533 | Train Acc: 35.60%\n",
      "\t Val. Loss: 1.541 |  Val. Acc: 31.10%\n",
      "Epoch: 32 | Epoch Time: 0m 0s\n",
      "\tTrain Loss: 1.529 | Train Acc: 35.24%\n",
      "\t Val. Loss: 1.549 |  Val. Acc: 30.37%\n",
      "Epoch: 33 | Epoch Time: 0m 0s\n",
      "\tTrain Loss: 1.520 | Train Acc: 35.83%\n",
      "\t Val. Loss: 1.533 |  Val. Acc: 31.56%\n",
      "Epoch: 34 | Epoch Time: 0m 0s\n",
      "\tTrain Loss: 1.510 | Train Acc: 36.50%\n",
      "\t Val. Loss: 1.529 |  Val. Acc: 31.83%\n",
      "Epoch: 35 | Epoch Time: 0m 0s\n",
      "\tTrain Loss: 1.502 | Train Acc: 37.71%\n",
      "\t Val. Loss: 1.524 |  Val. Acc: 31.74%\n",
      "Epoch: 36 | Epoch Time: 0m 0s\n",
      "\tTrain Loss: 1.494 | Train Acc: 37.64%\n",
      "\t Val. Loss: 1.522 |  Val. Acc: 32.94%\n",
      "Epoch: 37 | Epoch Time: 0m 0s\n",
      "\tTrain Loss: 1.485 | Train Acc: 38.06%\n",
      "\t Val. Loss: 1.509 |  Val. Acc: 33.85%\n",
      "Epoch: 38 | Epoch Time: 0m 0s\n",
      "\tTrain Loss: 1.469 | Train Acc: 39.80%\n",
      "\t Val. Loss: 1.493 |  Val. Acc: 34.59%\n",
      "Epoch: 39 | Epoch Time: 0m 0s\n",
      "\tTrain Loss: 1.453 | Train Acc: 39.73%\n",
      "\t Val. Loss: 1.473 |  Val. Acc: 35.78%\n",
      "Epoch: 40 | Epoch Time: 0m 0s\n",
      "\tTrain Loss: 1.436 | Train Acc: 41.13%\n",
      "\t Val. Loss: 1.454 |  Val. Acc: 36.06%\n",
      "Epoch: 41 | Epoch Time: 0m 0s\n",
      "\tTrain Loss: 1.419 | Train Acc: 42.43%\n",
      "\t Val. Loss: 1.423 |  Val. Acc: 38.62%\n",
      "Epoch: 42 | Epoch Time: 0m 0s\n",
      "\tTrain Loss: 1.392 | Train Acc: 44.48%\n",
      "\t Val. Loss: 1.402 |  Val. Acc: 40.55%\n",
      "Epoch: 43 | Epoch Time: 0m 0s\n",
      "\tTrain Loss: 1.374 | Train Acc: 46.26%\n",
      "\t Val. Loss: 1.403 |  Val. Acc: 39.45%\n",
      "Epoch: 44 | Epoch Time: 0m 0s\n",
      "\tTrain Loss: 1.351 | Train Acc: 46.15%\n",
      "\t Val. Loss: 1.364 |  Val. Acc: 43.03%\n",
      "Epoch: 45 | Epoch Time: 0m 0s\n",
      "\tTrain Loss: 1.326 | Train Acc: 46.81%\n",
      "\t Val. Loss: 1.347 |  Val. Acc: 42.84%\n",
      "Epoch: 46 | Epoch Time: 0m 0s\n",
      "\tTrain Loss: 1.311 | Train Acc: 48.03%\n",
      "\t Val. Loss: 1.323 |  Val. Acc: 43.76%\n",
      "Epoch: 47 | Epoch Time: 0m 0s\n",
      "\tTrain Loss: 1.275 | Train Acc: 49.43%\n",
      "\t Val. Loss: 1.311 |  Val. Acc: 44.04%\n",
      "Epoch: 48 | Epoch Time: 0m 0s\n",
      "\tTrain Loss: 1.266 | Train Acc: 49.63%\n",
      "\t Val. Loss: 1.284 |  Val. Acc: 45.23%\n",
      "Epoch: 49 | Epoch Time: 0m 0s\n",
      "\tTrain Loss: 1.220 | Train Acc: 51.88%\n",
      "\t Val. Loss: 1.280 |  Val. Acc: 45.50%\n",
      "Epoch: 50 | Epoch Time: 0m 0s\n",
      "\tTrain Loss: 1.198 | Train Acc: 52.43%\n",
      "\t Val. Loss: 1.253 |  Val. Acc: 46.15%\n",
      "Epoch: 51 | Epoch Time: 0m 0s\n",
      "\tTrain Loss: 1.185 | Train Acc: 53.00%\n",
      "\t Val. Loss: 1.241 |  Val. Acc: 47.34%\n",
      "Epoch: 52 | Epoch Time: 0m 0s\n",
      "\tTrain Loss: 1.153 | Train Acc: 54.68%\n",
      "\t Val. Loss: 1.243 |  Val. Acc: 46.88%\n",
      "Epoch: 53 | Epoch Time: 0m 0s\n",
      "\tTrain Loss: 1.132 | Train Acc: 56.40%\n",
      "\t Val. Loss: 1.230 |  Val. Acc: 48.44%\n",
      "Epoch: 54 | Epoch Time: 0m 0s\n",
      "\tTrain Loss: 1.123 | Train Acc: 55.91%\n",
      "\t Val. Loss: 1.197 |  Val. Acc: 49.91%\n",
      "Epoch: 55 | Epoch Time: 0m 0s\n",
      "\tTrain Loss: 1.113 | Train Acc: 56.65%\n",
      "\t Val. Loss: 1.175 |  Val. Acc: 51.38%\n",
      "Epoch: 56 | Epoch Time: 0m 0s\n",
      "\tTrain Loss: 1.082 | Train Acc: 58.44%\n",
      "\t Val. Loss: 1.173 |  Val. Acc: 51.93%\n",
      "Epoch: 57 | Epoch Time: 0m 0s\n",
      "\tTrain Loss: 1.058 | Train Acc: 59.56%\n",
      "\t Val. Loss: 1.147 |  Val. Acc: 53.03%\n",
      "Epoch: 58 | Epoch Time: 0m 0s\n",
      "\tTrain Loss: 1.032 | Train Acc: 60.36%\n",
      "\t Val. Loss: 1.129 |  Val. Acc: 54.13%\n",
      "Epoch: 59 | Epoch Time: 0m 0s\n",
      "\tTrain Loss: 1.022 | Train Acc: 60.89%\n",
      "\t Val. Loss: 1.115 |  Val. Acc: 54.13%\n",
      "Epoch: 60 | Epoch Time: 0m 0s\n",
      "\tTrain Loss: 1.126 | Train Acc: 58.41%\n",
      "\t Val. Loss: 1.274 |  Val. Acc: 46.24%\n",
      "Epoch: 61 | Epoch Time: 0m 0s\n",
      "\tTrain Loss: 1.066 | Train Acc: 59.97%\n",
      "\t Val. Loss: 1.120 |  Val. Acc: 54.40%\n",
      "Epoch: 62 | Epoch Time: 0m 0s\n",
      "\tTrain Loss: 0.979 | Train Acc: 63.39%\n",
      "\t Val. Loss: 1.053 |  Val. Acc: 59.63%\n",
      "Epoch: 63 | Epoch Time: 0m 0s\n",
      "\tTrain Loss: 0.942 | Train Acc: 64.92%\n",
      "\t Val. Loss: 1.072 |  Val. Acc: 58.07%\n",
      "Epoch: 64 | Epoch Time: 0m 0s\n",
      "\tTrain Loss: 0.943 | Train Acc: 65.06%\n",
      "\t Val. Loss: 1.052 |  Val. Acc: 58.07%\n",
      "Epoch: 65 | Epoch Time: 0m 0s\n",
      "\tTrain Loss: 0.897 | Train Acc: 66.80%\n",
      "\t Val. Loss: 0.974 |  Val. Acc: 61.28%\n",
      "Epoch: 66 | Epoch Time: 0m 0s\n",
      "\tTrain Loss: 0.852 | Train Acc: 69.49%\n",
      "\t Val. Loss: 0.962 |  Val. Acc: 62.02%\n",
      "Epoch: 67 | Epoch Time: 0m 0s\n",
      "\tTrain Loss: 0.823 | Train Acc: 70.24%\n",
      "\t Val. Loss: 0.966 |  Val. Acc: 63.49%\n",
      "Epoch: 68 | Epoch Time: 0m 0s\n",
      "\tTrain Loss: 0.805 | Train Acc: 71.37%\n",
      "\t Val. Loss: 0.929 |  Val. Acc: 64.59%\n",
      "Epoch: 69 | Epoch Time: 0m 0s\n",
      "\tTrain Loss: 1.015 | Train Acc: 65.45%\n",
      "\t Val. Loss: 0.938 |  Val. Acc: 65.41%\n",
      "Epoch: 70 | Epoch Time: 0m 0s\n",
      "\tTrain Loss: 0.788 | Train Acc: 72.70%\n",
      "\t Val. Loss: 0.924 |  Val. Acc: 64.59%\n",
      "Epoch: 71 | Epoch Time: 0m 0s\n",
      "\tTrain Loss: 0.760 | Train Acc: 73.06%\n",
      "\t Val. Loss: 0.893 |  Val. Acc: 67.71%\n",
      "Epoch: 72 | Epoch Time: 0m 0s\n",
      "\tTrain Loss: 0.741 | Train Acc: 74.53%\n",
      "\t Val. Loss: 0.887 |  Val. Acc: 68.53%\n",
      "Epoch: 73 | Epoch Time: 0m 0s\n",
      "\tTrain Loss: 0.716 | Train Acc: 75.58%\n",
      "\t Val. Loss: 0.921 |  Val. Acc: 65.23%\n",
      "Epoch: 74 | Epoch Time: 0m 0s\n",
      "\tTrain Loss: 0.687 | Train Acc: 76.39%\n",
      "\t Val. Loss: 0.904 |  Val. Acc: 66.51%\n",
      "Epoch: 75 | Epoch Time: 0m 0s\n",
      "\tTrain Loss: 0.733 | Train Acc: 74.99%\n",
      "\t Val. Loss: 0.866 |  Val. Acc: 68.99%\n",
      "Epoch: 76 | Epoch Time: 0m 0s\n",
      "\tTrain Loss: 0.791 | Train Acc: 72.28%\n",
      "\t Val. Loss: 1.087 |  Val. Acc: 58.81%\n"
     ]
    },
    {
     "name": "stdout",
     "output_type": "stream",
     "text": [
      "Epoch: 77 | Epoch Time: 0m 0s\n",
      "\tTrain Loss: 0.756 | Train Acc: 72.72%\n",
      "\t Val. Loss: 1.084 |  Val. Acc: 63.03%\n",
      "Epoch: 78 | Epoch Time: 0m 0s\n",
      "\tTrain Loss: 0.670 | Train Acc: 77.56%\n",
      "\t Val. Loss: 0.864 |  Val. Acc: 67.52%\n",
      "Epoch: 79 | Epoch Time: 0m 0s\n",
      "\tTrain Loss: 0.623 | Train Acc: 78.54%\n",
      "\t Val. Loss: 0.839 |  Val. Acc: 69.72%\n",
      "Epoch: 80 | Epoch Time: 0m 0s\n",
      "\tTrain Loss: 0.675 | Train Acc: 78.01%\n",
      "\t Val. Loss: 0.847 |  Val. Acc: 69.36%\n",
      "Epoch: 81 | Epoch Time: 0m 0s\n",
      "\tTrain Loss: 0.591 | Train Acc: 80.61%\n",
      "\t Val. Loss: 0.860 |  Val. Acc: 68.35%\n",
      "Epoch: 82 | Epoch Time: 0m 0s\n",
      "\tTrain Loss: 0.589 | Train Acc: 80.01%\n",
      "\t Val. Loss: 0.834 |  Val. Acc: 70.09%\n",
      "Epoch: 83 | Epoch Time: 0m 0s\n",
      "\tTrain Loss: 0.581 | Train Acc: 80.51%\n",
      "\t Val. Loss: 0.844 |  Val. Acc: 71.74%\n",
      "Epoch: 84 | Epoch Time: 0m 0s\n",
      "\tTrain Loss: 0.573 | Train Acc: 81.57%\n",
      "\t Val. Loss: 0.878 |  Val. Acc: 70.83%\n",
      "Epoch: 85 | Epoch Time: 0m 0s\n",
      "\tTrain Loss: 0.546 | Train Acc: 82.30%\n",
      "\t Val. Loss: 0.840 |  Val. Acc: 71.38%\n",
      "Epoch: 86 | Epoch Time: 0m 0s\n",
      "\tTrain Loss: 0.524 | Train Acc: 82.97%\n",
      "\t Val. Loss: 0.853 |  Val. Acc: 71.01%\n",
      "Epoch: 87 | Epoch Time: 0m 0s\n",
      "\tTrain Loss: 0.535 | Train Acc: 82.81%\n",
      "\t Val. Loss: 0.885 |  Val. Acc: 69.27%\n",
      "Epoch: 88 | Epoch Time: 0m 0s\n",
      "\tTrain Loss: 0.571 | Train Acc: 81.27%\n",
      "\t Val. Loss: 1.000 |  Val. Acc: 63.94%\n",
      "Epoch: 89 | Epoch Time: 0m 0s\n",
      "\tTrain Loss: 0.613 | Train Acc: 79.60%\n",
      "\t Val. Loss: 0.860 |  Val. Acc: 68.62%\n",
      "Epoch: 90 | Epoch Time: 0m 0s\n",
      "\tTrain Loss: 0.524 | Train Acc: 83.84%\n",
      "\t Val. Loss: 0.844 |  Val. Acc: 70.09%\n",
      "Epoch: 91 | Epoch Time: 0m 0s\n",
      "\tTrain Loss: 0.501 | Train Acc: 83.65%\n",
      "\t Val. Loss: 0.818 |  Val. Acc: 71.83%\n",
      "Epoch: 92 | Epoch Time: 0m 0s\n",
      "\tTrain Loss: 0.465 | Train Acc: 85.67%\n",
      "\t Val. Loss: 0.825 |  Val. Acc: 70.37%\n",
      "Epoch: 93 | Epoch Time: 0m 0s\n",
      "\tTrain Loss: 0.441 | Train Acc: 86.61%\n",
      "\t Val. Loss: 0.855 |  Val. Acc: 70.92%\n",
      "Epoch: 94 | Epoch Time: 0m 0s\n",
      "\tTrain Loss: 0.456 | Train Acc: 86.13%\n",
      "\t Val. Loss: 0.826 |  Val. Acc: 71.56%\n",
      "Epoch: 95 | Epoch Time: 0m 0s\n",
      "\tTrain Loss: 0.431 | Train Acc: 86.80%\n",
      "\t Val. Loss: 0.841 |  Val. Acc: 71.83%\n",
      "Epoch: 96 | Epoch Time: 0m 0s\n",
      "\tTrain Loss: 0.703 | Train Acc: 79.87%\n",
      "\t Val. Loss: 2.100 |  Val. Acc: 34.22%\n",
      "Epoch: 97 | Epoch Time: 0m 0s\n",
      "\tTrain Loss: 1.448 | Train Acc: 47.85%\n",
      "\t Val. Loss: 1.302 |  Val. Acc: 43.85%\n",
      "Epoch: 98 | Epoch Time: 0m 0s\n",
      "\tTrain Loss: 1.105 | Train Acc: 54.26%\n",
      "\t Val. Loss: 1.351 |  Val. Acc: 46.24%\n",
      "Epoch: 99 | Epoch Time: 0m 0s\n",
      "\tTrain Loss: 1.028 | Train Acc: 57.27%\n",
      "\t Val. Loss: 1.203 |  Val. Acc: 47.61%\n",
      "Epoch: 100 | Epoch Time: 0m 0s\n",
      "\tTrain Loss: 1.016 | Train Acc: 58.05%\n",
      "\t Val. Loss: 1.192 |  Val. Acc: 47.89%\n",
      "Epoch: 101 | Epoch Time: 0m 0s\n",
      "\tTrain Loss: 0.952 | Train Acc: 60.18%\n",
      "\t Val. Loss: 1.147 |  Val. Acc: 49.91%\n",
      "Epoch: 102 | Epoch Time: 0m 0s\n",
      "\tTrain Loss: 0.984 | Train Acc: 59.83%\n",
      "\t Val. Loss: 1.132 |  Val. Acc: 50.18%\n",
      "Epoch: 103 | Epoch Time: 0m 0s\n",
      "\tTrain Loss: 0.897 | Train Acc: 62.63%\n",
      "\t Val. Loss: 1.117 |  Val. Acc: 53.21%\n",
      "Epoch: 104 | Epoch Time: 0m 0s\n",
      "\tTrain Loss: 0.911 | Train Acc: 62.91%\n",
      "\t Val. Loss: 1.136 |  Val. Acc: 51.47%\n",
      "Epoch: 105 | Epoch Time: 0m 0s\n",
      "\tTrain Loss: 0.875 | Train Acc: 63.50%\n",
      "\t Val. Loss: 1.089 |  Val. Acc: 53.30%\n",
      "Epoch: 106 | Epoch Time: 0m 0s\n",
      "\tTrain Loss: 0.906 | Train Acc: 63.37%\n",
      "\t Val. Loss: 1.172 |  Val. Acc: 50.92%\n",
      "Epoch: 107 | Epoch Time: 0m 0s\n",
      "\tTrain Loss: 1.054 | Train Acc: 61.35%\n",
      "\t Val. Loss: 1.126 |  Val. Acc: 53.94%\n",
      "Epoch: 108 | Epoch Time: 0m 0s\n",
      "\tTrain Loss: 0.831 | Train Acc: 65.98%\n",
      "\t Val. Loss: 1.154 |  Val. Acc: 53.39%\n",
      "Epoch: 109 | Epoch Time: 0m 0s\n",
      "\tTrain Loss: 1.360 | Train Acc: 57.77%\n",
      "\t Val. Loss: 2.111 |  Val. Acc: 33.67%\n",
      "Epoch: 110 | Epoch Time: 0m 0s\n",
      "\tTrain Loss: 1.677 | Train Acc: 36.91%\n",
      "\t Val. Loss: 1.522 |  Val. Acc: 36.06%\n",
      "Epoch: 111 | Epoch Time: 0m 0s\n",
      "\tTrain Loss: 1.433 | Train Acc: 40.35%\n",
      "\t Val. Loss: 1.404 |  Val. Acc: 36.79%\n",
      "Epoch: 112 | Epoch Time: 0m 0s\n",
      "\tTrain Loss: 1.338 | Train Acc: 44.22%\n",
      "\t Val. Loss: 1.343 |  Val. Acc: 40.73%\n",
      "Epoch: 113 | Epoch Time: 0m 0s\n",
      "\tTrain Loss: 1.284 | Train Acc: 47.27%\n",
      "\t Val. Loss: 1.307 |  Val. Acc: 42.75%\n",
      "Epoch: 114 | Epoch Time: 0m 0s\n",
      "\tTrain Loss: 1.207 | Train Acc: 49.61%\n",
      "\t Val. Loss: 1.230 |  Val. Acc: 46.15%\n",
      "Epoch: 115 | Epoch Time: 0m 0s\n",
      "\tTrain Loss: 1.125 | Train Acc: 54.10%\n",
      "\t Val. Loss: 1.190 |  Val. Acc: 49.27%\n",
      "Epoch: 116 | Epoch Time: 0m 0s\n",
      "\tTrain Loss: 1.060 | Train Acc: 57.38%\n",
      "\t Val. Loss: 1.158 |  Val. Acc: 51.19%\n",
      "Epoch: 117 | Epoch Time: 0m 0s\n",
      "\tTrain Loss: 0.998 | Train Acc: 59.12%\n",
      "\t Val. Loss: 1.126 |  Val. Acc: 52.02%\n",
      "Epoch: 118 | Epoch Time: 0m 0s\n",
      "\tTrain Loss: 0.934 | Train Acc: 61.85%\n",
      "\t Val. Loss: 1.122 |  Val. Acc: 52.48%\n",
      "Epoch: 119 | Epoch Time: 0m 0s\n",
      "\tTrain Loss: 0.881 | Train Acc: 65.13%\n",
      "\t Val. Loss: 1.093 |  Val. Acc: 52.94%\n",
      "Epoch: 120 | Epoch Time: 0m 0s\n",
      "\tTrain Loss: 0.835 | Train Acc: 67.13%\n",
      "\t Val. Loss: 1.093 |  Val. Acc: 53.94%\n",
      "Epoch: 121 | Epoch Time: 0m 0s\n",
      "\tTrain Loss: 0.799 | Train Acc: 68.43%\n",
      "\t Val. Loss: 1.082 |  Val. Acc: 54.68%\n",
      "Epoch: 122 | Epoch Time: 0m 0s\n",
      "\tTrain Loss: 0.769 | Train Acc: 69.72%\n",
      "\t Val. Loss: 1.054 |  Val. Acc: 56.61%\n",
      "Epoch: 123 | Epoch Time: 0m 0s\n",
      "\tTrain Loss: 0.748 | Train Acc: 70.31%\n",
      "\t Val. Loss: 1.062 |  Val. Acc: 57.16%\n",
      "Epoch: 124 | Epoch Time: 0m 0s\n",
      "\tTrain Loss: 0.751 | Train Acc: 70.11%\n",
      "\t Val. Loss: 1.067 |  Val. Acc: 56.33%\n",
      "Epoch: 125 | Epoch Time: 0m 0s\n",
      "\tTrain Loss: 0.714 | Train Acc: 71.96%\n",
      "\t Val. Loss: 1.055 |  Val. Acc: 58.81%\n",
      "Epoch: 126 | Epoch Time: 0m 0s\n",
      "\tTrain Loss: 0.711 | Train Acc: 71.46%\n",
      "\t Val. Loss: 1.075 |  Val. Acc: 57.71%\n",
      "Epoch: 127 | Epoch Time: 0m 0s\n",
      "\tTrain Loss: 0.698 | Train Acc: 72.83%\n",
      "\t Val. Loss: 1.031 |  Val. Acc: 59.17%\n",
      "Epoch: 128 | Epoch Time: 0m 0s\n",
      "\tTrain Loss: 0.677 | Train Acc: 73.75%\n",
      "\t Val. Loss: 1.027 |  Val. Acc: 60.00%\n",
      "Epoch: 129 | Epoch Time: 0m 0s\n",
      "\tTrain Loss: 0.679 | Train Acc: 73.41%\n",
      "\t Val. Loss: 1.086 |  Val. Acc: 57.34%\n",
      "Epoch: 130 | Epoch Time: 0m 0s\n",
      "\tTrain Loss: 0.652 | Train Acc: 74.55%\n",
      "\t Val. Loss: 1.028 |  Val. Acc: 60.09%\n",
      "Epoch: 131 | Epoch Time: 0m 0s\n",
      "\tTrain Loss: 0.641 | Train Acc: 75.52%\n",
      "\t Val. Loss: 1.026 |  Val. Acc: 59.91%\n",
      "Epoch: 132 | Epoch Time: 0m 0s\n",
      "\tTrain Loss: 0.625 | Train Acc: 76.13%\n",
      "\t Val. Loss: 1.039 |  Val. Acc: 61.10%\n",
      "Epoch: 133 | Epoch Time: 0m 0s\n",
      "\tTrain Loss: 0.646 | Train Acc: 75.22%\n",
      "\t Val. Loss: 1.034 |  Val. Acc: 61.47%\n",
      "Epoch: 134 | Epoch Time: 0m 0s\n",
      "\tTrain Loss: 0.613 | Train Acc: 76.16%\n",
      "\t Val. Loss: 1.027 |  Val. Acc: 61.93%\n",
      "Epoch: 135 | Epoch Time: 0m 0s\n",
      "\tTrain Loss: 0.594 | Train Acc: 77.30%\n",
      "\t Val. Loss: 1.029 |  Val. Acc: 61.56%\n",
      "Epoch: 136 | Epoch Time: 0m 0s\n",
      "\tTrain Loss: 0.628 | Train Acc: 76.27%\n",
      "\t Val. Loss: 1.043 |  Val. Acc: 60.64%\n",
      "Epoch: 137 | Epoch Time: 0m 0s\n",
      "\tTrain Loss: 0.608 | Train Acc: 77.07%\n",
      "\t Val. Loss: 1.013 |  Val. Acc: 62.57%\n",
      "Epoch: 138 | Epoch Time: 0m 0s\n",
      "\tTrain Loss: 0.550 | Train Acc: 80.38%\n",
      "\t Val. Loss: 1.023 |  Val. Acc: 63.30%\n",
      "Epoch: 139 | Epoch Time: 0m 0s\n",
      "\tTrain Loss: 0.527 | Train Acc: 80.47%\n",
      "\t Val. Loss: 1.044 |  Val. Acc: 60.64%\n",
      "Epoch: 140 | Epoch Time: 0m 0s\n",
      "\tTrain Loss: 0.561 | Train Acc: 78.36%\n",
      "\t Val. Loss: 1.043 |  Val. Acc: 62.48%\n",
      "Epoch: 141 | Epoch Time: 0m 0s\n",
      "\tTrain Loss: 0.603 | Train Acc: 79.07%\n",
      "\t Val. Loss: 1.000 |  Val. Acc: 64.50%\n",
      "Epoch: 142 | Epoch Time: 0m 0s\n",
      "\tTrain Loss: 0.536 | Train Acc: 79.78%\n",
      "\t Val. Loss: 1.011 |  Val. Acc: 63.30%\n",
      "Epoch: 143 | Epoch Time: 0m 0s\n",
      "\tTrain Loss: 0.518 | Train Acc: 81.77%\n",
      "\t Val. Loss: 0.993 |  Val. Acc: 65.05%\n",
      "Epoch: 144 | Epoch Time: 0m 0s\n",
      "\tTrain Loss: 0.491 | Train Acc: 82.05%\n",
      "\t Val. Loss: 0.991 |  Val. Acc: 64.77%\n",
      "Epoch: 145 | Epoch Time: 0m 0s\n",
      "\tTrain Loss: 0.518 | Train Acc: 81.66%\n",
      "\t Val. Loss: 0.987 |  Val. Acc: 64.40%\n",
      "Epoch: 146 | Epoch Time: 0m 0s\n",
      "\tTrain Loss: 0.473 | Train Acc: 82.65%\n",
      "\t Val. Loss: 0.991 |  Val. Acc: 66.33%\n",
      "Epoch: 147 | Epoch Time: 0m 0s\n",
      "\tTrain Loss: 0.464 | Train Acc: 83.26%\n",
      "\t Val. Loss: 0.962 |  Val. Acc: 67.52%\n",
      "Epoch: 148 | Epoch Time: 0m 0s\n",
      "\tTrain Loss: 0.513 | Train Acc: 81.89%\n",
      "\t Val. Loss: 1.013 |  Val. Acc: 64.68%\n",
      "Epoch: 149 | Epoch Time: 0m 0s\n",
      "\tTrain Loss: 0.424 | Train Acc: 84.80%\n",
      "\t Val. Loss: 0.996 |  Val. Acc: 65.96%\n",
      "Epoch: 150 | Epoch Time: 0m 0s\n",
      "\tTrain Loss: 0.410 | Train Acc: 85.42%\n",
      "\t Val. Loss: 0.971 |  Val. Acc: 67.80%\n",
      "Epoch: 151 | Epoch Time: 0m 0s\n",
      "\tTrain Loss: 0.429 | Train Acc: 85.26%\n",
      "\t Val. Loss: 0.998 |  Val. Acc: 66.42%\n",
      "Epoch: 152 | Epoch Time: 0m 0s\n",
      "\tTrain Loss: 0.420 | Train Acc: 85.19%\n",
      "\t Val. Loss: 0.991 |  Val. Acc: 66.51%\n",
      "Epoch: 153 | Epoch Time: 0m 0s\n",
      "\tTrain Loss: 0.383 | Train Acc: 86.86%\n",
      "\t Val. Loss: 1.057 |  Val. Acc: 66.15%\n"
     ]
    },
    {
     "name": "stdout",
     "output_type": "stream",
     "text": [
      "Epoch: 154 | Epoch Time: 0m 0s\n",
      "\tTrain Loss: 0.360 | Train Acc: 87.87%\n",
      "\t Val. Loss: 1.014 |  Val. Acc: 67.16%\n",
      "Epoch: 155 | Epoch Time: 0m 0s\n",
      "\tTrain Loss: 0.437 | Train Acc: 85.14%\n",
      "\t Val. Loss: 0.976 |  Val. Acc: 68.44%\n",
      "Epoch: 156 | Epoch Time: 0m 0s\n",
      "\tTrain Loss: 0.351 | Train Acc: 88.47%\n",
      "\t Val. Loss: 1.331 |  Val. Acc: 59.36%\n",
      "Epoch: 157 | Epoch Time: 0m 0s\n",
      "\tTrain Loss: 0.445 | Train Acc: 83.81%\n",
      "\t Val. Loss: 1.396 |  Val. Acc: 59.27%\n",
      "Epoch: 158 | Epoch Time: 0m 0s\n",
      "\tTrain Loss: 0.358 | Train Acc: 88.22%\n",
      "\t Val. Loss: 1.148 |  Val. Acc: 64.40%\n",
      "Epoch: 159 | Epoch Time: 0m 0s\n",
      "\tTrain Loss: 0.329 | Train Acc: 89.04%\n",
      "\t Val. Loss: 1.006 |  Val. Acc: 68.26%\n",
      "Epoch: 160 | Epoch Time: 0m 0s\n",
      "\tTrain Loss: 0.318 | Train Acc: 89.98%\n",
      "\t Val. Loss: 1.217 |  Val. Acc: 65.69%\n",
      "Epoch: 161 | Epoch Time: 0m 0s\n",
      "\tTrain Loss: 0.343 | Train Acc: 89.48%\n",
      "\t Val. Loss: 1.040 |  Val. Acc: 66.79%\n",
      "Epoch: 162 | Epoch Time: 0m 0s\n",
      "\tTrain Loss: 0.555 | Train Acc: 83.56%\n",
      "\t Val. Loss: 1.228 |  Val. Acc: 61.93%\n",
      "Epoch: 163 | Epoch Time: 0m 0s\n",
      "\tTrain Loss: 0.522 | Train Acc: 82.49%\n",
      "\t Val. Loss: 0.985 |  Val. Acc: 68.17%\n",
      "Epoch: 164 | Epoch Time: 0m 0s\n",
      "\tTrain Loss: 0.333 | Train Acc: 88.93%\n",
      "\t Val. Loss: 0.999 |  Val. Acc: 68.99%\n",
      "Epoch: 165 | Epoch Time: 0m 0s\n",
      "\tTrain Loss: 0.323 | Train Acc: 89.61%\n",
      "\t Val. Loss: 1.019 |  Val. Acc: 68.62%\n",
      "Epoch: 166 | Epoch Time: 0m 0s\n",
      "\tTrain Loss: 0.323 | Train Acc: 89.91%\n",
      "\t Val. Loss: 0.989 |  Val. Acc: 69.82%\n",
      "Epoch: 167 | Epoch Time: 0m 0s\n",
      "\tTrain Loss: 0.279 | Train Acc: 91.61%\n",
      "\t Val. Loss: 0.965 |  Val. Acc: 70.92%\n",
      "Epoch: 168 | Epoch Time: 0m 0s\n",
      "\tTrain Loss: 0.310 | Train Acc: 90.14%\n",
      "\t Val. Loss: 1.005 |  Val. Acc: 69.17%\n",
      "Epoch: 169 | Epoch Time: 0m 0s\n",
      "\tTrain Loss: 0.306 | Train Acc: 90.19%\n",
      "\t Val. Loss: 1.190 |  Val. Acc: 67.34%\n",
      "Epoch: 170 | Epoch Time: 0m 0s\n",
      "\tTrain Loss: 0.260 | Train Acc: 92.80%\n",
      "\t Val. Loss: 1.753 |  Val. Acc: 57.43%\n",
      "Epoch: 171 | Epoch Time: 0m 0s\n",
      "\tTrain Loss: 0.264 | Train Acc: 91.72%\n",
      "\t Val. Loss: 1.000 |  Val. Acc: 70.55%\n",
      "Epoch: 172 | Epoch Time: 0m 0s\n",
      "\tTrain Loss: 0.239 | Train Acc: 93.31%\n",
      "\t Val. Loss: 1.009 |  Val. Acc: 70.92%\n",
      "Epoch: 173 | Epoch Time: 0m 0s\n",
      "\tTrain Loss: 0.229 | Train Acc: 93.54%\n",
      "\t Val. Loss: 1.049 |  Val. Acc: 71.19%\n",
      "Epoch: 174 | Epoch Time: 0m 0s\n",
      "\tTrain Loss: 0.234 | Train Acc: 93.37%\n",
      "\t Val. Loss: 1.029 |  Val. Acc: 71.19%\n",
      "Epoch: 175 | Epoch Time: 0m 0s\n",
      "\tTrain Loss: 0.340 | Train Acc: 92.64%\n",
      "\t Val. Loss: 1.154 |  Val. Acc: 68.26%\n",
      "Epoch: 176 | Epoch Time: 0m 0s\n",
      "\tTrain Loss: 0.283 | Train Acc: 92.09%\n",
      "\t Val. Loss: 1.090 |  Val. Acc: 67.71%\n",
      "Epoch: 177 | Epoch Time: 0m 0s\n",
      "\tTrain Loss: 0.222 | Train Acc: 93.86%\n",
      "\t Val. Loss: 1.032 |  Val. Acc: 70.46%\n",
      "Epoch: 178 | Epoch Time: 0m 0s\n",
      "\tTrain Loss: 0.191 | Train Acc: 95.30%\n",
      "\t Val. Loss: 1.052 |  Val. Acc: 71.38%\n",
      "Epoch: 179 | Epoch Time: 0m 0s\n",
      "\tTrain Loss: 0.204 | Train Acc: 94.61%\n",
      "\t Val. Loss: 1.069 |  Val. Acc: 70.92%\n",
      "Epoch: 180 | Epoch Time: 0m 0s\n",
      "\tTrain Loss: 0.271 | Train Acc: 92.11%\n",
      "\t Val. Loss: 1.033 |  Val. Acc: 71.38%\n",
      "Epoch: 181 | Epoch Time: 0m 0s\n",
      "\tTrain Loss: 0.272 | Train Acc: 93.31%\n",
      "\t Val. Loss: 1.509 |  Val. Acc: 63.49%\n",
      "Epoch: 182 | Epoch Time: 0m 0s\n",
      "\tTrain Loss: 0.233 | Train Acc: 93.19%\n",
      "\t Val. Loss: 1.057 |  Val. Acc: 70.83%\n",
      "Epoch: 183 | Epoch Time: 0m 0s\n",
      "\tTrain Loss: 0.172 | Train Acc: 96.01%\n",
      "\t Val. Loss: 1.053 |  Val. Acc: 71.74%\n",
      "Epoch: 184 | Epoch Time: 0m 0s\n",
      "\tTrain Loss: 0.174 | Train Acc: 95.83%\n",
      "\t Val. Loss: 1.133 |  Val. Acc: 70.55%\n",
      "Epoch: 185 | Epoch Time: 0m 0s\n",
      "\tTrain Loss: 0.165 | Train Acc: 95.76%\n",
      "\t Val. Loss: 1.123 |  Val. Acc: 71.01%\n",
      "Epoch: 186 | Epoch Time: 0m 0s\n",
      "\tTrain Loss: 0.162 | Train Acc: 96.10%\n",
      "\t Val. Loss: 1.217 |  Val. Acc: 70.28%\n",
      "Epoch: 187 | Epoch Time: 0m 0s\n",
      "\tTrain Loss: 0.157 | Train Acc: 96.15%\n",
      "\t Val. Loss: 1.116 |  Val. Acc: 72.11%\n",
      "Epoch: 188 | Epoch Time: 0m 0s\n",
      "\tTrain Loss: 0.140 | Train Acc: 96.95%\n",
      "\t Val. Loss: 1.118 |  Val. Acc: 71.74%\n",
      "Epoch: 189 | Epoch Time: 0m 0s\n",
      "\tTrain Loss: 0.141 | Train Acc: 96.84%\n",
      "\t Val. Loss: 1.127 |  Val. Acc: 71.47%\n",
      "Epoch: 190 | Epoch Time: 0m 0s\n",
      "\tTrain Loss: 0.144 | Train Acc: 96.61%\n",
      "\t Val. Loss: 1.082 |  Val. Acc: 72.48%\n",
      "Epoch: 191 | Epoch Time: 0m 0s\n",
      "\tTrain Loss: 0.132 | Train Acc: 97.23%\n",
      "\t Val. Loss: 1.111 |  Val. Acc: 71.65%\n",
      "Epoch: 192 | Epoch Time: 0m 0s\n",
      "\tTrain Loss: 0.177 | Train Acc: 96.03%\n",
      "\t Val. Loss: 1.449 |  Val. Acc: 67.25%\n",
      "Epoch: 193 | Epoch Time: 0m 0s\n",
      "\tTrain Loss: 0.337 | Train Acc: 90.69%\n",
      "\t Val. Loss: 1.128 |  Val. Acc: 71.56%\n",
      "Epoch: 194 | Epoch Time: 0m 0s\n",
      "\tTrain Loss: 0.289 | Train Acc: 91.33%\n",
      "\t Val. Loss: 1.097 |  Val. Acc: 71.28%\n",
      "Epoch: 195 | Epoch Time: 0m 0s\n",
      "\tTrain Loss: 0.170 | Train Acc: 95.62%\n",
      "\t Val. Loss: 1.080 |  Val. Acc: 72.84%\n",
      "Epoch: 196 | Epoch Time: 0m 0s\n",
      "\tTrain Loss: 0.189 | Train Acc: 94.73%\n",
      "\t Val. Loss: 1.033 |  Val. Acc: 72.02%\n",
      "Epoch: 197 | Epoch Time: 0m 0s\n",
      "\tTrain Loss: 0.145 | Train Acc: 96.45%\n",
      "\t Val. Loss: 1.058 |  Val. Acc: 72.02%\n",
      "Epoch: 198 | Epoch Time: 0m 0s\n",
      "\tTrain Loss: 0.147 | Train Acc: 96.29%\n",
      "\t Val. Loss: 1.079 |  Val. Acc: 72.57%\n",
      "Epoch: 199 | Epoch Time: 0m 0s\n",
      "\tTrain Loss: 0.121 | Train Acc: 97.46%\n",
      "\t Val. Loss: 1.060 |  Val. Acc: 72.84%\n",
      "Epoch: 200 | Epoch Time: 0m 0s\n",
      "\tTrain Loss: 0.110 | Train Acc: 97.78%\n",
      "\t Val. Loss: 1.079 |  Val. Acc: 73.30%\n",
      "Epoch: 201 | Epoch Time: 0m 0s\n",
      "\tTrain Loss: 0.107 | Train Acc: 97.91%\n",
      "\t Val. Loss: 1.103 |  Val. Acc: 73.21%\n",
      "Epoch: 202 | Epoch Time: 0m 0s\n",
      "\tTrain Loss: 0.136 | Train Acc: 96.93%\n",
      "\t Val. Loss: 1.096 |  Val. Acc: 72.02%\n",
      "Epoch: 203 | Epoch Time: 0m 0s\n",
      "\tTrain Loss: 0.320 | Train Acc: 90.14%\n",
      "\t Val. Loss: 1.154 |  Val. Acc: 71.56%\n",
      "Epoch: 204 | Epoch Time: 0m 0s\n",
      "\tTrain Loss: 0.120 | Train Acc: 97.46%\n",
      "\t Val. Loss: 1.094 |  Val. Acc: 72.57%\n",
      "Epoch: 205 | Epoch Time: 0m 0s\n",
      "\tTrain Loss: 0.106 | Train Acc: 97.85%\n",
      "\t Val. Loss: 1.107 |  Val. Acc: 73.03%\n",
      "Epoch: 206 | Epoch Time: 0m 0s\n",
      "\tTrain Loss: 0.096 | Train Acc: 98.05%\n",
      "\t Val. Loss: 1.124 |  Val. Acc: 72.20%\n",
      "Epoch: 207 | Epoch Time: 0m 0s\n",
      "\tTrain Loss: 0.099 | Train Acc: 97.98%\n",
      "\t Val. Loss: 1.165 |  Val. Acc: 71.74%\n",
      "Epoch: 208 | Epoch Time: 0m 0s\n",
      "\tTrain Loss: 0.095 | Train Acc: 98.23%\n",
      "\t Val. Loss: 1.129 |  Val. Acc: 72.94%\n",
      "Epoch: 209 | Epoch Time: 0m 0s\n",
      "\tTrain Loss: 0.090 | Train Acc: 98.23%\n",
      "\t Val. Loss: 1.713 |  Val. Acc: 68.17%\n",
      "Epoch: 210 | Epoch Time: 0m 0s\n",
      "\tTrain Loss: 0.110 | Train Acc: 97.48%\n",
      "\t Val. Loss: 1.184 |  Val. Acc: 71.93%\n",
      "Epoch: 211 | Epoch Time: 0m 0s\n",
      "\tTrain Loss: 0.085 | Train Acc: 98.49%\n",
      "\t Val. Loss: 1.171 |  Val. Acc: 72.39%\n",
      "Epoch: 212 | Epoch Time: 0m 0s\n",
      "\tTrain Loss: 0.081 | Train Acc: 98.49%\n",
      "\t Val. Loss: 1.175 |  Val. Acc: 72.75%\n",
      "Epoch: 213 | Epoch Time: 0m 0s\n",
      "\tTrain Loss: 0.077 | Train Acc: 98.53%\n",
      "\t Val. Loss: 1.161 |  Val. Acc: 72.84%\n",
      "Epoch: 214 | Epoch Time: 0m 0s\n",
      "\tTrain Loss: 0.076 | Train Acc: 98.60%\n",
      "\t Val. Loss: 1.209 |  Val. Acc: 73.49%\n",
      "Epoch: 215 | Epoch Time: 0m 0s\n",
      "\tTrain Loss: 0.076 | Train Acc: 98.74%\n",
      "\t Val. Loss: 1.177 |  Val. Acc: 72.94%\n",
      "Epoch: 216 | Epoch Time: 0m 0s\n",
      "\tTrain Loss: 0.074 | Train Acc: 98.72%\n",
      "\t Val. Loss: 1.210 |  Val. Acc: 72.94%\n",
      "Epoch: 217 | Epoch Time: 0m 0s\n",
      "\tTrain Loss: 0.072 | Train Acc: 98.62%\n",
      "\t Val. Loss: 1.175 |  Val. Acc: 73.03%\n",
      "Epoch: 218 | Epoch Time: 0m 0s\n",
      "\tTrain Loss: 0.069 | Train Acc: 98.85%\n",
      "\t Val. Loss: 1.198 |  Val. Acc: 72.84%\n",
      "Epoch: 219 | Epoch Time: 0m 0s\n",
      "\tTrain Loss: 0.067 | Train Acc: 98.90%\n",
      "\t Val. Loss: 1.197 |  Val. Acc: 73.12%\n",
      "Epoch: 220 | Epoch Time: 0m 0s\n",
      "\tTrain Loss: 0.067 | Train Acc: 98.83%\n",
      "\t Val. Loss: 1.207 |  Val. Acc: 73.39%\n",
      "Epoch: 221 | Epoch Time: 0m 0s\n",
      "\tTrain Loss: 0.065 | Train Acc: 98.90%\n",
      "\t Val. Loss: 1.192 |  Val. Acc: 73.85%\n",
      "Epoch: 222 | Epoch Time: 0m 0s\n",
      "\tTrain Loss: 0.067 | Train Acc: 98.72%\n",
      "\t Val. Loss: 1.205 |  Val. Acc: 73.85%\n",
      "Epoch: 223 | Epoch Time: 0m 0s\n",
      "\tTrain Loss: 0.158 | Train Acc: 96.38%\n",
      "\t Val. Loss: 1.454 |  Val. Acc: 68.35%\n",
      "Epoch: 224 | Epoch Time: 0m 0s\n",
      "\tTrain Loss: 0.212 | Train Acc: 94.68%\n",
      "\t Val. Loss: 1.204 |  Val. Acc: 72.20%\n",
      "Epoch: 225 | Epoch Time: 0m 0s\n",
      "\tTrain Loss: 0.099 | Train Acc: 97.82%\n",
      "\t Val. Loss: 1.224 |  Val. Acc: 72.66%\n",
      "Epoch: 226 | Epoch Time: 0m 0s\n",
      "\tTrain Loss: 0.084 | Train Acc: 98.12%\n",
      "\t Val. Loss: 1.197 |  Val. Acc: 73.12%\n",
      "Epoch: 227 | Epoch Time: 0m 0s\n",
      "\tTrain Loss: 0.071 | Train Acc: 98.69%\n",
      "\t Val. Loss: 1.197 |  Val. Acc: 73.21%\n",
      "Epoch: 228 | Epoch Time: 0m 0s\n",
      "\tTrain Loss: 0.063 | Train Acc: 98.92%\n",
      "\t Val. Loss: 1.204 |  Val. Acc: 73.76%\n",
      "Epoch: 229 | Epoch Time: 0m 0s\n",
      "\tTrain Loss: 0.060 | Train Acc: 98.99%\n",
      "\t Val. Loss: 1.203 |  Val. Acc: 73.76%\n"
     ]
    },
    {
     "name": "stdout",
     "output_type": "stream",
     "text": [
      "Epoch: 230 | Epoch Time: 0m 0s\n",
      "\tTrain Loss: 0.058 | Train Acc: 99.06%\n",
      "\t Val. Loss: 1.228 |  Val. Acc: 73.49%\n",
      "Epoch: 231 | Epoch Time: 0m 0s\n",
      "\tTrain Loss: 0.056 | Train Acc: 99.04%\n",
      "\t Val. Loss: 1.212 |  Val. Acc: 73.67%\n",
      "Epoch: 232 | Epoch Time: 0m 0s\n",
      "\tTrain Loss: 0.138 | Train Acc: 95.80%\n",
      "\t Val. Loss: 1.222 |  Val. Acc: 73.12%\n",
      "Epoch: 233 | Epoch Time: 0m 0s\n",
      "\tTrain Loss: 0.085 | Train Acc: 98.01%\n",
      "\t Val. Loss: 1.181 |  Val. Acc: 73.85%\n",
      "Epoch: 234 | Epoch Time: 0m 0s\n",
      "\tTrain Loss: 0.099 | Train Acc: 97.57%\n",
      "\t Val. Loss: 1.179 |  Val. Acc: 74.31%\n",
      "Epoch: 235 | Epoch Time: 0m 0s\n",
      "\tTrain Loss: 0.065 | Train Acc: 98.67%\n",
      "\t Val. Loss: 1.200 |  Val. Acc: 73.67%\n",
      "Epoch: 236 | Epoch Time: 0m 0s\n",
      "\tTrain Loss: 0.059 | Train Acc: 98.92%\n",
      "\t Val. Loss: 1.197 |  Val. Acc: 74.68%\n",
      "Epoch: 237 | Epoch Time: 0m 0s\n",
      "\tTrain Loss: 0.054 | Train Acc: 99.06%\n",
      "\t Val. Loss: 1.223 |  Val. Acc: 73.49%\n",
      "Epoch: 238 | Epoch Time: 0m 0s\n",
      "\tTrain Loss: 0.051 | Train Acc: 99.11%\n",
      "\t Val. Loss: 1.204 |  Val. Acc: 73.67%\n",
      "Epoch: 239 | Epoch Time: 0m 0s\n",
      "\tTrain Loss: 0.048 | Train Acc: 99.13%\n",
      "\t Val. Loss: 1.209 |  Val. Acc: 74.04%\n",
      "Epoch: 240 | Epoch Time: 0m 0s\n",
      "\tTrain Loss: 0.048 | Train Acc: 99.22%\n",
      "\t Val. Loss: 1.219 |  Val. Acc: 74.31%\n",
      "Epoch: 241 | Epoch Time: 0m 0s\n",
      "\tTrain Loss: 0.047 | Train Acc: 99.20%\n",
      "\t Val. Loss: 1.217 |  Val. Acc: 74.40%\n",
      "Epoch: 242 | Epoch Time: 0m 0s\n",
      "\tTrain Loss: 0.044 | Train Acc: 99.34%\n",
      "\t Val. Loss: 1.242 |  Val. Acc: 73.76%\n",
      "Epoch: 243 | Epoch Time: 0m 0s\n",
      "\tTrain Loss: 0.045 | Train Acc: 99.29%\n",
      "\t Val. Loss: 1.446 |  Val. Acc: 74.04%\n",
      "Epoch: 244 | Epoch Time: 0m 0s\n",
      "\tTrain Loss: 0.126 | Train Acc: 96.93%\n",
      "\t Val. Loss: 1.411 |  Val. Acc: 72.75%\n",
      "Epoch: 245 | Epoch Time: 0m 0s\n",
      "\tTrain Loss: 0.087 | Train Acc: 97.85%\n",
      "\t Val. Loss: 1.246 |  Val. Acc: 73.94%\n",
      "Epoch: 246 | Epoch Time: 0m 0s\n",
      "\tTrain Loss: 0.158 | Train Acc: 95.74%\n",
      "\t Val. Loss: 1.278 |  Val. Acc: 73.85%\n",
      "Epoch: 247 | Epoch Time: 0m 0s\n",
      "\tTrain Loss: 0.095 | Train Acc: 97.71%\n",
      "\t Val. Loss: 1.237 |  Val. Acc: 74.13%\n",
      "Epoch: 248 | Epoch Time: 0m 0s\n",
      "\tTrain Loss: 0.054 | Train Acc: 99.06%\n",
      "\t Val. Loss: 1.248 |  Val. Acc: 74.50%\n",
      "Epoch: 249 | Epoch Time: 0m 0s\n",
      "\tTrain Loss: 0.054 | Train Acc: 99.01%\n",
      "\t Val. Loss: 1.225 |  Val. Acc: 73.67%\n",
      "Epoch: 250 | Epoch Time: 0m 0s\n",
      "\tTrain Loss: 0.093 | Train Acc: 98.28%\n",
      "\t Val. Loss: 1.273 |  Val. Acc: 73.03%\n",
      "Epoch: 251 | Epoch Time: 0m 0s\n",
      "\tTrain Loss: 0.048 | Train Acc: 99.20%\n",
      "\t Val. Loss: 1.252 |  Val. Acc: 73.39%\n",
      "Epoch: 252 | Epoch Time: 0m 0s\n",
      "\tTrain Loss: 0.047 | Train Acc: 99.27%\n",
      "\t Val. Loss: 1.259 |  Val. Acc: 73.67%\n",
      "Epoch: 253 | Epoch Time: 0m 0s\n",
      "\tTrain Loss: 0.042 | Train Acc: 99.36%\n",
      "\t Val. Loss: 1.269 |  Val. Acc: 73.39%\n",
      "Epoch: 254 | Epoch Time: 0m 0s\n",
      "\tTrain Loss: 0.041 | Train Acc: 99.45%\n",
      "\t Val. Loss: 1.271 |  Val. Acc: 73.94%\n",
      "Epoch: 255 | Epoch Time: 0m 0s\n",
      "\tTrain Loss: 0.039 | Train Acc: 99.45%\n",
      "\t Val. Loss: 1.272 |  Val. Acc: 74.22%\n",
      "Epoch: 256 | Epoch Time: 0m 0s\n",
      "\tTrain Loss: 0.037 | Train Acc: 99.45%\n",
      "\t Val. Loss: 1.295 |  Val. Acc: 74.13%\n",
      "Epoch: 257 | Epoch Time: 0m 0s\n",
      "\tTrain Loss: 0.036 | Train Acc: 99.47%\n",
      "\t Val. Loss: 1.301 |  Val. Acc: 73.58%\n",
      "Epoch: 258 | Epoch Time: 0m 0s\n",
      "\tTrain Loss: 0.035 | Train Acc: 99.47%\n",
      "\t Val. Loss: 1.303 |  Val. Acc: 74.04%\n",
      "Epoch: 259 | Epoch Time: 0m 0s\n",
      "\tTrain Loss: 0.034 | Train Acc: 99.52%\n",
      "\t Val. Loss: 1.310 |  Val. Acc: 73.67%\n",
      "Epoch: 260 | Epoch Time: 0m 0s\n",
      "\tTrain Loss: 0.033 | Train Acc: 99.52%\n",
      "\t Val. Loss: 1.311 |  Val. Acc: 74.04%\n",
      "Epoch: 261 | Epoch Time: 0m 0s\n",
      "\tTrain Loss: 0.033 | Train Acc: 99.59%\n",
      "\t Val. Loss: 1.309 |  Val. Acc: 74.13%\n",
      "Epoch: 262 | Epoch Time: 0m 0s\n",
      "\tTrain Loss: 0.032 | Train Acc: 99.54%\n",
      "\t Val. Loss: 1.312 |  Val. Acc: 74.04%\n",
      "Epoch: 263 | Epoch Time: 0m 0s\n",
      "\tTrain Loss: 0.031 | Train Acc: 99.61%\n",
      "\t Val. Loss: 1.320 |  Val. Acc: 74.04%\n",
      "Epoch: 264 | Epoch Time: 0m 0s\n",
      "\tTrain Loss: 0.031 | Train Acc: 99.66%\n",
      "\t Val. Loss: 1.337 |  Val. Acc: 74.13%\n",
      "Epoch: 265 | Epoch Time: 0m 0s\n",
      "\tTrain Loss: 0.031 | Train Acc: 99.63%\n",
      "\t Val. Loss: 1.327 |  Val. Acc: 74.22%\n",
      "Epoch: 266 | Epoch Time: 0m 0s\n",
      "\tTrain Loss: 0.031 | Train Acc: 99.59%\n",
      "\t Val. Loss: 1.333 |  Val. Acc: 74.13%\n",
      "Epoch: 267 | Epoch Time: 0m 0s\n",
      "\tTrain Loss: 0.030 | Train Acc: 99.66%\n",
      "\t Val. Loss: 1.331 |  Val. Acc: 74.31%\n",
      "Epoch: 268 | Epoch Time: 0m 0s\n",
      "\tTrain Loss: 0.030 | Train Acc: 99.63%\n",
      "\t Val. Loss: 1.345 |  Val. Acc: 73.85%\n",
      "Epoch: 269 | Epoch Time: 0m 0s\n",
      "\tTrain Loss: 0.029 | Train Acc: 99.66%\n",
      "\t Val. Loss: 1.507 |  Val. Acc: 74.50%\n",
      "Epoch: 270 | Epoch Time: 0m 0s\n",
      "\tTrain Loss: 0.029 | Train Acc: 99.66%\n",
      "\t Val. Loss: 1.577 |  Val. Acc: 74.13%\n",
      "Epoch: 271 | Epoch Time: 0m 0s\n",
      "\tTrain Loss: 0.028 | Train Acc: 99.72%\n",
      "\t Val. Loss: 1.564 |  Val. Acc: 74.04%\n",
      "Epoch: 272 | Epoch Time: 0m 0s\n",
      "\tTrain Loss: 0.027 | Train Acc: 99.75%\n",
      "\t Val. Loss: 1.574 |  Val. Acc: 74.13%\n",
      "Epoch: 273 | Epoch Time: 0m 0s\n",
      "\tTrain Loss: 0.030 | Train Acc: 99.66%\n",
      "\t Val. Loss: 1.445 |  Val. Acc: 74.31%\n",
      "Epoch: 274 | Epoch Time: 0m 0s\n",
      "\tTrain Loss: 0.027 | Train Acc: 99.75%\n",
      "\t Val. Loss: 1.577 |  Val. Acc: 74.31%\n",
      "Epoch: 275 | Epoch Time: 0m 0s\n",
      "\tTrain Loss: 0.027 | Train Acc: 99.72%\n",
      "\t Val. Loss: 1.635 |  Val. Acc: 74.31%\n",
      "Epoch: 276 | Epoch Time: 0m 0s\n",
      "\tTrain Loss: 0.027 | Train Acc: 99.72%\n",
      "\t Val. Loss: 1.615 |  Val. Acc: 74.04%\n",
      "Epoch: 277 | Epoch Time: 0m 0s\n",
      "\tTrain Loss: 0.026 | Train Acc: 99.77%\n",
      "\t Val. Loss: 1.466 |  Val. Acc: 74.31%\n",
      "Epoch: 278 | Epoch Time: 0m 0s\n",
      "\tTrain Loss: 0.026 | Train Acc: 99.75%\n",
      "\t Val. Loss: 1.561 |  Val. Acc: 74.40%\n",
      "Epoch: 279 | Epoch Time: 0m 0s\n",
      "\tTrain Loss: 0.026 | Train Acc: 99.75%\n",
      "\t Val. Loss: 1.649 |  Val. Acc: 73.94%\n",
      "Epoch: 280 | Epoch Time: 0m 0s\n",
      "\tTrain Loss: 0.025 | Train Acc: 99.68%\n",
      "\t Val. Loss: 1.641 |  Val. Acc: 73.85%\n",
      "Epoch: 281 | Epoch Time: 0m 0s\n",
      "\tTrain Loss: 0.026 | Train Acc: 99.75%\n",
      "\t Val. Loss: 1.657 |  Val. Acc: 74.40%\n",
      "Epoch: 282 | Epoch Time: 0m 0s\n",
      "\tTrain Loss: 0.025 | Train Acc: 99.75%\n",
      "\t Val. Loss: 1.626 |  Val. Acc: 73.67%\n",
      "Epoch: 283 | Epoch Time: 0m 0s\n",
      "\tTrain Loss: 0.025 | Train Acc: 99.72%\n",
      "\t Val. Loss: 1.654 |  Val. Acc: 74.22%\n",
      "Epoch: 284 | Epoch Time: 0m 0s\n",
      "\tTrain Loss: 0.025 | Train Acc: 99.72%\n",
      "\t Val. Loss: 1.693 |  Val. Acc: 73.58%\n",
      "Epoch: 285 | Epoch Time: 0m 0s\n",
      "\tTrain Loss: 0.036 | Train Acc: 99.27%\n",
      "\t Val. Loss: 1.508 |  Val. Acc: 74.22%\n",
      "Epoch: 286 | Epoch Time: 0m 0s\n",
      "\tTrain Loss: 0.039 | Train Acc: 99.40%\n",
      "\t Val. Loss: 1.689 |  Val. Acc: 73.85%\n",
      "Epoch: 287 | Epoch Time: 0m 0s\n",
      "\tTrain Loss: 0.218 | Train Acc: 95.80%\n",
      "\t Val. Loss: 1.431 |  Val. Acc: 71.74%\n",
      "Epoch: 288 | Epoch Time: 0m 0s\n",
      "\tTrain Loss: 0.083 | Train Acc: 97.96%\n",
      "\t Val. Loss: 1.353 |  Val. Acc: 72.94%\n",
      "Epoch: 289 | Epoch Time: 0m 0s\n",
      "\tTrain Loss: 0.058 | Train Acc: 98.67%\n",
      "\t Val. Loss: 1.421 |  Val. Acc: 72.48%\n",
      "Epoch: 290 | Epoch Time: 0m 0s\n",
      "\tTrain Loss: 0.993 | Train Acc: 75.26%\n",
      "\t Val. Loss: 1.428 |  Val. Acc: 63.03%\n",
      "Epoch: 291 | Epoch Time: 0m 0s\n",
      "\tTrain Loss: 0.578 | Train Acc: 82.67%\n",
      "\t Val. Loss: 1.494 |  Val. Acc: 63.49%\n",
      "Epoch: 292 | Epoch Time: 0m 0s\n",
      "\tTrain Loss: 0.417 | Train Acc: 86.63%\n",
      "\t Val. Loss: 1.211 |  Val. Acc: 69.45%\n",
      "Epoch: 293 | Epoch Time: 0m 0s\n",
      "\tTrain Loss: 0.281 | Train Acc: 91.56%\n",
      "\t Val. Loss: 1.220 |  Val. Acc: 70.92%\n",
      "Epoch: 294 | Epoch Time: 0m 0s\n",
      "\tTrain Loss: 0.195 | Train Acc: 93.88%\n",
      "\t Val. Loss: 1.194 |  Val. Acc: 70.83%\n",
      "Epoch: 295 | Epoch Time: 0m 0s\n",
      "\tTrain Loss: 0.136 | Train Acc: 96.54%\n",
      "\t Val. Loss: 1.202 |  Val. Acc: 72.66%\n",
      "Epoch: 296 | Epoch Time: 0m 0s\n",
      "\tTrain Loss: 0.103 | Train Acc: 97.68%\n",
      "\t Val. Loss: 1.208 |  Val. Acc: 72.48%\n",
      "Epoch: 297 | Epoch Time: 0m 0s\n",
      "\tTrain Loss: 0.081 | Train Acc: 98.28%\n",
      "\t Val. Loss: 1.222 |  Val. Acc: 72.66%\n",
      "Epoch: 298 | Epoch Time: 0m 0s\n",
      "\tTrain Loss: 0.066 | Train Acc: 98.83%\n",
      "\t Val. Loss: 1.248 |  Val. Acc: 72.57%\n",
      "Epoch: 299 | Epoch Time: 0m 0s\n",
      "\tTrain Loss: 0.055 | Train Acc: 99.15%\n",
      "\t Val. Loss: 1.270 |  Val. Acc: 72.11%\n",
      "Epoch: 300 | Epoch Time: 0m 0s\n",
      "\tTrain Loss: 0.114 | Train Acc: 97.13%\n",
      "\t Val. Loss: 1.443 |  Val. Acc: 70.55%\n",
      "Epoch: 301 | Epoch Time: 0m 0s\n",
      "\tTrain Loss: 0.096 | Train Acc: 97.46%\n",
      "\t Val. Loss: 1.268 |  Val. Acc: 73.03%\n",
      "Epoch: 302 | Epoch Time: 0m 0s\n",
      "\tTrain Loss: 0.051 | Train Acc: 99.20%\n",
      "\t Val. Loss: 1.284 |  Val. Acc: 73.30%\n",
      "Epoch: 303 | Epoch Time: 0m 0s\n",
      "\tTrain Loss: 0.044 | Train Acc: 99.45%\n",
      "\t Val. Loss: 1.297 |  Val. Acc: 72.39%\n",
      "Epoch: 304 | Epoch Time: 0m 0s\n",
      "\tTrain Loss: 0.046 | Train Acc: 99.22%\n",
      "\t Val. Loss: 1.304 |  Val. Acc: 71.93%\n",
      "Epoch: 305 | Epoch Time: 0m 0s\n",
      "\tTrain Loss: 0.049 | Train Acc: 99.06%\n",
      "\t Val. Loss: 1.315 |  Val. Acc: 72.48%\n",
      "Epoch: 306 | Epoch Time: 0m 0s\n",
      "\tTrain Loss: 0.040 | Train Acc: 99.38%\n",
      "\t Val. Loss: 1.317 |  Val. Acc: 72.75%\n"
     ]
    },
    {
     "name": "stdout",
     "output_type": "stream",
     "text": [
      "Epoch: 307 | Epoch Time: 0m 0s\n",
      "\tTrain Loss: 0.081 | Train Acc: 98.14%\n",
      "\t Val. Loss: 1.319 |  Val. Acc: 72.20%\n",
      "Epoch: 308 | Epoch Time: 0m 0s\n",
      "\tTrain Loss: 0.061 | Train Acc: 98.44%\n",
      "\t Val. Loss: 1.312 |  Val. Acc: 73.21%\n",
      "Epoch: 309 | Epoch Time: 0m 0s\n",
      "\tTrain Loss: 0.050 | Train Acc: 99.06%\n",
      "\t Val. Loss: 1.325 |  Val. Acc: 73.30%\n",
      "Epoch: 310 | Epoch Time: 0m 0s\n",
      "\tTrain Loss: 0.038 | Train Acc: 99.56%\n",
      "\t Val. Loss: 1.321 |  Val. Acc: 73.49%\n",
      "Epoch: 311 | Epoch Time: 0m 0s\n",
      "\tTrain Loss: 0.155 | Train Acc: 97.00%\n",
      "\t Val. Loss: 1.796 |  Val. Acc: 65.60%\n",
      "Epoch: 312 | Epoch Time: 0m 0s\n",
      "\tTrain Loss: 0.417 | Train Acc: 90.53%\n",
      "\t Val. Loss: 1.299 |  Val. Acc: 70.92%\n",
      "Epoch: 313 | Epoch Time: 0m 0s\n",
      "\tTrain Loss: 0.445 | Train Acc: 87.44%\n",
      "\t Val. Loss: 1.184 |  Val. Acc: 72.29%\n",
      "Epoch: 314 | Epoch Time: 0m 0s\n",
      "\tTrain Loss: 0.163 | Train Acc: 95.78%\n",
      "\t Val. Loss: 1.172 |  Val. Acc: 72.29%\n",
      "Epoch: 315 | Epoch Time: 0m 0s\n",
      "\tTrain Loss: 0.095 | Train Acc: 97.68%\n",
      "\t Val. Loss: 1.164 |  Val. Acc: 72.94%\n",
      "Epoch: 316 | Epoch Time: 0m 0s\n",
      "\tTrain Loss: 0.065 | Train Acc: 98.76%\n",
      "\t Val. Loss: 1.180 |  Val. Acc: 73.30%\n",
      "Epoch: 317 | Epoch Time: 0m 0s\n",
      "\tTrain Loss: 0.050 | Train Acc: 99.15%\n",
      "\t Val. Loss: 1.219 |  Val. Acc: 73.21%\n",
      "Epoch: 318 | Epoch Time: 0m 0s\n",
      "\tTrain Loss: 0.042 | Train Acc: 99.50%\n",
      "\t Val. Loss: 1.213 |  Val. Acc: 73.39%\n",
      "Epoch: 319 | Epoch Time: 0m 0s\n",
      "\tTrain Loss: 0.039 | Train Acc: 99.56%\n",
      "\t Val. Loss: 1.228 |  Val. Acc: 73.49%\n",
      "Epoch: 320 | Epoch Time: 0m 0s\n",
      "\tTrain Loss: 0.037 | Train Acc: 99.61%\n",
      "\t Val. Loss: 1.223 |  Val. Acc: 73.76%\n",
      "Epoch: 321 | Epoch Time: 0m 0s\n",
      "\tTrain Loss: 0.036 | Train Acc: 99.61%\n",
      "\t Val. Loss: 1.237 |  Val. Acc: 73.39%\n",
      "Epoch: 322 | Epoch Time: 0m 0s\n",
      "\tTrain Loss: 0.034 | Train Acc: 99.61%\n",
      "\t Val. Loss: 1.244 |  Val. Acc: 73.67%\n",
      "Epoch: 323 | Epoch Time: 0m 0s\n",
      "\tTrain Loss: 0.033 | Train Acc: 99.66%\n",
      "\t Val. Loss: 1.257 |  Val. Acc: 73.76%\n",
      "Epoch: 324 | Epoch Time: 0m 0s\n",
      "\tTrain Loss: 0.032 | Train Acc: 99.70%\n",
      "\t Val. Loss: 1.252 |  Val. Acc: 73.76%\n",
      "Epoch: 325 | Epoch Time: 0m 0s\n",
      "\tTrain Loss: 0.032 | Train Acc: 99.63%\n",
      "\t Val. Loss: 1.256 |  Val. Acc: 73.39%\n",
      "Epoch: 326 | Epoch Time: 0m 0s\n",
      "\tTrain Loss: 0.031 | Train Acc: 99.70%\n",
      "\t Val. Loss: 1.263 |  Val. Acc: 73.30%\n",
      "Epoch: 327 | Epoch Time: 0m 0s\n",
      "\tTrain Loss: 0.030 | Train Acc: 99.68%\n",
      "\t Val. Loss: 1.269 |  Val. Acc: 73.03%\n",
      "Epoch: 328 | Epoch Time: 0m 0s\n",
      "\tTrain Loss: 0.029 | Train Acc: 99.68%\n",
      "\t Val. Loss: 1.292 |  Val. Acc: 73.21%\n",
      "Epoch: 329 | Epoch Time: 0m 0s\n",
      "\tTrain Loss: 0.028 | Train Acc: 99.70%\n",
      "\t Val. Loss: 1.279 |  Val. Acc: 73.76%\n",
      "Epoch: 330 | Epoch Time: 0m 0s\n",
      "\tTrain Loss: 0.028 | Train Acc: 99.68%\n",
      "\t Val. Loss: 1.290 |  Val. Acc: 73.03%\n",
      "Epoch: 331 | Epoch Time: 0m 0s\n",
      "\tTrain Loss: 0.027 | Train Acc: 99.68%\n",
      "\t Val. Loss: 1.290 |  Val. Acc: 73.39%\n",
      "Epoch: 332 | Epoch Time: 0m 0s\n",
      "\tTrain Loss: 0.027 | Train Acc: 99.70%\n",
      "\t Val. Loss: 1.302 |  Val. Acc: 72.94%\n",
      "Epoch: 333 | Epoch Time: 0m 0s\n",
      "\tTrain Loss: 0.026 | Train Acc: 99.72%\n",
      "\t Val. Loss: 1.308 |  Val. Acc: 73.30%\n",
      "Epoch: 334 | Epoch Time: 0m 0s\n",
      "\tTrain Loss: 0.026 | Train Acc: 99.72%\n",
      "\t Val. Loss: 1.359 |  Val. Acc: 73.03%\n",
      "Epoch: 335 | Epoch Time: 0m 0s\n",
      "\tTrain Loss: 0.025 | Train Acc: 99.70%\n",
      "\t Val. Loss: 1.322 |  Val. Acc: 73.49%\n",
      "Epoch: 336 | Epoch Time: 0m 0s\n",
      "\tTrain Loss: 0.025 | Train Acc: 99.68%\n",
      "\t Val. Loss: 1.323 |  Val. Acc: 73.67%\n",
      "Epoch: 337 | Epoch Time: 0m 0s\n",
      "\tTrain Loss: 0.024 | Train Acc: 99.77%\n",
      "\t Val. Loss: 1.366 |  Val. Acc: 73.67%\n",
      "Epoch: 338 | Epoch Time: 0m 0s\n",
      "\tTrain Loss: 0.022 | Train Acc: 99.77%\n",
      "\t Val. Loss: 1.366 |  Val. Acc: 73.85%\n",
      "Epoch: 339 | Epoch Time: 0m 0s\n",
      "\tTrain Loss: 0.021 | Train Acc: 99.79%\n",
      "\t Val. Loss: 1.373 |  Val. Acc: 73.85%\n",
      "Epoch: 340 | Epoch Time: 0m 0s\n",
      "\tTrain Loss: 0.021 | Train Acc: 99.70%\n",
      "\t Val. Loss: 1.362 |  Val. Acc: 73.49%\n",
      "Epoch: 341 | Epoch Time: 0m 0s\n",
      "\tTrain Loss: 0.021 | Train Acc: 99.70%\n",
      "\t Val. Loss: 1.394 |  Val. Acc: 73.21%\n",
      "Epoch: 342 | Epoch Time: 0m 0s\n",
      "\tTrain Loss: 0.019 | Train Acc: 99.72%\n",
      "\t Val. Loss: 1.380 |  Val. Acc: 73.49%\n",
      "Epoch: 343 | Epoch Time: 0m 0s\n",
      "\tTrain Loss: 0.019 | Train Acc: 99.82%\n",
      "\t Val. Loss: 1.389 |  Val. Acc: 73.49%\n",
      "Epoch: 344 | Epoch Time: 0m 0s\n",
      "\tTrain Loss: 0.019 | Train Acc: 99.79%\n",
      "\t Val. Loss: 1.410 |  Val. Acc: 73.67%\n",
      "Epoch: 345 | Epoch Time: 0m 0s\n",
      "\tTrain Loss: 0.019 | Train Acc: 99.77%\n",
      "\t Val. Loss: 1.402 |  Val. Acc: 73.03%\n",
      "Epoch: 346 | Epoch Time: 0m 0s\n",
      "\tTrain Loss: 0.018 | Train Acc: 99.75%\n",
      "\t Val. Loss: 1.402 |  Val. Acc: 73.58%\n",
      "Epoch: 347 | Epoch Time: 0m 0s\n",
      "\tTrain Loss: 0.018 | Train Acc: 99.79%\n",
      "\t Val. Loss: 1.418 |  Val. Acc: 73.49%\n",
      "Epoch: 348 | Epoch Time: 0m 0s\n",
      "\tTrain Loss: 0.017 | Train Acc: 99.79%\n",
      "\t Val. Loss: 1.444 |  Val. Acc: 73.76%\n",
      "Epoch: 349 | Epoch Time: 0m 0s\n",
      "\tTrain Loss: 0.017 | Train Acc: 99.82%\n",
      "\t Val. Loss: 1.415 |  Val. Acc: 73.85%\n",
      "Epoch: 350 | Epoch Time: 0m 0s\n",
      "\tTrain Loss: 0.017 | Train Acc: 99.84%\n",
      "\t Val. Loss: 1.423 |  Val. Acc: 73.67%\n",
      "Epoch: 351 | Epoch Time: 0m 0s\n",
      "\tTrain Loss: 0.017 | Train Acc: 99.84%\n",
      "\t Val. Loss: 1.459 |  Val. Acc: 73.39%\n",
      "Epoch: 352 | Epoch Time: 0m 0s\n",
      "\tTrain Loss: 0.017 | Train Acc: 99.79%\n",
      "\t Val. Loss: 1.434 |  Val. Acc: 73.58%\n",
      "Epoch: 353 | Epoch Time: 0m 0s\n",
      "\tTrain Loss: 0.017 | Train Acc: 99.77%\n",
      "\t Val. Loss: 1.433 |  Val. Acc: 73.76%\n",
      "Epoch: 354 | Epoch Time: 0m 0s\n",
      "\tTrain Loss: 0.017 | Train Acc: 99.82%\n",
      "\t Val. Loss: 1.487 |  Val. Acc: 73.67%\n",
      "Epoch: 355 | Epoch Time: 0m 0s\n",
      "\tTrain Loss: 0.016 | Train Acc: 99.82%\n",
      "\t Val. Loss: 1.509 |  Val. Acc: 73.49%\n",
      "Epoch: 356 | Epoch Time: 0m 0s\n",
      "\tTrain Loss: 0.016 | Train Acc: 99.82%\n",
      "\t Val. Loss: 1.466 |  Val. Acc: 73.85%\n",
      "Epoch: 357 | Epoch Time: 0m 0s\n",
      "\tTrain Loss: 0.015 | Train Acc: 99.84%\n",
      "\t Val. Loss: 1.615 |  Val. Acc: 73.49%\n",
      "Epoch: 358 | Epoch Time: 0m 0s\n",
      "\tTrain Loss: 0.016 | Train Acc: 99.82%\n",
      "\t Val. Loss: 1.459 |  Val. Acc: 73.94%\n",
      "Epoch: 359 | Epoch Time: 0m 0s\n",
      "\tTrain Loss: 0.017 | Train Acc: 99.84%\n",
      "\t Val. Loss: 1.485 |  Val. Acc: 73.67%\n",
      "Epoch: 360 | Epoch Time: 0m 0s\n",
      "\tTrain Loss: 0.015 | Train Acc: 99.84%\n",
      "\t Val. Loss: 1.586 |  Val. Acc: 73.58%\n",
      "Epoch: 361 | Epoch Time: 0m 0s\n",
      "\tTrain Loss: 0.015 | Train Acc: 99.86%\n",
      "\t Val. Loss: 1.672 |  Val. Acc: 73.58%\n",
      "Epoch: 362 | Epoch Time: 0m 0s\n",
      "\tTrain Loss: 0.015 | Train Acc: 99.84%\n",
      "\t Val. Loss: 1.683 |  Val. Acc: 73.85%\n",
      "Epoch: 363 | Epoch Time: 0m 0s\n",
      "\tTrain Loss: 0.015 | Train Acc: 99.86%\n",
      "\t Val. Loss: 1.715 |  Val. Acc: 73.58%\n",
      "Epoch: 364 | Epoch Time: 0m 0s\n",
      "\tTrain Loss: 0.014 | Train Acc: 99.86%\n",
      "\t Val. Loss: 1.705 |  Val. Acc: 73.85%\n",
      "Epoch: 365 | Epoch Time: 0m 0s\n",
      "\tTrain Loss: 0.014 | Train Acc: 99.84%\n",
      "\t Val. Loss: 1.712 |  Val. Acc: 73.58%\n",
      "Epoch: 366 | Epoch Time: 0m 0s\n",
      "\tTrain Loss: 0.014 | Train Acc: 99.84%\n",
      "\t Val. Loss: 1.728 |  Val. Acc: 73.85%\n",
      "Epoch: 367 | Epoch Time: 0m 0s\n",
      "\tTrain Loss: 0.014 | Train Acc: 99.84%\n",
      "\t Val. Loss: 1.756 |  Val. Acc: 73.67%\n",
      "Epoch: 368 | Epoch Time: 0m 0s\n",
      "\tTrain Loss: 0.014 | Train Acc: 99.86%\n",
      "\t Val. Loss: 1.753 |  Val. Acc: 73.85%\n",
      "Epoch: 369 | Epoch Time: 0m 0s\n",
      "\tTrain Loss: 0.014 | Train Acc: 99.86%\n",
      "\t Val. Loss: 1.763 |  Val. Acc: 73.67%\n",
      "Epoch: 370 | Epoch Time: 0m 0s\n",
      "\tTrain Loss: 0.014 | Train Acc: 99.84%\n",
      "\t Val. Loss: 1.769 |  Val. Acc: 73.76%\n",
      "Epoch: 371 | Epoch Time: 0m 0s\n",
      "\tTrain Loss: 0.014 | Train Acc: 99.82%\n",
      "\t Val. Loss: 1.777 |  Val. Acc: 73.67%\n",
      "Epoch: 372 | Epoch Time: 0m 0s\n",
      "\tTrain Loss: 0.013 | Train Acc: 99.86%\n",
      "\t Val. Loss: 1.777 |  Val. Acc: 73.85%\n",
      "Epoch: 373 | Epoch Time: 0m 0s\n",
      "\tTrain Loss: 0.013 | Train Acc: 99.86%\n",
      "\t Val. Loss: 1.789 |  Val. Acc: 73.76%\n",
      "Epoch: 374 | Epoch Time: 0m 0s\n",
      "\tTrain Loss: 0.013 | Train Acc: 99.86%\n",
      "\t Val. Loss: 1.783 |  Val. Acc: 73.76%\n",
      "Epoch: 375 | Epoch Time: 0m 0s\n",
      "\tTrain Loss: 0.013 | Train Acc: 99.84%\n",
      "\t Val. Loss: 1.811 |  Val. Acc: 73.58%\n",
      "Epoch: 376 | Epoch Time: 0m 0s\n",
      "\tTrain Loss: 0.013 | Train Acc: 99.86%\n",
      "\t Val. Loss: 1.809 |  Val. Acc: 73.67%\n",
      "Epoch: 377 | Epoch Time: 0m 0s\n",
      "\tTrain Loss: 0.013 | Train Acc: 99.84%\n",
      "\t Val. Loss: 1.811 |  Val. Acc: 74.04%\n",
      "Epoch: 378 | Epoch Time: 0m 0s\n",
      "\tTrain Loss: 0.013 | Train Acc: 99.89%\n",
      "\t Val. Loss: 1.805 |  Val. Acc: 74.31%\n",
      "Epoch: 379 | Epoch Time: 0m 0s\n",
      "\tTrain Loss: 0.013 | Train Acc: 99.84%\n",
      "\t Val. Loss: 1.814 |  Val. Acc: 73.76%\n",
      "Epoch: 380 | Epoch Time: 0m 0s\n",
      "\tTrain Loss: 0.013 | Train Acc: 99.84%\n",
      "\t Val. Loss: 1.820 |  Val. Acc: 74.04%\n",
      "Epoch: 381 | Epoch Time: 0m 0s\n",
      "\tTrain Loss: 0.012 | Train Acc: 99.86%\n",
      "\t Val. Loss: 1.822 |  Val. Acc: 73.76%\n",
      "Epoch: 382 | Epoch Time: 0m 0s\n",
      "\tTrain Loss: 0.012 | Train Acc: 99.86%\n",
      "\t Val. Loss: 1.830 |  Val. Acc: 73.85%\n",
      "Epoch: 383 | Epoch Time: 0m 0s\n",
      "\tTrain Loss: 0.012 | Train Acc: 99.89%\n",
      "\t Val. Loss: 1.837 |  Val. Acc: 74.04%\n"
     ]
    },
    {
     "name": "stdout",
     "output_type": "stream",
     "text": [
      "Epoch: 384 | Epoch Time: 0m 0s\n",
      "\tTrain Loss: 0.012 | Train Acc: 99.84%\n",
      "\t Val. Loss: 1.841 |  Val. Acc: 73.67%\n",
      "Epoch: 385 | Epoch Time: 0m 0s\n",
      "\tTrain Loss: 0.012 | Train Acc: 99.86%\n",
      "\t Val. Loss: 1.846 |  Val. Acc: 74.13%\n",
      "Epoch: 386 | Epoch Time: 0m 0s\n",
      "\tTrain Loss: 0.012 | Train Acc: 99.86%\n",
      "\t Val. Loss: 1.853 |  Val. Acc: 74.04%\n",
      "Epoch: 387 | Epoch Time: 0m 0s\n",
      "\tTrain Loss: 0.013 | Train Acc: 99.89%\n",
      "\t Val. Loss: 1.858 |  Val. Acc: 73.67%\n",
      "Epoch: 388 | Epoch Time: 0m 0s\n",
      "\tTrain Loss: 0.012 | Train Acc: 99.89%\n",
      "\t Val. Loss: 1.850 |  Val. Acc: 74.04%\n",
      "Epoch: 389 | Epoch Time: 0m 0s\n",
      "\tTrain Loss: 0.012 | Train Acc: 99.86%\n",
      "\t Val. Loss: 1.858 |  Val. Acc: 73.58%\n",
      "Epoch: 390 | Epoch Time: 0m 0s\n",
      "\tTrain Loss: 0.011 | Train Acc: 99.86%\n",
      "\t Val. Loss: 1.866 |  Val. Acc: 73.67%\n",
      "Epoch: 391 | Epoch Time: 0m 0s\n",
      "\tTrain Loss: 0.011 | Train Acc: 99.89%\n",
      "\t Val. Loss: 1.864 |  Val. Acc: 73.76%\n",
      "Epoch: 392 | Epoch Time: 0m 0s\n",
      "\tTrain Loss: 0.012 | Train Acc: 99.89%\n",
      "\t Val. Loss: 1.865 |  Val. Acc: 73.85%\n",
      "Epoch: 393 | Epoch Time: 0m 0s\n",
      "\tTrain Loss: 0.011 | Train Acc: 99.89%\n",
      "\t Val. Loss: 1.873 |  Val. Acc: 73.94%\n",
      "Epoch: 394 | Epoch Time: 0m 0s\n",
      "\tTrain Loss: 0.011 | Train Acc: 99.89%\n",
      "\t Val. Loss: 1.870 |  Val. Acc: 73.76%\n",
      "Epoch: 395 | Epoch Time: 0m 0s\n",
      "\tTrain Loss: 0.037 | Train Acc: 99.20%\n",
      "\t Val. Loss: 1.898 |  Val. Acc: 72.84%\n",
      "Epoch: 396 | Epoch Time: 0m 0s\n",
      "\tTrain Loss: 2.302 | Train Acc: 62.65%\n",
      "\t Val. Loss: 3.849 |  Val. Acc: 29.27%\n",
      "Epoch: 397 | Epoch Time: 0m 0s\n",
      "\tTrain Loss: 2.192 | Train Acc: 32.74%\n",
      "\t Val. Loss: 1.763 |  Val. Acc: 33.39%\n",
      "Epoch: 398 | Epoch Time: 0m 0s\n",
      "\tTrain Loss: 1.605 | Train Acc: 35.47%\n",
      "\t Val. Loss: 1.772 |  Val. Acc: 34.04%\n",
      "Epoch: 399 | Epoch Time: 0m 0s\n",
      "\tTrain Loss: 1.537 | Train Acc: 36.61%\n",
      "\t Val. Loss: 1.711 |  Val. Acc: 32.11%\n",
      "Epoch: 400 | Epoch Time: 0m 0s\n",
      "\tTrain Loss: 1.505 | Train Acc: 36.77%\n",
      "\t Val. Loss: 1.684 |  Val. Acc: 32.94%\n",
      "Epoch: 401 | Epoch Time: 0m 0s\n",
      "\tTrain Loss: 1.486 | Train Acc: 37.28%\n",
      "\t Val. Loss: 1.659 |  Val. Acc: 33.21%\n",
      "Epoch: 402 | Epoch Time: 0m 0s\n",
      "\tTrain Loss: 1.465 | Train Acc: 37.83%\n",
      "\t Val. Loss: 1.499 |  Val. Acc: 35.05%\n",
      "Epoch: 403 | Epoch Time: 0m 0s\n",
      "\tTrain Loss: 1.448 | Train Acc: 38.26%\n",
      "\t Val. Loss: 1.488 |  Val. Acc: 36.06%\n",
      "Epoch: 404 | Epoch Time: 0m 0s\n",
      "\tTrain Loss: 1.433 | Train Acc: 38.74%\n",
      "\t Val. Loss: 1.466 |  Val. Acc: 37.06%\n",
      "Epoch: 405 | Epoch Time: 0m 0s\n",
      "\tTrain Loss: 1.416 | Train Acc: 39.27%\n",
      "\t Val. Loss: 1.459 |  Val. Acc: 37.16%\n"
     ]
    }
   ],
   "source": [
    "N_EPOCHS = 500\n",
    "\n",
    "best_valid_loss = float('inf')\n",
    "\n",
    "for epoch in range(N_EPOCHS):\n",
    "\n",
    "    start_time = time.time()\n",
    "\n",
    "    train_loss, train_acc = train(model, train_iterator, optimizer, criterion)\n",
    "    valid_loss, valid_acc = evaluate(model, valid_iterator, criterion)\n",
    "\n",
    "    end_time = time.time()\n",
    "\n",
    "    epoch_mins, epoch_secs = epoch_time(start_time, end_time)\n",
    "\n",
    "    if valid_loss < best_valid_loss:\n",
    "        best_valid_loss = valid_loss\n",
    "        torch.save(model.state_dict(), 'tut1-model.pt')\n",
    "\n",
    "    print(f'Epoch: {epoch+1:02} | Epoch Time: {epoch_mins}m {epoch_secs}s')\n",
    "    print(f'\\tTrain Loss: {train_loss:.3f} | Train Acc: {train_acc*100:.2f}%')\n",
    "    print(f'\\t Val. Loss: {valid_loss:.3f} |  Val. Acc: {valid_acc*100:.2f}%')"
   ]
  },
  {
   "cell_type": "markdown",
   "metadata": {
    "id": "4zxuQwH0H1tV"
   },
   "source": [
    "You may have noticed the loss is not really decreasing and the accuracy is poor. This is due to several issues with the model which we'll improve in the next notebook.\n",
    "\n",
    "Finally, the metric we actually care about, the test loss and accuracy, which we get from our parameters that gave us the best validation loss."
   ]
  },
  {
   "cell_type": "code",
   "execution_count": 43,
   "metadata": {
    "colab": {
     "base_uri": "https://localhost:8080/"
    },
    "executionInfo": {
     "elapsed": 359,
     "status": "ok",
     "timestamp": 1708249387680,
     "user": {
      "displayName": "Wenya Wang",
      "userId": "11693014802286625875"
     },
     "user_tz": -480
    },
    "id": "49vGHz2WH1tV",
    "outputId": "6c315adb-780c-463d-a39c-78432f781544"
   },
   "outputs": [
    {
     "name": "stdout",
     "output_type": "stream",
     "text": [
      "Test Loss: 0.974 | Test Acc: 81.60%\n"
     ]
    }
   ],
   "source": [
    "model.load_state_dict(torch.load('tut1-model.pt'))\n",
    "\n",
    "test_loss, test_acc = evaluate(model, test_iterator, criterion)\n",
    "\n",
    "print(f'Test Loss: {test_loss:.3f} | Test Acc: {test_acc*100:.2f}%')"
   ]
  },
  {
   "cell_type": "markdown",
   "metadata": {
    "id": "fIO3ZeBgH1tV"
   },
   "source": [
    "## Next Steps\n",
    "\n",
    "In the next notebook, you will work on improving the model to give better performances according to the Assignment instructions (including but not limited to):\n",
    "- Configuration Optimization\n",
    "  \n",
    "  - different hyperparameters, e.g., optimizer, learning rate, batch size, size of the hidden vector\n",
    "  - regularization\n",
    "  - packed padded sequences\n",
    "\n",
    "- Input Embedding\n",
    "\n",
    "  - pre-trained word embeddings\n",
    "\n",
    "- Output Embedding\n",
    "\n",
    "  - sentence embedding computation\n",
    "\n",
    "- Architecture Optimization\n",
    "\n",
    "  - bidirectional RNN\n",
    "  - multi-layer RNN\n",
    "  - LSTM or GRU\n",
    "\n"
   ]
  }
 ],
 "metadata": {
  "accelerator": "GPU",
  "colab": {
   "provenance": []
  },
  "gpuClass": "standard",
  "kernelspec": {
   "display_name": "Python 3 (ipykernel)",
   "language": "python",
   "name": "python3"
  },
  "language_info": {
   "codemirror_mode": {
    "name": "ipython",
    "version": 3
   },
   "file_extension": ".py",
   "mimetype": "text/x-python",
   "name": "python",
   "nbconvert_exporter": "python",
   "pygments_lexer": "ipython3",
   "version": "3.11.2"
  }
 },
 "nbformat": 4,
 "nbformat_minor": 1
}
